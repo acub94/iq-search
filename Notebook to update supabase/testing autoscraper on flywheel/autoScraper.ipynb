{
 "cells": [
  {
   "cell_type": "code",
   "execution_count": 1,
   "metadata": {},
   "outputs": [
    {
     "name": "stdout",
     "output_type": "stream",
     "text": [
      "Note: you may need to restart the kernel to use updated packages.\n"
     ]
    }
   ],
   "source": [
    "pip install -q autoscraper"
   ]
  },
  {
   "cell_type": "code",
   "execution_count": 2,
   "metadata": {},
   "outputs": [],
   "source": [
    "from autoscraper import AutoScraper"
   ]
  },
  {
   "cell_type": "code",
   "execution_count": 22,
   "metadata": {},
   "outputs": [],
   "source": [
    "url = 'https://flywheeloutput.com/p/how-arrakis-finance-is-automating'\n",
    "wanted_list = ['How Uniswap V3 Improved Liquidity Allocation','The problem with V2 contracts is that no professional market maker provides liquidity in a 50/50 fashion. Liquidity is never a constant function on centralized exchanges. Depending on market conditions, market makers will adjust their bids and offers to maximize their potential returns. Seen below, bid and asks add up in a natural way based on the market makers assumptions on risk and availability of liquidity to arbitrage against.']"
   ]
  },
  {
   "cell_type": "code",
   "execution_count": 23,
   "metadata": {},
   "outputs": [],
   "source": [
    "scraper = AutoScraper()"
   ]
  },
  {
   "cell_type": "code",
   "execution_count": 24,
   "metadata": {},
   "outputs": [
    {
     "name": "stdout",
     "output_type": "stream",
     "text": [
      "['How Uniswap V3 Improved Liquidity Allocation', 'The problem with V2 contracts is that no professional market maker provides liquidity in a 50/50 fashion. Liquidity is never a constant function on centralized exchanges. Depending on market conditions, market makers will adjust their bids and offers to maximize their potential returns. Seen below, bid and asks add up in a natural way based on the market makers assumptions on risk and availability of liquidity to arbitrage against.']\n"
     ]
    }
   ],
   "source": [
    "result = scraper.build(url,wanted_list)\n",
    "print(result)"
   ]
  },
  {
   "cell_type": "markdown",
   "metadata": {},
   "source": [
    "#### Seems to be not working on flywheel"
   ]
  }
 ],
 "metadata": {
  "interpreter": {
   "hash": "9039ffaa441cdf0b8ef4cf5109f6ed9fbdc2903ec5a3d95939e636fb5ec3d92c"
  },
  "kernelspec": {
   "display_name": "Python 3.9.13 64-bit ('tensorflow')",
   "language": "python",
   "name": "python3"
  },
  "language_info": {
   "codemirror_mode": {
    "name": "ipython",
    "version": 3
   },
   "file_extension": ".py",
   "mimetype": "text/x-python",
   "name": "python",
   "nbconvert_exporter": "python",
   "pygments_lexer": "ipython3",
   "version": "3.9.13"
  },
  "orig_nbformat": 4
 },
 "nbformat": 4,
 "nbformat_minor": 2
}
