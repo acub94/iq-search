{
 "cells": [
  {
   "cell_type": "code",
   "execution_count": 1,
   "metadata": {},
   "outputs": [
    {
     "name": "stdout",
     "output_type": "stream",
     "text": [
      "Note: you may need to restart the kernel to use updated packages.\n"
     ]
    }
   ],
   "source": [
    "pip install -q langchain nest_asyncio"
   ]
  },
  {
   "cell_type": "code",
   "execution_count": 4,
   "metadata": {},
   "outputs": [],
   "source": [
    "# fixes a bug with asyncio and jupyter\n",
    "import nest_asyncio\n",
    "nest_asyncio.apply()\n"
   ]
  },
  {
   "cell_type": "code",
   "execution_count": 2,
   "metadata": {},
   "outputs": [],
   "source": [
    "from langchain.document_loaders.sitemap import SitemapLoader\n"
   ]
  },
  {
   "cell_type": "code",
   "execution_count": 5,
   "metadata": {},
   "outputs": [],
   "source": [
    "sitemap_loader = SitemapLoader(\n",
    "    web_path=\"https://flywheeloutput.com/sitemap.xml\")\n",
    "\n",
    "docs = sitemap_loader.load()\n"
   ]
  },
  {
   "cell_type": "code",
   "execution_count": 7,
   "metadata": {},
   "outputs": [
    {
     "data": {
      "text/plain": [
       "96"
      ]
     },
     "execution_count": 7,
     "metadata": {},
     "output_type": "execute_result"
    }
   ],
   "source": [
    "len(docs)"
   ]
  },
  {
   "cell_type": "code",
   "execution_count": 8,
   "metadata": {},
   "outputs": [
    {
     "data": {
      "text/plain": [
       "Document(page_content='\\n\\n\\n\\n\\n\\n\\n\\n\\n\\n\\n\\n\\n\\n\\n\\n\\n\\n\\n\\n\\n\\n\\n\\nArchive - Flywheel DeFi\\n\\n\\n\\n\\n\\n\\n\\n\\n\\n\\n\\n\\n\\nFlywheel DeFiSubscribeSign inHomeArchiveAboutNewTopDiscussionThis Week in Frax - April 1st-7thGovernance passed its first major initiative for promoting Frax awareness, StakeDAO sdETH to remain locked, Bunni to receive gauges.Samuel McCulloch19 hr ago1Share this postThis Week in Frax - April 1st-7thflywheeloutput.comCopy linkTwitterFacebookEmailManifold Finance mevETH Interview with Head of BD JamesAn exclusive interview about the hottest new LSD coming to EthereumSamuel McCullochApr 611Share this postManifold Finance mevETH Interview with Head of BD Jamesflywheeloutput.comCopy linkTwitterFacebookEmail4 Things We Learned From Our Interview with DeFi SurferDeFi Surfer shares his thoughts on Arbitrum, Silvergate, DeFi Adoption, and his words of advice to FraxSamuel McCullochApr 5Share this post4 Things We Learned From Our Interview with DeFi Surferflywheeloutput.comCopy linkTwitterFacebookEmail\"Same Same But Different -- Again\" - Frax Check #33This week... I call this week the \"Same Same But Different -- Again\" week. As the name suggests, this week we\\'re lingering here.kapital_kApr 4Share this post\"Same Same But Different -- Again\" - Frax Check #33flywheeloutput.comCopy linkTwitterFacebookEmailAnalysis: The Frax Stablecoin ThesisA guest analysis covering the entirety of Frax’s product suite and potential growth factors.ZhouYeMenApr 32Share this postAnalysis: The Frax Stablecoin Thesisflywheeloutput.comCopy linkTwitterFacebookEmailMarch 2023Frax V3, WETHR, Flux Finance AMO - This Week in Frax - March 31Frax V3, WETHR goes live on Curve, Coinbase sends a message, Flux AMO and more...Samuel McCullochMar 31Share this postFrax V3, WETHR, Flux Finance AMO - This Week in Frax - March 31flywheeloutput.comCopy linkTwitterFacebookEmailVaporwave Memes and Cherry Blossoms Trees: What AriZona Means To MeA personal introspection of modern culture, staying true to your values, and finding hope in a sea of dopamine-fueled negativity.DeFi DaveMar 30Share this postVaporwave Memes and Cherry Blossoms Trees: What AriZona Means To Meflywheeloutput.comCopy linkTwitterFacebookEmailTop 4 Takeaways From Our Interview With AnsemAnsem shares his thoughts about market cycles, Bitcoin, and how to develop a proper market thesisSamuel McCullochMar 291Share this postTop 4 Takeaways From Our Interview With Ansemflywheeloutput.comCopy linkTwitterFacebookEmail\"Finding Our Footing\" - FraxCheck #32This week... I call this week the “Finding Our Footing” week. As the name suggests, this week we\\'re trying to find solid ground.kapital_kMar 28Share this post\"Finding Our Footing\" - FraxCheck #32flywheeloutput.comCopy linkTwitterFacebookEmailDear Cathie Wood, Yes We Have An Inflation Targeting Stablecoin...Arthur Laffer is ahead of the curve with his thoughts on what the \"geniuses\" in crypto should build.Samuel McCullochMar 271Share this postDear Cathie Wood, Yes We Have An Inflation Targeting Stablecoin...flywheeloutput.comCopy linkTwitterFacebookEmailThis Week in Frax - March 19-24th, 2023 - EP #6A slow week, but that\\'s OK. After the events of the last few weeks, it was nice to catch a breather (and an airdrop).Samuel McCullochMar 241Share this postThis Week in Frax - March 19-24th, 2023 - EP #6flywheeloutput.comCopy linkTwitterFacebookEmailShould Money Be a Public Good?We cannot let a good tragedy be used to permanently alter the current monetary regime towards certain political outcomes.Samuel McCullochMar 231Share this postShould Money Be a Public Good?flywheeloutput.comCopy linkTwitterFacebookEmail© 2023 FlywheelpodPrivacy ∙ Terms ∙ Collection notice Start WritingGet the appSubstack\\xa0is the home for great writing\\n\\n\\n\\n\\n\\n\\n\\n\\n\\n\\n\\n        This site requires JavaScript to run correctly. Please turn on JavaScript or unblock scripts\\n    \\n\\n\\n\\n', metadata={'source': 'https://flywheeloutput.com/archive', 'loc': 'https://flywheeloutput.com/archive', 'changefreq': 'daily'})"
      ]
     },
     "execution_count": 8,
     "metadata": {},
     "output_type": "execute_result"
    }
   ],
   "source": [
    "docs[0]"
   ]
  },
  {
   "cell_type": "code",
   "execution_count": 9,
   "metadata": {},
   "outputs": [
    {
     "data": {
      "text/plain": [
       "Document(page_content='\\n\\n\\n\\n\\n\\n\\n\\n\\n\\n\\n\\n\\n\\n\\n\\n\\n\\n\\n\\n\\n\\n\\n\\n\"Finding Our Footing\" - FraxCheck #32 - by kapital_k\\n\\n\\n\\n\\n\\n\\n\\n\\n\\n\\n\\n\\n\\nFlywheel DeFiSubscribeSign inShare this post\"Finding Our Footing\" - FraxCheck #32flywheeloutput.comCopy linkTwitterFacebookEmail\"Finding Our Footing\" - FraxCheck #32This week... I call this week the “Finding Our Footing” week. As the name suggests, this week we\\'re trying to find solid ground. kapital_kMar 28Share this post\"Finding Our Footing\" - FraxCheck #32flywheeloutput.comCopy linkTwitterFacebookEmailTOP 3 TL;DRFraxBP - 114% of 3Pool, down 4% from last week’s FraxCheckFraxLend - Added two new pairs MKR and APE as well as a new v3 sfrxETH poolAMO - Currently at a loss of $180k, but could potentially be flat this month.Frax Supply & PegLet’s begin with the flagship product: FRAX stablecoin.  The supply remained flat this week.  However, the peg fluctuated violently between 1.002 and 0.991.  When checking the Curve markets, we swapped 100M of FRAX to receive an exchange rate of 0.9989 — not too bad.  We strive for a near 0.998+ exchange rate for similar-stable assets.  Collateralization & Decentralization RatiosThe Collateralization percent conveys how much FXS (algorithmic) is used as collateral.\\xa0 We’re unchanged at 92%.\\xa0 Following we have the Decentralize percent, which is also unchanged and are now sitting at 23.9%. \\xa0FraxBPFor this week we saw the FraxBP TVL dropped to $487.3M, which is -1.3% from last week.\\xa0 Also, we look at the volume traded.\\xa0 For context, in February we hit 49.3M, and in March we hit 210M – we gained 16M over the last week.\\xa0 This represents a 43% utilization rate.\\xa0 The stablecoin trading volume has been ridiculously profitable for Curve this month.  % of 3 poolWe are 114% of 3pool.\\xa0 We decreased by 4% since last week.\\xa0 We’re still above 100%!\\xa0 The FraxBasedPool is $487M versus 3pool\\'s $425M.\\xa0 What’s concerning is that the FraxBP dropped $6M and the 3Pool gained $6M.\\xa0 \\xa0Now, it wasn’t easy to get to the top but now we must stay at the top.\\xa0FrxETH supply and distributionNext, we have our FrxETH segment.\\xa0 We start by checking the frxETH supply.\\xa0 As always, it’s up only!\\xa0 The count is at 125,803, +3.9% WoW -- not terrible but we prefer a 5% WoW. \\xa0Let’s look at where the frxETHs are hanging out! \\xa0As a reminder, frxETH could be staked into the sfrxETH vault to earn the native ETH staking yield – which is printing a nice 6.4%.\\xa0 And in that vault we see that 62% of the frxETH is chilling and stacking ETH earning a nice native staking yield.\\xa0 The other place frxETH can be put to work is in the curve pool of frxETH/ETH, where 30% of the frxETH supply is currently at.\\xa0 The remainder 8% is floating in the ether somewhere. We think the yield parity between the sfrxETH and Curve pool is reflected in the current split.\\xa0 Unless Frax cranks up the bribes a bit more, we think we’ll see this heavier flow into sfrxETH.\\xa0 But enough talk of the supply and the yield, let’s get down to the peg.FrxETH pegPeg check is at a solid 0.9992.\\xa0 Let’s check the market.\\xa0 We tried to swap a 3500 frxETH which is roughly the amount of the largest frxETH holder and we get an exchange rate of 0.9976.\\xa0 Not too bad considering we got as low as 0.9950 two weeks ago.\\xa0 But we still don’t like to see a number 7 there, these are similar assets so the exchange rate should remain above 0.998.\\xa0 Fortunately, the TVL is quite sticky at $121M, still 9 SOLID FIGURES. \\xa0So far so good, let’s see how we stack up with the other competitors.Competitive & Yield Landscape Here we layout the LSD market landscape.\\xa0 We have Lido in the lead with 74.5% of the market.\\xa0 Though, Frax REMAINED the highest 30-day delta in the group, at +22.2%.\\xa0 FrxETH’s market share is at 1.6%, gained 0.05% over the last week!.\\xa0 Let’s keep fighting the good fight!\\xa0 On the yield landscape, frxETH pretty much dominates with 6.4% and the closest competitor is Stakewise with 4.8%. \\xa0FPIQuick refresher, FPI is a Frax Price Index, which is a stablecoin that tracks inflation.\\xa0 This is the first product of its kind on chain.\\xa0 Let’s run through the numbers!\\xa0 So far, we have 82.3M supply of FPI, the current inflation reading is 6.0% and the FPI peg is ABOVE by 0.37% of its mandated peg.\\xa0 The FPI Treasury is used to generate yield to maintain the peg.\\xa0 FPI’s treasury is at $88.3M, which is comprised of FPI, FRAX, and a small percentage holding of FXS.\\xa0 95% of the treasury is in the FPI/FRAX convex.\\xa0 All these assets are put to work just like in the AMO to earn that needed yield to keep FPI at the inflation peg.\\xa0 These assets managed to produce $4.3M above the amount needed to maintain FPI at the peg, therefore we have what we like to call “equity” for the veFPIS of $4.3M.FraxlendNext we have our FraxLend section.\\xa0 We remained pretty flat at $143M in TVL with $37M in borrowed FRAX.\\xa0 The Utilization rate increased by 11% from a week ago, now its at 66%.\\xa0 From the two charts, we see that the Supply Value of FRAX just took a nose dive alongside with the Collateral Value but both saw a nice bump, and now flattening.\\xa0 We pretty much hit reset on both of these values and started near the beginning of FraxLend again.\\xa0 Currently, there are many pairs being offered on FraxLend but more and more are being added.\\xa0 Also look at the current highest Supply APY we have none other than the sfrxETH/FRAX pair but note this is the v2 and we’re migrating to v3.\\xa0 Then right behind it is the gOHM/FRAX pair at 8.8%.\\xa0 A little further down the list you see there’s the CRV/FRAX pool with a juicy 7.1% APY.\\xa0 Some new pairs are the MKR and APE pair!\\xa0FraxswapThe last leg of the Stablecoin Maximalism, the DEX aka FraxSwap.\\xa0 Per DeFi Llama, the TVL is $66M with a 149M monthly volume for March. We took the Monthly volume divided by the TVL to get a utilization rate of 225% — pretty well utilized for a DEX no one knows about.AMOsFinally, let’s jump into our profitability section starting with an overview of the AMO holdings.  The grand total of all AMOs is at $916M, we experienced a 0.5% decrease over the last week.\\xa0 The Curve AMO is $623M, Liquidity AMO is at $72M, Lending $85M, and Investor $131M. \\xa0It’s going to take us quite some time to regain all these assets into the treasury from the shakeout from USDC but Flywheel DeFi will be here every week reporting in on every step of the journey.Revenue, Expenses, ProfitOnto the profitability of the Convex AMO.\\xa0 For the month of March, we have $1.43M in revenue and $1.6M in bribe expense, which means we are at a loss of $180k for March.\\xa0 The lionshare of the revenue came from CRV at $1.23M, that’s 86% of the Convex AMO revenue.  We believe we may end the month very close to being flat!\\xa0 Will report back next week with the final count.ACCESS TO SLIDES: HereNot financial or tax advice. This article is strictly educational and is not investment advice or a solicitation to buy or sell any assets or to make any financial decisions. This post is not tax advice. Talk to your accountant. Do your own research.Share this post\"Finding Our Footing\" - FraxCheck #32flywheeloutput.comCopy linkTwitterFacebookEmailCommentsTopNewCommunityNo postsReady for more?Subscribe© 2023 FlywheelpodPrivacy ∙ Terms ∙ Collection notice Start WritingGet the appSubstack\\xa0is the home for great writing\\n\\n\\n\\n\\n\\n\\n\\n\\n\\n\\n\\n        This site requires JavaScript to run correctly. Please turn on JavaScript or unblock scripts\\n    \\n\\n\\n\\n', metadata={'source': 'https://flywheeloutput.com/p/finding-our-footing-fraxcheck-32', 'loc': 'https://flywheeloutput.com/p/finding-our-footing-fraxcheck-32', 'lastmod': '2023-03-28', 'changefreq': 'monthly'})"
      ]
     },
     "execution_count": 9,
     "metadata": {},
     "output_type": "execute_result"
    }
   ],
   "source": [
    "docs[10]"
   ]
  },
  {
   "cell_type": "code",
   "execution_count": 10,
   "metadata": {},
   "outputs": [],
   "source": [
    "import re\n",
    "from typing import List\n",
    "\n",
    "HEADING_REGEX = re.compile(r'^#+ .*$')\n",
    "WIDGET_REGEX = re.compile(r'^\\$\\$widget\\d(.*?\\))\\$\\$$')\n",
    "MARKDOWN_LINK_REGEX = re.compile(r'^\\[(.*)\\]\\(.*\\)$')\n",
    "MARKDOWN_IMAGE_REGEX = re.compile(r'^!\\[.*\\]\\(.*\\)$')\n",
    "CITATION_REGEX = re.compile(\n",
    "    r'\\[\\\\\\[\\d+\\\\\\]\\]\\(#cite-id-[a-z0-9]+\\)', flags=re.MULTILINE)\n",
    "\n",
    "MAX_PARA_COUNT = 3\n",
    "MAX_CONTENT_LENGTH = 10000\n",
    "\n",
    "\n",
    "def sanitize_content(content: str) -> str:\n",
    "    \"\"\"\n",
    "    This function takes a string `content` that represents a Markdown document.\n",
    "    It splits the document into paragraphs, filters out any paragraphs that do\n",
    "    not contain valid text, removes Markdown syntax from the remaining paragraphs,\n",
    "    and joins them back together into a string. The resulting string is trimmed\n",
    "    to a maximum length and returned.\n",
    "    \"\"\"\n",
    "\n",
    "    content_paragraphs = content.split('\\n\\n')\n",
    "    filtered_paragraphs = [\n",
    "        p for p in content_paragraphs if is_valid_paragraph(p)\n",
    "    ]\n",
    "    sanitized_paragraphs = []\n",
    "    count = 0\n",
    "\n",
    "    for paragraph in filtered_paragraphs:\n",
    "        if count >= MAX_PARA_COUNT:\n",
    "            break\n",
    "\n",
    "        trimmed_paragraph = paragraph.strip()\n",
    "        plain_text_paragraph = remove_markdown_syntax(trimmed_paragraph)\n",
    "        sanitized_paragraph = CITATION_REGEX.sub('', plain_text_paragraph)\n",
    "        is_heading = HEADING_REGEX.match(trimmed_paragraph) is not None\n",
    "\n",
    "        if not is_heading:\n",
    "            sanitized_paragraphs.append(sanitized_paragraph)\n",
    "            count += 1\n",
    "        else:\n",
    "            sanitized_paragraphs.append(trimmed_paragraph)\n",
    "\n",
    "    trimmed_content = '\\n\\n'.join(sanitized_paragraphs)[:MAX_CONTENT_LENGTH]\n",
    "\n",
    "    return trimmed_content\n",
    "\n",
    "\n",
    "def is_valid_paragraph(paragraph: str) -> bool:\n",
    "    \"\"\"\n",
    "    This function takes a string `paragraph` and checks if it is a valid\n",
    "    paragraph. A valid paragraph is one that contains text (i.e., is not empty),\n",
    "    and does not contain Markdown image syntax, link syntax, or widget syntax.\n",
    "    \"\"\"\n",
    "\n",
    "    para = paragraph.strip()\n",
    "    return (\n",
    "        len(para) != 0\n",
    "        and not MARKDOWN_IMAGE_REGEX.match(para)\n",
    "        and not MARKDOWN_LINK_REGEX.match(para)\n",
    "        and not WIDGET_REGEX.match(para)\n",
    "    )\n",
    "\n",
    "\n",
    "def remove_markdown_syntax(text: str) -> str:\n",
    "    \"\"\"\n",
    "    This function takes a string `paragraph` and checks if it is a valid\n",
    "    paragraph. A valid paragraph is one that contains text (i.e., is not empty),\n",
    "    and does not contain Markdown image syntax, link syntax, or widget syntax.\n",
    "    \"\"\"\n",
    "\n",
    "    # Remove emphasis syntax\n",
    "    text = re.sub(r'\\*\\*?(.*?)\\*\\*?', r'\\1', text)\n",
    "    text = re.sub(r'__(.*?)__', r'\\1', text)\n",
    "\n",
    "    # Remove code syntax\n",
    "    text = re.sub(r'`(.+?)`', r'\\1', text)\n",
    "\n",
    "    # Remove links\n",
    "    text = re.sub(r'\\[(.*?)\\]\\((.*?)\\)', r'\\1', text)\n",
    "\n",
    "    # Remove images\n",
    "    text = re.sub(r'!\\[(.*?)\\]\\((.*?)\\)', r'', text)\n",
    "\n",
    "    return text\n",
    "\n",
    "\n",
    "def clean(string):\n",
    "    sample = string\n",
    "\n",
    "    cleaned = re.sub(r'\\xa0', ' ',\n",
    "                     re.sub(r'\\s{2,}', ' ',\n",
    "                            re.sub(r'\\>', '',\n",
    "                                   re.sub(r'\\$\\$widget0 YOUTUBE@VID\\$\\$', '',\n",
    "                                          re.sub(r'[#*]+', '',\n",
    "                                                 re.sub(r'\\\\\\[\\d+\\\\\\]', '',\n",
    "                                                        sample))))))\n",
    "    return cleaned\n"
   ]
  },
  {
   "cell_type": "code",
   "execution_count": 21,
   "metadata": {},
   "outputs": [
    {
     "data": {
      "text/plain": [
       "langchain.schema.Document"
      ]
     },
     "execution_count": 21,
     "metadata": {},
     "output_type": "execute_result"
    }
   ],
   "source": [
    "type(docs[0])"
   ]
  },
  {
   "cell_type": "code",
   "execution_count": 23,
   "metadata": {},
   "outputs": [
    {
     "data": {
      "text/plain": [
       "'Archive - Flywheel DeFi\\n\\nFlywheel DeFiSubscribeSign inHomeArchiveAboutNewTopDiscussionThis Week in Frax - April 1st-7thGovernance passed its first major initiative for promoting Frax awareness, StakeDAO sdETH to remain locked, Bunni to receive gauges.Samuel McCulloch19 hr ago1Share this postThis Week in Frax - April 1st-7thflywheeloutput.comCopy linkTwitterFacebookEmailManifold Finance mevETH Interview with Head of BD JamesAn exclusive interview about the hottest new LSD coming to EthereumSamuel McCullochApr 611Share this postManifold Finance mevETH Interview with Head of BD Jamesflywheeloutput.comCopy linkTwitterFacebookEmail4 Things We Learned From Our Interview with DeFi SurferDeFi Surfer shares his thoughts on Arbitrum, Silvergate, DeFi Adoption, and his words of advice to FraxSamuel McCullochApr 5Share this post4 Things We Learned From Our Interview with DeFi Surferflywheeloutput.comCopy linkTwitterFacebookEmail\"Same Same But Different -- Again\" - Frax Check #33This week... I call this week the \"Same Same But Different -- Again\" week. As the name suggests, this week we\\'re lingering here.kapital_kApr 4Share this post\"Same Same But Different -- Again\" - Frax Check #33flywheeloutput.comCopy linkTwitterFacebookEmailAnalysis: The Frax Stablecoin ThesisA guest analysis covering the entirety of Frax’s product suite and potential growth factors.ZhouYeMenApr 32Share this postAnalysis: The Frax Stablecoin Thesisflywheeloutput.comCopy linkTwitterFacebookEmailMarch 2023Frax V3, WETHR, Flux Finance AMO - This Week in Frax - March 31Frax V3, WETHR goes live on Curve, Coinbase sends a message, Flux AMO and more...Samuel McCullochMar 31Share this postFrax V3, WETHR, Flux Finance AMO - This Week in Frax - March 31flywheeloutput.comCopy linkTwitterFacebookEmailVaporwave Memes and Cherry Blossoms Trees: What AriZona Means To MeA personal introspection of modern culture, staying true to your values, and finding hope in a sea of dopamine-fueled negativity.DeFi DaveMar 30Share this postVaporwave Memes and Cherry Blossoms Trees: What AriZona Means To Meflywheeloutput.comCopy linkTwitterFacebookEmailTop 4 Takeaways From Our Interview With AnsemAnsem shares his thoughts about market cycles, Bitcoin, and how to develop a proper market thesisSamuel McCullochMar 291Share this postTop 4 Takeaways From Our Interview With Ansemflywheeloutput.comCopy linkTwitterFacebookEmail\"Finding Our Footing\" - FraxCheck #32This week... I call this week the “Finding Our Footing” week. As the name suggests, this week we\\'re trying to find solid ground.kapital_kMar 28Share this post\"Finding Our Footing\" - FraxCheck #32flywheeloutput.comCopy linkTwitterFacebookEmailDear Cathie Wood, Yes We Have An Inflation Targeting Stablecoin...Arthur Laffer is ahead of the curve with his thoughts on what the \"geniuses\" in crypto should build.Samuel McCullochMar 271Share this postDear Cathie Wood, Yes We Have An Inflation Targeting Stablecoin...flywheeloutput.comCopy linkTwitterFacebookEmailThis Week in Frax - March 19-24th, 2023 - EP #6A slow week, but that\\'s OK. After the events of the last few weeks, it was nice to catch a breather (and an airdrop).Samuel McCullochMar 241Share this postThis Week in Frax - March 19-24th, 2023 - EP #6flywheeloutput.comCopy linkTwitterFacebookEmailShould Money Be a Public Good?We cannot let a good tragedy be used to permanently alter the current monetary regime towards certain political outcomes.Samuel McCullochMar 231Share this postShould Money Be a Public Good?flywheeloutput.comCopy linkTwitterFacebookEmail© 2023 FlywheelpodPrivacy ∙ Terms ∙ Collection notice Start WritingGet the appSubstack\\xa0is the home for great writing\\n\\nThis site requires JavaScript to run correctly. Please turn on JavaScript or unblock scripts'"
      ]
     },
     "execution_count": 23,
     "metadata": {},
     "output_type": "execute_result"
    }
   ],
   "source": [
    "sanitize_content(docs[0].page_content)"
   ]
  },
  {
   "cell_type": "code",
   "execution_count": 24,
   "metadata": {},
   "outputs": [
    {
     "data": {
      "text/plain": [
       "'Archive - Flywheel DeFi Flywheel DeFiSubscribeSign inHomeArchiveAboutNewTopDiscussionThis Week in Frax - April 1st-7thGovernance passed its first major initiative for promoting Frax awareness, StakeDAO sdETH to remain locked, Bunni to receive gauges.Samuel McCulloch19 hr ago1Share this postThis Week in Frax - April 1st-7thflywheeloutput.comCopy linkTwitterFacebookEmailManifold Finance mevETH Interview with Head of BD JamesAn exclusive interview about the hottest new LSD coming to EthereumSamuel McCullochApr 611Share this postManifold Finance mevETH Interview with Head of BD Jamesflywheeloutput.comCopy linkTwitterFacebookEmail4 Things We Learned From Our Interview with DeFi SurferDeFi Surfer shares his thoughts on Arbitrum, Silvergate, DeFi Adoption, and his words of advice to FraxSamuel McCullochApr 5Share this post4 Things We Learned From Our Interview with DeFi Surferflywheeloutput.comCopy linkTwitterFacebookEmail\"Same Same But Different -- Again\" - Frax Check 33This week... I call this week the \"Same Same But Different -- Again\" week. As the name suggests, this week we\\'re lingering here.kapital_kApr 4Share this post\"Same Same But Different -- Again\" - Frax Check 33flywheeloutput.comCopy linkTwitterFacebookEmailAnalysis: The Frax Stablecoin ThesisA guest analysis covering the entirety of Frax’s product suite and potential growth factors.ZhouYeMenApr 32Share this postAnalysis: The Frax Stablecoin Thesisflywheeloutput.comCopy linkTwitterFacebookEmailMarch 2023Frax V3, WETHR, Flux Finance AMO - This Week in Frax - March 31Frax V3, WETHR goes live on Curve, Coinbase sends a message, Flux AMO and more...Samuel McCullochMar 31Share this postFrax V3, WETHR, Flux Finance AMO - This Week in Frax - March 31flywheeloutput.comCopy linkTwitterFacebookEmailVaporwave Memes and Cherry Blossoms Trees: What AriZona Means To MeA personal introspection of modern culture, staying true to your values, and finding hope in a sea of dopamine-fueled negativity.DeFi DaveMar 30Share this postVaporwave Memes and Cherry Blossoms Trees: What AriZona Means To Meflywheeloutput.comCopy linkTwitterFacebookEmailTop 4 Takeaways From Our Interview With AnsemAnsem shares his thoughts about market cycles, Bitcoin, and how to develop a proper market thesisSamuel McCullochMar 291Share this postTop 4 Takeaways From Our Interview With Ansemflywheeloutput.comCopy linkTwitterFacebookEmail\"Finding Our Footing\" - FraxCheck 32This week... I call this week the “Finding Our Footing” week. As the name suggests, this week we\\'re trying to find solid ground.kapital_kMar 28Share this post\"Finding Our Footing\" - FraxCheck 32flywheeloutput.comCopy linkTwitterFacebookEmailDear Cathie Wood, Yes We Have An Inflation Targeting Stablecoin...Arthur Laffer is ahead of the curve with his thoughts on what the \"geniuses\" in crypto should build.Samuel McCullochMar 271Share this postDear Cathie Wood, Yes We Have An Inflation Targeting Stablecoin...flywheeloutput.comCopy linkTwitterFacebookEmailThis Week in Frax - March 19-24th, 2023 - EP 6A slow week, but that\\'s OK. After the events of the last few weeks, it was nice to catch a breather (and an airdrop).Samuel McCullochMar 241Share this postThis Week in Frax - March 19-24th, 2023 - EP 6flywheeloutput.comCopy linkTwitterFacebookEmailShould Money Be a Public Good?We cannot let a good tragedy be used to permanently alter the current monetary regime towards certain political outcomes.Samuel McCullochMar 231Share this postShould Money Be a Public Good?flywheeloutput.comCopy linkTwitterFacebookEmail© 2023 FlywheelpodPrivacy ∙ Terms ∙ Collection notice Start WritingGet the appSubstack is the home for great writing This site requires JavaScript to run correctly. Please turn on JavaScript or unblock scripts'"
      ]
     },
     "execution_count": 24,
     "metadata": {},
     "output_type": "execute_result"
    }
   ],
   "source": [
    "clean(sanitize_content(docs[0].page_content))\n"
   ]
  },
  {
   "cell_type": "code",
   "execution_count": null,
   "metadata": {},
   "outputs": [],
   "source": []
  }
 ],
 "metadata": {
  "interpreter": {
   "hash": "9039ffaa441cdf0b8ef4cf5109f6ed9fbdc2903ec5a3d95939e636fb5ec3d92c"
  },
  "kernelspec": {
   "display_name": "Python 3.9.13 64-bit ('tensorflow')",
   "language": "python",
   "name": "python3"
  },
  "language_info": {
   "codemirror_mode": {
    "name": "ipython",
    "version": 3
   },
   "file_extension": ".py",
   "mimetype": "text/x-python",
   "name": "python",
   "nbconvert_exporter": "python",
   "pygments_lexer": "ipython3",
   "version": "3.9.13"
  },
  "orig_nbformat": 4
 },
 "nbformat": 4,
 "nbformat_minor": 2
}
