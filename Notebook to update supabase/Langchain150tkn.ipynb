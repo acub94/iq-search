{
  "nbformat": 4,
  "nbformat_minor": 0,
  "metadata": {
    "colab": {
      "provenance": []
    },
    "kernelspec": {
      "name": "python3",
      "display_name": "Python 3"
    },
    "language_info": {
      "name": "python"
    },
    "accelerator": "GPU",
    "gpuClass": "standard"
  },
  "cells": [
    {
      "cell_type": "code",
      "execution_count": 1,
      "metadata": {
        "id": "oG4duRF_vqk3"
      },
      "outputs": [],
      "source": [
        "def get_wikis():\n",
        "    # data frame instance for storing each row\n",
        "    dataFrame = pd.DataFrame(columns=['id', 'title', 'content'])\n",
        "    \n",
        "    # looping for fetching all available wikis fron DB\n",
        "    # manually tested for max ranges of limit & offeset,\n",
        "    # came out to be limit = 50 & offeset = 1337\n",
        "    for offset in range(0,1340,50):\n",
        "        # graphql db url for everpedia wikis\n",
        "        url = \"https://graph.everipedia.org/graphql\"\n",
        "        # payload \n",
        "        query = \"\"\"{\n",
        "                      wikis(limit:50,offset:\"\"\"+str(offset)+\"\"\") {\n",
        "                      id\n",
        "                      title\n",
        "                      content\n",
        "                    }\n",
        "                }\"\"\"\n",
        "        \n",
        "        # sending request\n",
        "        response = requests.post(url=url,json={\"query\":query})\n",
        "        #time.sleep(0.5)\n",
        "        # storing newly fetched data into a data frame\n",
        "        freshDf = pd.DataFrame(response.json()['data']['wikis'])\n",
        "        \n",
        "        # concatenating both old & new dataframes as one\n",
        "        dataFrame = pd.concat([dataFrame, freshDf],axis=0,ignore_index=True)\n",
        "        \n",
        "    # DB may return same wiki multiple times from each request, so drop duplicates if any  \n",
        "    dataFrame = dataFrame.drop_duplicates(subset=['id']) # id is the unique identifier\n",
        "    \n",
        "    return dataFrame"
      ]
    },
    {
      "cell_type": "code",
      "source": [
        "!pip install pandas"
      ],
      "metadata": {
        "colab": {
          "base_uri": "https://localhost:8080/"
        },
        "id": "tuq5o9TYv8dG",
        "outputId": "c26e07e6-e240-4bfe-cc05-1eec98c4a0d8"
      },
      "execution_count": 2,
      "outputs": [
        {
          "output_type": "stream",
          "name": "stdout",
          "text": [
            "Looking in indexes: https://pypi.org/simple, https://us-python.pkg.dev/colab-wheels/public/simple/\n",
            "Requirement already satisfied: pandas in /usr/local/lib/python3.9/dist-packages (1.4.4)\n",
            "Requirement already satisfied: numpy>=1.18.5 in /usr/local/lib/python3.9/dist-packages (from pandas) (1.22.4)\n",
            "Requirement already satisfied: python-dateutil>=2.8.1 in /usr/local/lib/python3.9/dist-packages (from pandas) (2.8.2)\n",
            "Requirement already satisfied: pytz>=2020.1 in /usr/local/lib/python3.9/dist-packages (from pandas) (2022.7.1)\n",
            "Requirement already satisfied: six>=1.5 in /usr/local/lib/python3.9/dist-packages (from python-dateutil>=2.8.1->pandas) (1.16.0)\n"
          ]
        }
      ]
    },
    {
      "cell_type": "code",
      "source": [
        "import pandas as pd\n",
        "import requests\n",
        "import time"
      ],
      "metadata": {
        "id": "CpVLFpEowEbc"
      },
      "execution_count": 3,
      "outputs": []
    },
    {
      "cell_type": "code",
      "source": [
        "df = get_wikis()"
      ],
      "metadata": {
        "id": "qch-nSNbwM62"
      },
      "execution_count": 4,
      "outputs": []
    },
    {
      "cell_type": "code",
      "source": [
        "df"
      ],
      "metadata": {
        "colab": {
          "base_uri": "https://localhost:8080/",
          "height": 423
        },
        "id": "u6cOYdwSwOuZ",
        "outputId": "3293487b-aaa8-4605-9e0e-cee1b16683df"
      },
      "execution_count": 5,
      "outputs": [
        {
          "output_type": "execute_result",
          "data": {
            "text/plain": [
              "                      id               title  \\\n",
              "0                  yi-he               Yi He   \n",
              "1           arbitrum-arb      Arbitrum (ARB)   \n",
              "2                   comp                COMP   \n",
              "3               compound            Compound   \n",
              "4               dogecoin            Dogecoin   \n",
              "...                  ...                 ...   \n",
              "1345                ddex                DDEX   \n",
              "1346         chibi-dinos         Chibi Dinos   \n",
              "1347  bulls-on-the-block  Bulls on the Block   \n",
              "1348      bryan-brinkman      Bryan Brinkman   \n",
              "1349  bold-badgers-squad  Bold Badgers Squad   \n",
              "\n",
              "                                                content  \n",
              "0     **Yi He** is a Chinese entrepreneur, and inves...  \n",
              "1     **ARB** is the native governance token of [Arb...  \n",
              "2     **COMP** is an [ERC-20](https://iq.wiki/wiki/e...  \n",
              "3     **Compound** is a [DeFi](https://iq.wiki/wiki/...  \n",
              "4     **Dogecoin** is a peer-to-peer, open-source [c...  \n",
              "...                                                 ...  \n",
              "1345  DDEX.io is the first Decentralized Exchange (D...  \n",
              "1346  Chibi Dinos are ten thousand (10,000) cute NFT...  \n",
              "1347  Bulls on the Block is a Non-Fungible Tokens (N...  \n",
              "1348  Bryan Brinkman is a cartoon animator from the ...  \n",
              "1349  Bold Badgers Squad is a collection of 10,000 u...  \n",
              "\n",
              "[1350 rows x 3 columns]"
            ],
            "text/html": [
              "\n",
              "  <div id=\"df-2b7a996e-876c-474f-abf1-70baaed5532f\">\n",
              "    <div class=\"colab-df-container\">\n",
              "      <div>\n",
              "<style scoped>\n",
              "    .dataframe tbody tr th:only-of-type {\n",
              "        vertical-align: middle;\n",
              "    }\n",
              "\n",
              "    .dataframe tbody tr th {\n",
              "        vertical-align: top;\n",
              "    }\n",
              "\n",
              "    .dataframe thead th {\n",
              "        text-align: right;\n",
              "    }\n",
              "</style>\n",
              "<table border=\"1\" class=\"dataframe\">\n",
              "  <thead>\n",
              "    <tr style=\"text-align: right;\">\n",
              "      <th></th>\n",
              "      <th>id</th>\n",
              "      <th>title</th>\n",
              "      <th>content</th>\n",
              "    </tr>\n",
              "  </thead>\n",
              "  <tbody>\n",
              "    <tr>\n",
              "      <th>0</th>\n",
              "      <td>yi-he</td>\n",
              "      <td>Yi He</td>\n",
              "      <td>**Yi He** is a Chinese entrepreneur, and inves...</td>\n",
              "    </tr>\n",
              "    <tr>\n",
              "      <th>1</th>\n",
              "      <td>arbitrum-arb</td>\n",
              "      <td>Arbitrum (ARB)</td>\n",
              "      <td>**ARB** is the native governance token of [Arb...</td>\n",
              "    </tr>\n",
              "    <tr>\n",
              "      <th>2</th>\n",
              "      <td>comp</td>\n",
              "      <td>COMP</td>\n",
              "      <td>**COMP** is an [ERC-20](https://iq.wiki/wiki/e...</td>\n",
              "    </tr>\n",
              "    <tr>\n",
              "      <th>3</th>\n",
              "      <td>compound</td>\n",
              "      <td>Compound</td>\n",
              "      <td>**Compound** is a [DeFi](https://iq.wiki/wiki/...</td>\n",
              "    </tr>\n",
              "    <tr>\n",
              "      <th>4</th>\n",
              "      <td>dogecoin</td>\n",
              "      <td>Dogecoin</td>\n",
              "      <td>**Dogecoin** is a peer-to-peer, open-source [c...</td>\n",
              "    </tr>\n",
              "    <tr>\n",
              "      <th>...</th>\n",
              "      <td>...</td>\n",
              "      <td>...</td>\n",
              "      <td>...</td>\n",
              "    </tr>\n",
              "    <tr>\n",
              "      <th>1345</th>\n",
              "      <td>ddex</td>\n",
              "      <td>DDEX</td>\n",
              "      <td>DDEX.io is the first Decentralized Exchange (D...</td>\n",
              "    </tr>\n",
              "    <tr>\n",
              "      <th>1346</th>\n",
              "      <td>chibi-dinos</td>\n",
              "      <td>Chibi Dinos</td>\n",
              "      <td>Chibi Dinos are ten thousand (10,000) cute NFT...</td>\n",
              "    </tr>\n",
              "    <tr>\n",
              "      <th>1347</th>\n",
              "      <td>bulls-on-the-block</td>\n",
              "      <td>Bulls on the Block</td>\n",
              "      <td>Bulls on the Block is a Non-Fungible Tokens (N...</td>\n",
              "    </tr>\n",
              "    <tr>\n",
              "      <th>1348</th>\n",
              "      <td>bryan-brinkman</td>\n",
              "      <td>Bryan Brinkman</td>\n",
              "      <td>Bryan Brinkman is a cartoon animator from the ...</td>\n",
              "    </tr>\n",
              "    <tr>\n",
              "      <th>1349</th>\n",
              "      <td>bold-badgers-squad</td>\n",
              "      <td>Bold Badgers Squad</td>\n",
              "      <td>Bold Badgers Squad is a collection of 10,000 u...</td>\n",
              "    </tr>\n",
              "  </tbody>\n",
              "</table>\n",
              "<p>1350 rows × 3 columns</p>\n",
              "</div>\n",
              "      <button class=\"colab-df-convert\" onclick=\"convertToInteractive('df-2b7a996e-876c-474f-abf1-70baaed5532f')\"\n",
              "              title=\"Convert this dataframe to an interactive table.\"\n",
              "              style=\"display:none;\">\n",
              "        \n",
              "  <svg xmlns=\"http://www.w3.org/2000/svg\" height=\"24px\"viewBox=\"0 0 24 24\"\n",
              "       width=\"24px\">\n",
              "    <path d=\"M0 0h24v24H0V0z\" fill=\"none\"/>\n",
              "    <path d=\"M18.56 5.44l.94 2.06.94-2.06 2.06-.94-2.06-.94-.94-2.06-.94 2.06-2.06.94zm-11 1L8.5 8.5l.94-2.06 2.06-.94-2.06-.94L8.5 2.5l-.94 2.06-2.06.94zm10 10l.94 2.06.94-2.06 2.06-.94-2.06-.94-.94-2.06-.94 2.06-2.06.94z\"/><path d=\"M17.41 7.96l-1.37-1.37c-.4-.4-.92-.59-1.43-.59-.52 0-1.04.2-1.43.59L10.3 9.45l-7.72 7.72c-.78.78-.78 2.05 0 2.83L4 21.41c.39.39.9.59 1.41.59.51 0 1.02-.2 1.41-.59l7.78-7.78 2.81-2.81c.8-.78.8-2.07 0-2.86zM5.41 20L4 18.59l7.72-7.72 1.47 1.35L5.41 20z\"/>\n",
              "  </svg>\n",
              "      </button>\n",
              "      \n",
              "  <style>\n",
              "    .colab-df-container {\n",
              "      display:flex;\n",
              "      flex-wrap:wrap;\n",
              "      gap: 12px;\n",
              "    }\n",
              "\n",
              "    .colab-df-convert {\n",
              "      background-color: #E8F0FE;\n",
              "      border: none;\n",
              "      border-radius: 50%;\n",
              "      cursor: pointer;\n",
              "      display: none;\n",
              "      fill: #1967D2;\n",
              "      height: 32px;\n",
              "      padding: 0 0 0 0;\n",
              "      width: 32px;\n",
              "    }\n",
              "\n",
              "    .colab-df-convert:hover {\n",
              "      background-color: #E2EBFA;\n",
              "      box-shadow: 0px 1px 2px rgba(60, 64, 67, 0.3), 0px 1px 3px 1px rgba(60, 64, 67, 0.15);\n",
              "      fill: #174EA6;\n",
              "    }\n",
              "\n",
              "    [theme=dark] .colab-df-convert {\n",
              "      background-color: #3B4455;\n",
              "      fill: #D2E3FC;\n",
              "    }\n",
              "\n",
              "    [theme=dark] .colab-df-convert:hover {\n",
              "      background-color: #434B5C;\n",
              "      box-shadow: 0px 1px 3px 1px rgba(0, 0, 0, 0.15);\n",
              "      filter: drop-shadow(0px 1px 2px rgba(0, 0, 0, 0.3));\n",
              "      fill: #FFFFFF;\n",
              "    }\n",
              "  </style>\n",
              "\n",
              "      <script>\n",
              "        const buttonEl =\n",
              "          document.querySelector('#df-2b7a996e-876c-474f-abf1-70baaed5532f button.colab-df-convert');\n",
              "        buttonEl.style.display =\n",
              "          google.colab.kernel.accessAllowed ? 'block' : 'none';\n",
              "\n",
              "        async function convertToInteractive(key) {\n",
              "          const element = document.querySelector('#df-2b7a996e-876c-474f-abf1-70baaed5532f');\n",
              "          const dataTable =\n",
              "            await google.colab.kernel.invokeFunction('convertToInteractive',\n",
              "                                                     [key], {});\n",
              "          if (!dataTable) return;\n",
              "\n",
              "          const docLinkHtml = 'Like what you see? Visit the ' +\n",
              "            '<a target=\"_blank\" href=https://colab.research.google.com/notebooks/data_table.ipynb>data table notebook</a>'\n",
              "            + ' to learn more about interactive tables.';\n",
              "          element.innerHTML = '';\n",
              "          dataTable['output_type'] = 'display_data';\n",
              "          await google.colab.output.renderOutput(dataTable, element);\n",
              "          const docLink = document.createElement('div');\n",
              "          docLink.innerHTML = docLinkHtml;\n",
              "          element.appendChild(docLink);\n",
              "        }\n",
              "      </script>\n",
              "    </div>\n",
              "  </div>\n",
              "  "
            ]
          },
          "metadata": {},
          "execution_count": 5
        }
      ]
    },
    {
      "cell_type": "code",
      "source": [
        "df.rename(columns={df.columns[0]: 'wikiid'}, inplace=True)"
      ],
      "metadata": {
        "id": "AhHMjPs8wR96"
      },
      "execution_count": 6,
      "outputs": []
    },
    {
      "cell_type": "code",
      "source": [
        "import re\n",
        "from typing import List\n",
        "\n",
        "HEADING_REGEX = re.compile(r'^#+ .*$')\n",
        "WIDGET_REGEX = re.compile(r'^\\$\\$widget\\d(.*?\\))\\$\\$$')\n",
        "MARKDOWN_LINK_REGEX = re.compile(r'^\\[(.*)\\]\\(.*\\)$')\n",
        "MARKDOWN_IMAGE_REGEX = re.compile(r'^!\\[.*\\]\\(.*\\)$')\n",
        "CITATION_REGEX = re.compile(r'\\[\\\\\\[\\d+\\\\\\]\\]\\(#cite-id-[a-z0-9]+\\)', flags=re.MULTILINE)\n",
        "\n",
        "MAX_PARA_COUNT = 3\n",
        "MAX_CONTENT_LENGTH = 10000\n",
        "\n",
        "\n",
        "def sanitize_content(content: str) -> str:\n",
        "    \n",
        "    \"\"\"\n",
        "    This function takes a string `content` that represents a Markdown document.\n",
        "    It splits the document into paragraphs, filters out any paragraphs that do\n",
        "    not contain valid text, removes Markdown syntax from the remaining paragraphs,\n",
        "    and joins them back together into a string. The resulting string is trimmed\n",
        "    to a maximum length and returned.\n",
        "    \"\"\"\n",
        "        \n",
        "    content_paragraphs = content.split('\\n\\n')\n",
        "    filtered_paragraphs = [\n",
        "        p for p in content_paragraphs if is_valid_paragraph(p)\n",
        "    ]\n",
        "    sanitized_paragraphs = []\n",
        "    count = 0\n",
        "\n",
        "    for paragraph in filtered_paragraphs:\n",
        "        if count >= MAX_PARA_COUNT:\n",
        "            break\n",
        "\n",
        "        trimmed_paragraph = paragraph.strip()\n",
        "        plain_text_paragraph = remove_markdown_syntax(trimmed_paragraph)\n",
        "        sanitized_paragraph = CITATION_REGEX.sub('', plain_text_paragraph)\n",
        "        is_heading = HEADING_REGEX.match(trimmed_paragraph) is not None\n",
        "\n",
        "        if not is_heading:\n",
        "            sanitized_paragraphs.append(sanitized_paragraph)\n",
        "            count += 1\n",
        "        else:\n",
        "            sanitized_paragraphs.append(trimmed_paragraph)\n",
        "\n",
        "    trimmed_content = '\\n\\n'.join(sanitized_paragraphs)[:MAX_CONTENT_LENGTH]\n",
        "\n",
        "    return trimmed_content\n",
        "\n",
        "\n",
        "def is_valid_paragraph(paragraph: str) -> bool:\n",
        "    \"\"\"\n",
        "    This function takes a string `paragraph` and checks if it is a valid\n",
        "    paragraph. A valid paragraph is one that contains text (i.e., is not empty),\n",
        "    and does not contain Markdown image syntax, link syntax, or widget syntax.\n",
        "    \"\"\"\n",
        "        \n",
        "    para = paragraph.strip()\n",
        "    return (\n",
        "        len(para) != 0\n",
        "        and not MARKDOWN_IMAGE_REGEX.match(para)\n",
        "        and not MARKDOWN_LINK_REGEX.match(para)\n",
        "        and not WIDGET_REGEX.match(para)\n",
        "    )\n",
        "\n",
        "\n",
        "def remove_markdown_syntax(text: str) -> str:\n",
        "    \n",
        "    \"\"\"\n",
        "    This function takes a string `paragraph` and checks if it is a valid\n",
        "    paragraph. A valid paragraph is one that contains text (i.e., is not empty),\n",
        "    and does not contain Markdown image syntax, link syntax, or widget syntax.\n",
        "    \"\"\"\n",
        "        \n",
        "    # Remove emphasis syntax\n",
        "    text = re.sub(r'\\*\\*?(.*?)\\*\\*?', r'\\1', text)\n",
        "    text = re.sub(r'__(.*?)__', r'\\1', text)\n",
        "\n",
        "    # Remove code syntax\n",
        "    text = re.sub(r'`(.+?)`', r'\\1', text)\n",
        "\n",
        "    # Remove links\n",
        "    text = re.sub(r'\\[(.*?)\\]\\((.*?)\\)', r'\\1', text)\n",
        "\n",
        "    # Remove images\n",
        "    text = re.sub(r'!\\[(.*?)\\]\\((.*?)\\)', r'', text)\n",
        "\n",
        "    return text\n",
        "\n",
        "def clean(string):\n",
        "    sample = string\n",
        "\n",
        "    cleaned = re.sub(r'\\xa0',' ',\n",
        "                    re.sub(r'\\s{2,}',' ',\n",
        "                       re.sub(r'\\>','',\n",
        "                              re.sub(r'\\$\\$widget0 YOUTUBE@VID\\$\\$','',\n",
        "                                    re.sub(r'[#*]+','',\n",
        "                                          re.sub(r'\\\\\\[\\d+\\\\\\]','',\n",
        "                                                sample))))))\n",
        "    return cleaned"
      ],
      "metadata": {
        "id": "cbWjZSOEwWLp"
      },
      "execution_count": 7,
      "outputs": []
    },
    {
      "cell_type": "code",
      "source": [
        "df.content = df.content.apply(sanitize_content)\n",
        "df.content = df.content.apply(clean)\n",
        "df.head()"
      ],
      "metadata": {
        "colab": {
          "base_uri": "https://localhost:8080/",
          "height": 206
        },
        "id": "iHtesrdAwZyp",
        "outputId": "81bd6f64-9d53-419e-f88e-7fc5b784df04"
      },
      "execution_count": 8,
      "outputs": [
        {
          "output_type": "execute_result",
          "data": {
            "text/plain": [
              "         wikiid           title  \\\n",
              "0         yi-he           Yi He   \n",
              "1  arbitrum-arb  Arbitrum (ARB)   \n",
              "2          comp            COMP   \n",
              "3      compound        Compound   \n",
              "4      dogecoin        Dogecoin   \n",
              "\n",
              "                                             content  \n",
              "0  Yi He is a Chinese entrepreneur, and investor ...  \n",
              "1  ARB is the native governance token of Arbitrum...  \n",
              "2  COMP is an ERC-20 token that enables community...  \n",
              "3  Compound is a DeFi project that enables users ...  \n",
              "4  Dogecoin is a peer-to-peer, open-source crypto...  "
            ],
            "text/html": [
              "\n",
              "  <div id=\"df-e2165772-7714-45b3-82d7-1c14eb5cbfd4\">\n",
              "    <div class=\"colab-df-container\">\n",
              "      <div>\n",
              "<style scoped>\n",
              "    .dataframe tbody tr th:only-of-type {\n",
              "        vertical-align: middle;\n",
              "    }\n",
              "\n",
              "    .dataframe tbody tr th {\n",
              "        vertical-align: top;\n",
              "    }\n",
              "\n",
              "    .dataframe thead th {\n",
              "        text-align: right;\n",
              "    }\n",
              "</style>\n",
              "<table border=\"1\" class=\"dataframe\">\n",
              "  <thead>\n",
              "    <tr style=\"text-align: right;\">\n",
              "      <th></th>\n",
              "      <th>wikiid</th>\n",
              "      <th>title</th>\n",
              "      <th>content</th>\n",
              "    </tr>\n",
              "  </thead>\n",
              "  <tbody>\n",
              "    <tr>\n",
              "      <th>0</th>\n",
              "      <td>yi-he</td>\n",
              "      <td>Yi He</td>\n",
              "      <td>Yi He is a Chinese entrepreneur, and investor ...</td>\n",
              "    </tr>\n",
              "    <tr>\n",
              "      <th>1</th>\n",
              "      <td>arbitrum-arb</td>\n",
              "      <td>Arbitrum (ARB)</td>\n",
              "      <td>ARB is the native governance token of Arbitrum...</td>\n",
              "    </tr>\n",
              "    <tr>\n",
              "      <th>2</th>\n",
              "      <td>comp</td>\n",
              "      <td>COMP</td>\n",
              "      <td>COMP is an ERC-20 token that enables community...</td>\n",
              "    </tr>\n",
              "    <tr>\n",
              "      <th>3</th>\n",
              "      <td>compound</td>\n",
              "      <td>Compound</td>\n",
              "      <td>Compound is a DeFi project that enables users ...</td>\n",
              "    </tr>\n",
              "    <tr>\n",
              "      <th>4</th>\n",
              "      <td>dogecoin</td>\n",
              "      <td>Dogecoin</td>\n",
              "      <td>Dogecoin is a peer-to-peer, open-source crypto...</td>\n",
              "    </tr>\n",
              "  </tbody>\n",
              "</table>\n",
              "</div>\n",
              "      <button class=\"colab-df-convert\" onclick=\"convertToInteractive('df-e2165772-7714-45b3-82d7-1c14eb5cbfd4')\"\n",
              "              title=\"Convert this dataframe to an interactive table.\"\n",
              "              style=\"display:none;\">\n",
              "        \n",
              "  <svg xmlns=\"http://www.w3.org/2000/svg\" height=\"24px\"viewBox=\"0 0 24 24\"\n",
              "       width=\"24px\">\n",
              "    <path d=\"M0 0h24v24H0V0z\" fill=\"none\"/>\n",
              "    <path d=\"M18.56 5.44l.94 2.06.94-2.06 2.06-.94-2.06-.94-.94-2.06-.94 2.06-2.06.94zm-11 1L8.5 8.5l.94-2.06 2.06-.94-2.06-.94L8.5 2.5l-.94 2.06-2.06.94zm10 10l.94 2.06.94-2.06 2.06-.94-2.06-.94-.94-2.06-.94 2.06-2.06.94z\"/><path d=\"M17.41 7.96l-1.37-1.37c-.4-.4-.92-.59-1.43-.59-.52 0-1.04.2-1.43.59L10.3 9.45l-7.72 7.72c-.78.78-.78 2.05 0 2.83L4 21.41c.39.39.9.59 1.41.59.51 0 1.02-.2 1.41-.59l7.78-7.78 2.81-2.81c.8-.78.8-2.07 0-2.86zM5.41 20L4 18.59l7.72-7.72 1.47 1.35L5.41 20z\"/>\n",
              "  </svg>\n",
              "      </button>\n",
              "      \n",
              "  <style>\n",
              "    .colab-df-container {\n",
              "      display:flex;\n",
              "      flex-wrap:wrap;\n",
              "      gap: 12px;\n",
              "    }\n",
              "\n",
              "    .colab-df-convert {\n",
              "      background-color: #E8F0FE;\n",
              "      border: none;\n",
              "      border-radius: 50%;\n",
              "      cursor: pointer;\n",
              "      display: none;\n",
              "      fill: #1967D2;\n",
              "      height: 32px;\n",
              "      padding: 0 0 0 0;\n",
              "      width: 32px;\n",
              "    }\n",
              "\n",
              "    .colab-df-convert:hover {\n",
              "      background-color: #E2EBFA;\n",
              "      box-shadow: 0px 1px 2px rgba(60, 64, 67, 0.3), 0px 1px 3px 1px rgba(60, 64, 67, 0.15);\n",
              "      fill: #174EA6;\n",
              "    }\n",
              "\n",
              "    [theme=dark] .colab-df-convert {\n",
              "      background-color: #3B4455;\n",
              "      fill: #D2E3FC;\n",
              "    }\n",
              "\n",
              "    [theme=dark] .colab-df-convert:hover {\n",
              "      background-color: #434B5C;\n",
              "      box-shadow: 0px 1px 3px 1px rgba(0, 0, 0, 0.15);\n",
              "      filter: drop-shadow(0px 1px 2px rgba(0, 0, 0, 0.3));\n",
              "      fill: #FFFFFF;\n",
              "    }\n",
              "  </style>\n",
              "\n",
              "      <script>\n",
              "        const buttonEl =\n",
              "          document.querySelector('#df-e2165772-7714-45b3-82d7-1c14eb5cbfd4 button.colab-df-convert');\n",
              "        buttonEl.style.display =\n",
              "          google.colab.kernel.accessAllowed ? 'block' : 'none';\n",
              "\n",
              "        async function convertToInteractive(key) {\n",
              "          const element = document.querySelector('#df-e2165772-7714-45b3-82d7-1c14eb5cbfd4');\n",
              "          const dataTable =\n",
              "            await google.colab.kernel.invokeFunction('convertToInteractive',\n",
              "                                                     [key], {});\n",
              "          if (!dataTable) return;\n",
              "\n",
              "          const docLinkHtml = 'Like what you see? Visit the ' +\n",
              "            '<a target=\"_blank\" href=https://colab.research.google.com/notebooks/data_table.ipynb>data table notebook</a>'\n",
              "            + ' to learn more about interactive tables.';\n",
              "          element.innerHTML = '';\n",
              "          dataTable['output_type'] = 'display_data';\n",
              "          await google.colab.output.renderOutput(dataTable, element);\n",
              "          const docLink = document.createElement('div');\n",
              "          docLink.innerHTML = docLinkHtml;\n",
              "          element.appendChild(docLink);\n",
              "        }\n",
              "      </script>\n",
              "    </div>\n",
              "  </div>\n",
              "  "
            ]
          },
          "metadata": {},
          "execution_count": 8
        }
      ]
    },
    {
      "cell_type": "code",
      "source": [
        "df.iloc[0, 2]"
      ],
      "metadata": {
        "colab": {
          "base_uri": "https://localhost:8080/",
          "height": 938
        },
        "id": "Y3juv7G9wfon",
        "outputId": "32bc7f2f-ab14-4db9-c971-c56851c11e05"
      },
      "execution_count": 9,
      "outputs": [
        {
          "output_type": "execute_result",
          "data": {
            "text/plain": [
              "'Yi He is a Chinese entrepreneur, and investor best known for founding Binance , the world\\'s largest cryptocurrency exchange, with Changpeng Zhao. She serves as the company\\'s Chief Marketing Officer leading business, marketing, and branding strategy at Binance. She was previously a co-founder of the cryptocurrency exchange, OKX, and also served as Vice president for the leading mobile video tech company, Yixia Technology. Early Life & Education Yi He was born in 1986 in China. She grew up in a rural area in Sichuan province in western China, where her parents worked as teachers. She said in an interview with a new media company: “I\\'m from a very small village and a very poor family,” But there is not much information available about her early life and education. Yi He, who used to be a travel TV host, hosted \\'Beautiful Destination\\' and \\'As Far As You Can Go\\', two of people\\'s favorite travel programs. She is also a member of the \"Only You《Chinese：非你莫属》\" BOSS group. She is popular with many viewers. She was the co-founder of OKCoin, the world\\'s largest digital asset trading platform by volume, as of 2015, and has been nicknamed \"the First sister of Bitcoin\". Career Yi He\\'s first job was promoting a new soft drink by standing outside a supermarket and offering consumers a free taste. \" It was a hard job and all the talking and hawking led to a hoarse voice,” Yi He started her real career in the entrainment industry. She joined the Chinese Television Channel in 2012 and worked as a TV Show host for a travel show. She left the media industry in July 2014 and joined a startup. Yi He came to know about Bitcoin in 2013 while working for the start up. In 2014, She started working in the cryptocurrency space and was one of the co-founders of OKCoin. She led OkCoin’s branding and marketing strategy. OKCoin was the largest Chinese cryptocurrency-to-fiat exchange as of 2015. Yi He responsibly handled user operations management, online marketing management, social media management, PR management and branding management and helped OKCoin to obtain 60% of the Chinese market share. In December 2015, Yi he joined the leading mobile video-sharing tech company, Yixia Technology and helped them to achieve firm’s $3 billion USD valuations. She served as Vice president and handled the product management and marketing operations for the company and its subsidiaries. She created the live-broadcasting platform “Yi Zhi Bo which was later acquired by a social network company, Weibo. At that time, she said, in a blog post: “This world is crazier than you think, and I am part of this crazy world. Therefore, I would like to go back to my battlefield, join Binance, in order to complete my mission.” She also led successful marketing campaigns, one of her most successful campaigns reached 2.8 billion views and 21.4 million discussions. Yi He had been responsible for many of Binance\\'s key initiatives, including the launch of Binance\\'s Initial Coin Offering (ICO) platform and its educational initiatives aimed at promoting the adoption and understanding of blockchain and cryptocurrencies. In August 2017, she co-founded popular cryptocurrency exchanges, Binance with Changpeng Zhao. Yi He and Zhao knew each other from long time. Yi He was the one who persuaded Zhao to come onboard the crypto exchange, OKCoin as CTO. Under her leadership, Binance became one of the largest cryptocurrency exchanges in the world in just a few months, offering trading services for a wide range of cryptocurrencies. Since 2017, Yi He has served as CMO of the Binance managing Binance\\'s venture investment arm and all marketing efforts, including online marketing operations management, social media management, PR and branding management. Yi He and CZ together lead Binance to become the largest cryptocurrency exchange by volume. !ICO party.webp Yi He is also a blockchain and cryptocurrency thought leader, regularly speaking at industry events and contributing to the development of the industry. On August 3rd, 2022, Yi He was appointed as the new head of Binance Labs, the venture capital (VC) arm and incubator of Binance. She had been actively involved in Binance Labs since the very beginning so CZ, along with the whole team, believed that it was the perfect step up for Yi to take on a bigger role. “As part of the founding team, Yi has been actively involved in Labs since its inception and has played a pivotal role in identifying early-stage projects and founders with the vision and drive to disrupt those global institutions that no longer serve society effectively. This is the perfect moment for Yi to take on a larger role in Labs as this market presents an unparalleled opportunity to identify those projects with the tenacity to thrive in tough market conditions.” - Changpeng Zhao Yi took the opportunity to take lead in global strategy and the day-to-day operations at Binance Labs. Her vision is to drive the future adoption of Web3 and blockchain technology by building the standard for the blockchain industry. Under her leadership, finding founders who are motivated and capable has been the focal point when finding the correct investments. “Part of the journey of seeing Binance grow, especially through tough market conditions, has been the ability to identify those founders that have the skills and embody the values needed to thrive in an environment where resources are more limited. As a leading player in the space, my goal is to help define the industry standard by identifying and supporting sustainable projects and building an ecosystem of quality blockchain solutions that empowers the entire industry” - Yi He Philanthropy Yi He is also actively involved in a number of charitable activities. Some of notable ones include: Binance Charity Foundation: This is a non-profit organization founded by Binance in 2018, with the goal of using blockchain technology to enhance transparency and efficiency in the global charity sector. It has carried out several initiatives, including providing relief aid to disaster-stricken areas and helping to educate underprivileged children. Binance for Children: This is a campaign launched by Binance Charity Foundation in 2019, aimed at helping children in need around the world. As part of this initiative, Binance has donated funds to organizations working in education, healthcare, and other areas to support children\\'s development. Binance COVID-19 Relief Fund: In response to the COVID-19 pandemic, Binance established a relief fund in 2020 to provide financial support to organizations and individuals affected by the crisis. The company also launched a fundraising campaign, encouraging its users to donate funds, which were then distributed to those in need. Interviews Characteristics needed for Success On July 15th, 2022, the first interview given in English by Yi He was released where she highlights the importance of challenging oneself as well as what it takes to become successful. Throughout the interview, she talks about her willingness to challenge herself and take risks in her career. For example, when she left her role in media to enter the blockchain industry for the first time, she actually didn\\'t find it too difficult. \"My talent has always been trying to challenge myself. I think a lot of people set limits for themselves so they just keep enjoying life and want to stay where they feel comfortable.” She also stated that she believes blockchain technology and cryptocurrencies have the power to existing financial systems. “I felt it really had the potential to help people globally. I came to the decision to join very fast. I believed it would be the future.” Yi He also recognizes that success is a team effort and that it is important to hire the best people, highlighting the importance of collaboration. \"The biggest challenge that we face is making sure we hire the best people in the world.\" \"No one can be successful on their own\" In the interview, she also explained that the reason behind CZ being the face of the company was because he suited the role better than she did, despite the pair of them being the ones who founded the company together. \"CZ is definitely a better candidate to be the public face of the company. He’s like the captain, or the driver and if the company has too many public figureheads that would make people confused.\" Investment Strategies On September 19th, 2022, Yi took part in an interview, going over her investment strategies for Binance Labs. Firstly, she states that the team is looking out projects that will benefit the company long term, and are still in their early stages. She also believes that the bear market is a good investment opportunity as it helps get rid of projects that lack a solid foundation. \"We all know it’s a good investment opportunity in a bear market, as many teams that only look to make some quick money would be forced out of the industry. It’s good timing now to support those who really want to run a good business and believe in this industry. Yi also adds on that the team looks for projects that will benefit the company regardless of the conditions of the market, but making bolder, yet calculated, investment decisions during bear markets. \"We generally figure out what we really want no matter if we’re in a bull or bear market. In a bear market, I think we should make investments more aggressively, but not just for the sake of investing.\" Yi highlights that there are three types of companies that Binance Labs '"
            ],
            "application/vnd.google.colaboratory.intrinsic+json": {
              "type": "string"
            }
          },
          "metadata": {},
          "execution_count": 9
        }
      ]
    },
    {
      "cell_type": "code",
      "source": [
        "!pip install -qU langchain tiktoken matplotlib seaborn tqdm"
      ],
      "metadata": {
        "colab": {
          "base_uri": "https://localhost:8080/"
        },
        "id": "GHtdM2lqwikj",
        "outputId": "ea9a203c-18fe-41e7-a9cc-15ccbb266f56"
      },
      "execution_count": 10,
      "outputs": [
        {
          "output_type": "stream",
          "name": "stdout",
          "text": [
            "\u001b[2K     \u001b[90m━━━━━━━━━━━━━━━━━━━━━━━━━━━━━━━━━━━━━━━\u001b[0m \u001b[32m489.1/489.1 KB\u001b[0m \u001b[31m9.7 MB/s\u001b[0m eta \u001b[36m0:00:00\u001b[0m\n",
            "\u001b[2K     \u001b[90m━━━━━━━━━━━━━━━━━━━━━━━━━━━━━━━━━━━━━━━━\u001b[0m \u001b[32m1.7/1.7 MB\u001b[0m \u001b[31m52.0 MB/s\u001b[0m eta \u001b[36m0:00:00\u001b[0m\n",
            "\u001b[2K     \u001b[90m━━━━━━━━━━━━━━━━━━━━━━━━━━━━━━━━━━━━━━━━\u001b[0m \u001b[32m1.0/1.0 MB\u001b[0m \u001b[31m71.4 MB/s\u001b[0m eta \u001b[36m0:00:00\u001b[0m\n",
            "\u001b[2K     \u001b[90m━━━━━━━━━━━━━━━━━━━━━━━━━━━━━━━━━━━━━━\u001b[0m \u001b[32m264.6/264.6 KB\u001b[0m \u001b[31m28.0 MB/s\u001b[0m eta \u001b[36m0:00:00\u001b[0m\n",
            "\u001b[2K     \u001b[90m━━━━━━━━━━━━━━━━━━━━━━━━━━━━━━━━━━━━━━\u001b[0m \u001b[32m114.2/114.2 KB\u001b[0m \u001b[31m14.6 MB/s\u001b[0m eta \u001b[36m0:00:00\u001b[0m\n",
            "\u001b[2K     \u001b[90m━━━━━━━━━━━━━━━━━━━━━━━━━━━━━━━━━━━━━━\u001b[0m \u001b[32m158.8/158.8 KB\u001b[0m \u001b[31m19.9 MB/s\u001b[0m eta \u001b[36m0:00:00\u001b[0m\n",
            "\u001b[2K     \u001b[90m━━━━━━━━━━━━━━━━━━━━━━━━━━━━━━━━━━━━━━━━\u001b[0m \u001b[32m49.1/49.1 KB\u001b[0m \u001b[31m6.1 MB/s\u001b[0m eta \u001b[36m0:00:00\u001b[0m\n",
            "\u001b[?25h"
          ]
        }
      ]
    },
    {
      "cell_type": "code",
      "source": [
        "import tiktoken\n",
        "\n",
        "tokenizer = tiktoken.get_encoding('cl100k_base')\n",
        "\n",
        "# create the length function\n",
        "def tiktoken_len(text):\n",
        "    tokens = tokenizer.encode(\n",
        "        text,\n",
        "        disallowed_special=()\n",
        "    )\n",
        "    return len(tokens)"
      ],
      "metadata": {
        "id": "9ZB4epNkwkkp"
      },
      "execution_count": 11,
      "outputs": []
    },
    {
      "cell_type": "code",
      "source": [
        "# Applying the tiktoken_len function to the content column and storing results in a list\n",
        "token_lengths = [tiktoken_len(content) for content in df['content']]\n",
        "\n",
        "# Calculate min, max, and average token lengths\n",
        "min_token_length = min(token_lengths)\n",
        "max_token_length = max(token_lengths)\n",
        "average_token_length = sum(token_lengths) / len(token_lengths)\n",
        "\n",
        "print(f\"Minimum token length: {min_token_length}\")\n",
        "print(f\"Maximum token length: {max_token_length}\")\n",
        "print(f\"Average token length: {average_token_length}\")"
      ],
      "metadata": {
        "colab": {
          "base_uri": "https://localhost:8080/"
        },
        "id": "DoGK6Lvlwqao",
        "outputId": "cfba638a-885e-4193-8c61-b7286383541d"
      },
      "execution_count": 13,
      "outputs": [
        {
          "output_type": "stream",
          "name": "stdout",
          "text": [
            "Minimum token length: 126\n",
            "Maximum token length: 2371\n",
            "Average token length: 1042.345185185185\n"
          ]
        }
      ]
    },
    {
      "cell_type": "code",
      "source": [
        "# Applying the tiktoken_len function to the content column and storing results in a list\n",
        "token_lengths = [tiktoken_len(content) for content in df['content']]\n",
        "\n",
        "# Calculate min, max, and average token lengths\n",
        "min_token_length = min(token_lengths)\n",
        "max_token_length = max(token_lengths)\n",
        "average_token_length = sum(token_lengths) / len(token_lengths)\n",
        "\n",
        "print(f\"Minimum token length: {min_token_length}\")\n",
        "print(f\"Maximum token length: {max_token_length}\")\n",
        "print(f\"Average token length: {average_token_length}\")"
      ],
      "metadata": {
        "colab": {
          "base_uri": "https://localhost:8080/"
        },
        "id": "hmAlHdtowsye",
        "outputId": "6c774ff7-a5b6-4fa7-d400-2f35eebabec1"
      },
      "execution_count": 14,
      "outputs": [
        {
          "output_type": "stream",
          "name": "stdout",
          "text": [
            "Minimum token length: 126\n",
            "Maximum token length: 2371\n",
            "Average token length: 1042.345185185185\n"
          ]
        }
      ]
    },
    {
      "cell_type": "code",
      "source": [
        "from langchain.text_splitter import RecursiveCharacterTextSplitter\n",
        "\n",
        "text_splitter = RecursiveCharacterTextSplitter(\n",
        "    chunk_size=150,\n",
        "    chunk_overlap=40,  # number of tokens overlap between chunks\n",
        "    length_function=tiktoken_len,\n",
        "    separators=['.', '']\n",
        ")"
      ],
      "metadata": {
        "id": "zf-2a-icwyBD"
      },
      "execution_count": 28,
      "outputs": []
    },
    {
      "cell_type": "code",
      "source": [
        "df['chunks'] = df['content'].apply(text_splitter.split_text)"
      ],
      "metadata": {
        "id": "3QQXjzJ7w5TS"
      },
      "execution_count": 29,
      "outputs": []
    },
    {
      "cell_type": "code",
      "source": [
        "# Explode the chunks list into individual rows, copying the wikiid and title values\n",
        "df_exploded = df.explode('chunks').reset_index(drop=True)\n",
        "df_exploded = df_exploded[['wikiid', 'title', 'chunks']]"
      ],
      "metadata": {
        "id": "ER_NbUMzxDDM"
      },
      "execution_count": 30,
      "outputs": []
    },
    {
      "cell_type": "code",
      "source": [
        "df_exploded"
      ],
      "metadata": {
        "colab": {
          "base_uri": "https://localhost:8080/",
          "height": 423
        },
        "id": "uPXn112XxEM4",
        "outputId": "6aa5fb12-0760-4bd7-fb55-d30011f34e4d"
      },
      "execution_count": 31,
      "outputs": [
        {
          "output_type": "execute_result",
          "data": {
            "text/plain": [
              "                   wikiid               title  \\\n",
              "0                   yi-he               Yi He   \n",
              "1                   yi-he               Yi He   \n",
              "2                   yi-he               Yi He   \n",
              "3                   yi-he               Yi He   \n",
              "4                   yi-he               Yi He   \n",
              "...                   ...                 ...   \n",
              "13596      bryan-brinkman      Bryan Brinkman   \n",
              "13597      bryan-brinkman      Bryan Brinkman   \n",
              "13598  bold-badgers-squad  Bold Badgers Squad   \n",
              "13599  bold-badgers-squad  Bold Badgers Squad   \n",
              "13600  bold-badgers-squad  Bold Badgers Squad   \n",
              "\n",
              "                                                  chunks  \n",
              "0      Yi He is a Chinese entrepreneur, and investor ...  \n",
              "1      Early Life & Education Yi He was born in 1986 ...  \n",
              "2      She is also a member of the \"Only You《Chinese：...  \n",
              "3      She joined the Chinese Television Channel in 2...  \n",
              "4      Yi He responsibly handled user operations mana...  \n",
              "...                                                  ...  \n",
              "13596  Bryan Brinkman is a cartoon animator from the ...  \n",
              "13597  Guests on the show including Russell Brand, Al...  \n",
              "13598  Bold Badgers Squad is a collection of 10,000 u...  \n",
              "13599  Roadmap Phase 0 Release the BADGERS: On August...  \n",
              "13600  Phase 3 Merchandise and contests: More than an...  \n",
              "\n",
              "[13601 rows x 3 columns]"
            ],
            "text/html": [
              "\n",
              "  <div id=\"df-af884dc3-8493-482f-a256-03fce8dd722d\">\n",
              "    <div class=\"colab-df-container\">\n",
              "      <div>\n",
              "<style scoped>\n",
              "    .dataframe tbody tr th:only-of-type {\n",
              "        vertical-align: middle;\n",
              "    }\n",
              "\n",
              "    .dataframe tbody tr th {\n",
              "        vertical-align: top;\n",
              "    }\n",
              "\n",
              "    .dataframe thead th {\n",
              "        text-align: right;\n",
              "    }\n",
              "</style>\n",
              "<table border=\"1\" class=\"dataframe\">\n",
              "  <thead>\n",
              "    <tr style=\"text-align: right;\">\n",
              "      <th></th>\n",
              "      <th>wikiid</th>\n",
              "      <th>title</th>\n",
              "      <th>chunks</th>\n",
              "    </tr>\n",
              "  </thead>\n",
              "  <tbody>\n",
              "    <tr>\n",
              "      <th>0</th>\n",
              "      <td>yi-he</td>\n",
              "      <td>Yi He</td>\n",
              "      <td>Yi He is a Chinese entrepreneur, and investor ...</td>\n",
              "    </tr>\n",
              "    <tr>\n",
              "      <th>1</th>\n",
              "      <td>yi-he</td>\n",
              "      <td>Yi He</td>\n",
              "      <td>Early Life &amp; Education Yi He was born in 1986 ...</td>\n",
              "    </tr>\n",
              "    <tr>\n",
              "      <th>2</th>\n",
              "      <td>yi-he</td>\n",
              "      <td>Yi He</td>\n",
              "      <td>She is also a member of the \"Only You《Chinese：...</td>\n",
              "    </tr>\n",
              "    <tr>\n",
              "      <th>3</th>\n",
              "      <td>yi-he</td>\n",
              "      <td>Yi He</td>\n",
              "      <td>She joined the Chinese Television Channel in 2...</td>\n",
              "    </tr>\n",
              "    <tr>\n",
              "      <th>4</th>\n",
              "      <td>yi-he</td>\n",
              "      <td>Yi He</td>\n",
              "      <td>Yi He responsibly handled user operations mana...</td>\n",
              "    </tr>\n",
              "    <tr>\n",
              "      <th>...</th>\n",
              "      <td>...</td>\n",
              "      <td>...</td>\n",
              "      <td>...</td>\n",
              "    </tr>\n",
              "    <tr>\n",
              "      <th>13596</th>\n",
              "      <td>bryan-brinkman</td>\n",
              "      <td>Bryan Brinkman</td>\n",
              "      <td>Bryan Brinkman is a cartoon animator from the ...</td>\n",
              "    </tr>\n",
              "    <tr>\n",
              "      <th>13597</th>\n",
              "      <td>bryan-brinkman</td>\n",
              "      <td>Bryan Brinkman</td>\n",
              "      <td>Guests on the show including Russell Brand, Al...</td>\n",
              "    </tr>\n",
              "    <tr>\n",
              "      <th>13598</th>\n",
              "      <td>bold-badgers-squad</td>\n",
              "      <td>Bold Badgers Squad</td>\n",
              "      <td>Bold Badgers Squad is a collection of 10,000 u...</td>\n",
              "    </tr>\n",
              "    <tr>\n",
              "      <th>13599</th>\n",
              "      <td>bold-badgers-squad</td>\n",
              "      <td>Bold Badgers Squad</td>\n",
              "      <td>Roadmap Phase 0 Release the BADGERS: On August...</td>\n",
              "    </tr>\n",
              "    <tr>\n",
              "      <th>13600</th>\n",
              "      <td>bold-badgers-squad</td>\n",
              "      <td>Bold Badgers Squad</td>\n",
              "      <td>Phase 3 Merchandise and contests: More than an...</td>\n",
              "    </tr>\n",
              "  </tbody>\n",
              "</table>\n",
              "<p>13601 rows × 3 columns</p>\n",
              "</div>\n",
              "      <button class=\"colab-df-convert\" onclick=\"convertToInteractive('df-af884dc3-8493-482f-a256-03fce8dd722d')\"\n",
              "              title=\"Convert this dataframe to an interactive table.\"\n",
              "              style=\"display:none;\">\n",
              "        \n",
              "  <svg xmlns=\"http://www.w3.org/2000/svg\" height=\"24px\"viewBox=\"0 0 24 24\"\n",
              "       width=\"24px\">\n",
              "    <path d=\"M0 0h24v24H0V0z\" fill=\"none\"/>\n",
              "    <path d=\"M18.56 5.44l.94 2.06.94-2.06 2.06-.94-2.06-.94-.94-2.06-.94 2.06-2.06.94zm-11 1L8.5 8.5l.94-2.06 2.06-.94-2.06-.94L8.5 2.5l-.94 2.06-2.06.94zm10 10l.94 2.06.94-2.06 2.06-.94-2.06-.94-.94-2.06-.94 2.06-2.06.94z\"/><path d=\"M17.41 7.96l-1.37-1.37c-.4-.4-.92-.59-1.43-.59-.52 0-1.04.2-1.43.59L10.3 9.45l-7.72 7.72c-.78.78-.78 2.05 0 2.83L4 21.41c.39.39.9.59 1.41.59.51 0 1.02-.2 1.41-.59l7.78-7.78 2.81-2.81c.8-.78.8-2.07 0-2.86zM5.41 20L4 18.59l7.72-7.72 1.47 1.35L5.41 20z\"/>\n",
              "  </svg>\n",
              "      </button>\n",
              "      \n",
              "  <style>\n",
              "    .colab-df-container {\n",
              "      display:flex;\n",
              "      flex-wrap:wrap;\n",
              "      gap: 12px;\n",
              "    }\n",
              "\n",
              "    .colab-df-convert {\n",
              "      background-color: #E8F0FE;\n",
              "      border: none;\n",
              "      border-radius: 50%;\n",
              "      cursor: pointer;\n",
              "      display: none;\n",
              "      fill: #1967D2;\n",
              "      height: 32px;\n",
              "      padding: 0 0 0 0;\n",
              "      width: 32px;\n",
              "    }\n",
              "\n",
              "    .colab-df-convert:hover {\n",
              "      background-color: #E2EBFA;\n",
              "      box-shadow: 0px 1px 2px rgba(60, 64, 67, 0.3), 0px 1px 3px 1px rgba(60, 64, 67, 0.15);\n",
              "      fill: #174EA6;\n",
              "    }\n",
              "\n",
              "    [theme=dark] .colab-df-convert {\n",
              "      background-color: #3B4455;\n",
              "      fill: #D2E3FC;\n",
              "    }\n",
              "\n",
              "    [theme=dark] .colab-df-convert:hover {\n",
              "      background-color: #434B5C;\n",
              "      box-shadow: 0px 1px 3px 1px rgba(0, 0, 0, 0.15);\n",
              "      filter: drop-shadow(0px 1px 2px rgba(0, 0, 0, 0.3));\n",
              "      fill: #FFFFFF;\n",
              "    }\n",
              "  </style>\n",
              "\n",
              "      <script>\n",
              "        const buttonEl =\n",
              "          document.querySelector('#df-af884dc3-8493-482f-a256-03fce8dd722d button.colab-df-convert');\n",
              "        buttonEl.style.display =\n",
              "          google.colab.kernel.accessAllowed ? 'block' : 'none';\n",
              "\n",
              "        async function convertToInteractive(key) {\n",
              "          const element = document.querySelector('#df-af884dc3-8493-482f-a256-03fce8dd722d');\n",
              "          const dataTable =\n",
              "            await google.colab.kernel.invokeFunction('convertToInteractive',\n",
              "                                                     [key], {});\n",
              "          if (!dataTable) return;\n",
              "\n",
              "          const docLinkHtml = 'Like what you see? Visit the ' +\n",
              "            '<a target=\"_blank\" href=https://colab.research.google.com/notebooks/data_table.ipynb>data table notebook</a>'\n",
              "            + ' to learn more about interactive tables.';\n",
              "          element.innerHTML = '';\n",
              "          dataTable['output_type'] = 'display_data';\n",
              "          await google.colab.output.renderOutput(dataTable, element);\n",
              "          const docLink = document.createElement('div');\n",
              "          docLink.innerHTML = docLinkHtml;\n",
              "          element.appendChild(docLink);\n",
              "        }\n",
              "      </script>\n",
              "    </div>\n",
              "  </div>\n",
              "  "
            ]
          },
          "metadata": {},
          "execution_count": 31
        }
      ]
    },
    {
      "cell_type": "code",
      "source": [
        "df_exploded.iloc[100, 2]"
      ],
      "metadata": {
        "colab": {
          "base_uri": "https://localhost:8080/",
          "height": 88
        },
        "id": "EnVGdy8FyFzs",
        "outputId": "3567811d-4b90-4694-dc3c-854fc4e302dd"
      },
      "execution_count": 33,
      "outputs": [
        {
          "output_type": "execute_result",
          "data": {
            "text/plain": [
              "\"The animations' fluid motion model is based on academic research conducted in 2010, while the struck percussion sounds are synthesized using shared physical principles. This series builds on the user-programmable media approach of Series 4, with one token designated for community access. While unowned, this token provides communal utility for members to learn, study, and interact with a programmable system, including changing parameters that influence the audiovisual output. All changes and their authors' addresses are stored immutably on-chain. Remarkably, the audiovisual outputs are entirely reconstructed from 100kb of self-contained C code stored on-chain. The most expensive piece traded for 107 ETH.\""
            ],
            "application/vnd.google.colaboratory.intrinsic+json": {
              "type": "string"
            }
          },
          "metadata": {},
          "execution_count": 33
        }
      ]
    },
    {
      "cell_type": "code",
      "source": [
        "# Applying the tiktoken_len function to the content column and storing results in a list\n",
        "token_lengths = [tiktoken_len(content) for content in df_exploded['chunks']]\n",
        "\n",
        "# Calculate min, max, and average token lengths\n",
        "min_token_length = min(token_lengths)\n",
        "max_token_length = max(token_lengths)\n",
        "average_token_length = sum(token_lengths) / len(token_lengths)\n",
        "\n",
        "print(f\"Minimum token length: {min_token_length}\")\n",
        "print(f\"Maximum token length: {max_token_length}\")\n",
        "print(f\"Average token length: {average_token_length}\")"
      ],
      "metadata": {
        "colab": {
          "base_uri": "https://localhost:8080/"
        },
        "id": "_lKHAfdVy4zP",
        "outputId": "864bb22a-438b-4811-8d8f-c686126fa706"
      },
      "execution_count": 34,
      "outputs": [
        {
          "output_type": "stream",
          "name": "stdout",
          "text": [
            "Minimum token length: 1\n",
            "Maximum token length: 152\n",
            "Average token length: 124.77141386662746\n"
          ]
        }
      ]
    },
    {
      "cell_type": "code",
      "source": [
        "import matplotlib.pyplot as plt\n",
        "import seaborn as sns\n",
        "\n",
        "# set style and color palette for the plot\n",
        "sns.set_style(\"whitegrid\")\n",
        "sns.set_palette(\"muted\")\n",
        "\n",
        "# create histogram\n",
        "plt.figure(figsize=(12, 6))\n",
        "sns.histplot(token_lengths, kde=False, bins=50)\n",
        "\n",
        "# customize the plot info\n",
        "plt.title(\"Token lengths Histogram\")\n",
        "plt.xlabel(\"Token Length\")\n",
        "plt.ylabel(\"Frequency\")\n",
        "\n",
        "plt.show()"
      ],
      "metadata": {
        "colab": {
          "base_uri": "https://localhost:8080/",
          "height": 564
        },
        "id": "lHeJNYblzS4v",
        "outputId": "fa2b3c50-8daf-4c70-aa00-cfb12e4fee95"
      },
      "execution_count": 35,
      "outputs": [
        {
          "output_type": "display_data",
          "data": {
            "text/plain": [
              "<Figure size 1200x600 with 1 Axes>"
            ],
            "image/png": "[encoded data removed]"
          },
          "metadata": {}
        }
      ]
    },
    {
      "cell_type": "code",
      "source": [
        "!pip install supabase"
      ],
      "metadata": {
        "colab": {
          "base_uri": "https://localhost:8080/"
        },
        "id": "9HUKhIkAzYZY",
        "outputId": "7e95fce3-1de8-4f14-9cff-45ee0d7551f1"
      },
      "execution_count": 36,
      "outputs": [
        {
          "output_type": "stream",
          "name": "stdout",
          "text": [
            "Looking in indexes: https://pypi.org/simple, https://us-python.pkg.dev/colab-wheels/public/simple/\n",
            "Collecting supabase\n",
            "  Downloading supabase-1.0.3-py3-none-any.whl (11 kB)\n",
            "Collecting supafunc<0.3.0,>=0.2.2\n",
            "  Downloading supafunc-0.2.2-py3-none-any.whl (2.8 kB)\n",
            "Collecting postgrest<0.11.0,>=0.10.6\n",
            "  Downloading postgrest-0.10.6-py3-none-any.whl (18 kB)\n",
            "Collecting storage3<0.6.0,>=0.5.2\n",
            "  Downloading storage3-0.5.2-py3-none-any.whl (13 kB)\n",
            "Collecting python-semantic-release==7.33.2\n",
            "  Downloading python_semantic_release-7.33.2-py3-none-any.whl (55 kB)\n",
            "\u001b[2K     \u001b[90m━━━━━━━━━━━━━━━━━━━━━━━━━━━━━━━━━━━━━━━━\u001b[0m \u001b[32m55.1/55.1 KB\u001b[0m \u001b[31m3.2 MB/s\u001b[0m eta \u001b[36m0:00:00\u001b[0m\n",
            "\u001b[?25hCollecting httpx<0.24.0,>=0.23.0\n",
            "  Downloading httpx-0.23.3-py3-none-any.whl (71 kB)\n",
            "\u001b[2K     \u001b[90m━━━━━━━━━━━━━━━━━━━━━━━━━━━━━━━━━━━━━━━━\u001b[0m \u001b[32m71.5/71.5 KB\u001b[0m \u001b[31m8.7 MB/s\u001b[0m eta \u001b[36m0:00:00\u001b[0m\n",
            "\u001b[?25hCollecting gotrue<2.0.0,>=1.0.1\n",
            "  Downloading gotrue-1.0.1-py3-none-any.whl (48 kB)\n",
            "\u001b[2K     \u001b[90m━━━━━━━━━━━━━━━━━━━━━━━━━━━━━━━━━━━━━━━━\u001b[0m \u001b[32m48.4/48.4 KB\u001b[0m \u001b[31m6.5 MB/s\u001b[0m eta \u001b[36m0:00:00\u001b[0m\n",
            "\u001b[?25hCollecting realtime<2.0.0,>=1.0.0\n",
            "  Downloading realtime-1.0.0-py3-none-any.whl (8.0 kB)\n",
            "Collecting dotty-dict<2,>=1.3.0\n",
            "  Downloading dotty_dict-1.3.1-py3-none-any.whl (7.0 kB)\n",
            "Collecting twine<4,>=3\n",
            "  Downloading twine-3.8.0-py3-none-any.whl (36 kB)\n",
            "Collecting python-gitlab<4,>=2\n",
            "  Downloading python_gitlab-3.13.0-py3-none-any.whl (134 kB)\n",
            "\u001b[2K     \u001b[90m━━━━━━━━━━━━━━━━━━━━━━━━━━━━━━━━━━━━━━\u001b[0m \u001b[32m134.4/134.4 KB\u001b[0m \u001b[31m15.2 MB/s\u001b[0m eta \u001b[36m0:00:00\u001b[0m\n",
            "\u001b[?25hRequirement already satisfied: packaging in /usr/local/lib/python3.9/dist-packages (from python-semantic-release==7.33.2->supabase) (23.0)\n",
            "Collecting semver<3,>=2.10\n",
            "  Downloading semver-2.13.0-py2.py3-none-any.whl (12 kB)\n",
            "Collecting gitpython<4,>=3.0.8\n",
            "  Downloading GitPython-3.1.31-py3-none-any.whl (184 kB)\n",
            "\u001b[2K     \u001b[90m━━━━━━━━━━━━━━━━━━━━━━━━━━━━━━━━━━━━━━\u001b[0m \u001b[32m184.3/184.3 KB\u001b[0m \u001b[31m24.9 MB/s\u001b[0m eta \u001b[36m0:00:00\u001b[0m\n",
            "\u001b[?25hCollecting click-log<1,>=0.3\n",
            "  Downloading click_log-0.4.0-py2.py3-none-any.whl (4.3 kB)\n",
            "Requirement already satisfied: wheel in /usr/local/lib/python3.9/dist-packages (from python-semantic-release==7.33.2->supabase) (0.40.0)\n",
            "Requirement already satisfied: click<9,>=7 in /usr/local/lib/python3.9/dist-packages (from python-semantic-release==7.33.2->supabase) (8.1.3)\n",
            "Collecting invoke<2,>=1.4.1\n",
            "  Downloading invoke-1.7.3-py3-none-any.whl (216 kB)\n",
            "\u001b[2K     \u001b[90m━━━━━━━━━━━━━━━━━━━━━━━━━━━━━━━━━━━━━━\u001b[0m \u001b[32m216.4/216.4 KB\u001b[0m \u001b[31m27.3 MB/s\u001b[0m eta \u001b[36m0:00:00\u001b[0m\n",
            "\u001b[?25hRequirement already satisfied: requests<3,>=2.25 in /usr/local/lib/python3.9/dist-packages (from python-semantic-release==7.33.2->supabase) (2.27.1)\n",
            "Collecting tomlkit~=0.10\n",
            "  Downloading tomlkit-0.11.7-py3-none-any.whl (35 kB)\n",
            "Requirement already satisfied: pydantic<2.0.0,>=1.10.0 in /usr/local/lib/python3.9/dist-packages (from gotrue<2.0.0,>=1.0.1->supabase) (1.10.7)\n",
            "Requirement already satisfied: certifi in /usr/local/lib/python3.9/dist-packages (from httpx<0.24.0,>=0.23.0->supabase) (2022.12.7)\n",
            "Requirement already satisfied: sniffio in /usr/local/lib/python3.9/dist-packages (from httpx<0.24.0,>=0.23.0->supabase) (1.3.0)\n",
            "Collecting httpcore<0.17.0,>=0.15.0\n",
            "  Downloading httpcore-0.16.3-py3-none-any.whl (69 kB)\n",
            "\u001b[2K     \u001b[90m━━━━━━━━━━━━━━━━━━━━━━━━━━━━━━━━━━━━━━━━\u001b[0m \u001b[32m69.6/69.6 KB\u001b[0m \u001b[31m9.6 MB/s\u001b[0m eta \u001b[36m0:00:00\u001b[0m\n",
            "\u001b[?25hCollecting rfc3986[idna2008]<2,>=1.3\n",
            "  Downloading rfc3986-1.5.0-py2.py3-none-any.whl (31 kB)\n",
            "Collecting deprecation<3.0.0,>=2.1.0\n",
            "  Downloading deprecation-2.1.0-py2.py3-none-any.whl (11 kB)\n",
            "Collecting strenum<0.5.0,>=0.4.9\n",
            "  Downloading StrEnum-0.4.10-py3-none-any.whl (7.7 kB)\n",
            "Requirement already satisfied: python-dateutil<3.0.0,>=2.8.1 in /usr/local/lib/python3.9/dist-packages (from realtime<2.0.0,>=1.0.0->supabase) (2.8.2)\n",
            "Requirement already satisfied: typing-extensions<5.0.0,>=4.2.0 in /usr/local/lib/python3.9/dist-packages (from realtime<2.0.0,>=1.0.0->supabase) (4.5.0)\n",
            "Collecting websockets<11.0,>=10.3\n",
            "  Downloading websockets-10.4-cp39-cp39-manylinux_2_5_x86_64.manylinux1_x86_64.manylinux_2_17_x86_64.manylinux2014_x86_64.whl (106 kB)\n",
            "\u001b[2K     \u001b[90m━━━━━━━━━━━━━━━━━━━━━━━━━━━━━━━━━━━━━━\u001b[0m \u001b[32m106.5/106.5 KB\u001b[0m \u001b[31m13.5 MB/s\u001b[0m eta \u001b[36m0:00:00\u001b[0m\n",
            "\u001b[?25hCollecting gitdb<5,>=4.0.1\n",
            "  Downloading gitdb-4.0.10-py3-none-any.whl (62 kB)\n",
            "\u001b[2K     \u001b[90m━━━━━━━━━━━━━━━━━━━━━━━━━━━━━━━━━━━━━━━━\u001b[0m \u001b[32m62.7/62.7 KB\u001b[0m \u001b[31m8.8 MB/s\u001b[0m eta \u001b[36m0:00:00\u001b[0m\n",
            "\u001b[?25hCollecting h11<0.15,>=0.13\n",
            "  Downloading h11-0.14.0-py3-none-any.whl (58 kB)\n",
            "\u001b[2K     \u001b[90m━━━━━━━━━━━━━━━━━━━━━━━━━━━━━━━━━━━━━━━━\u001b[0m \u001b[32m58.3/58.3 KB\u001b[0m \u001b[31m8.4 MB/s\u001b[0m eta \u001b[36m0:00:00\u001b[0m\n",
            "\u001b[?25hRequirement already satisfied: anyio<5.0,>=3.0 in /usr/local/lib/python3.9/dist-packages (from httpcore<0.17.0,>=0.15.0->httpx<0.24.0,>=0.23.0->supabase) (3.6.2)\n",
            "Requirement already satisfied: six>=1.5 in /usr/local/lib/python3.9/dist-packages (from python-dateutil<3.0.0,>=2.8.1->realtime<2.0.0,>=1.0.0->supabase) (1.16.0)\n",
            "Collecting requests-toolbelt>=0.10.1\n",
            "  Downloading requests_toolbelt-0.10.1-py2.py3-none-any.whl (54 kB)\n",
            "\u001b[2K     \u001b[90m━━━━━━━━━━━━━━━━━━━━━━━━━━━━━━━━━━━━━━━━\u001b[0m \u001b[32m54.5/54.5 KB\u001b[0m \u001b[31m7.2 MB/s\u001b[0m eta \u001b[36m0:00:00\u001b[0m\n",
            "\u001b[?25hRequirement already satisfied: charset-normalizer~=2.0.0 in /usr/local/lib/python3.9/dist-packages (from requests<3,>=2.25->python-semantic-release==7.33.2->supabase) (2.0.12)\n",
            "Requirement already satisfied: urllib3<1.27,>=1.21.1 in /usr/local/lib/python3.9/dist-packages (from requests<3,>=2.25->python-semantic-release==7.33.2->supabase) (1.26.15)\n",
            "Requirement already satisfied: idna<4,>=2.5 in /usr/local/lib/python3.9/dist-packages (from requests<3,>=2.25->python-semantic-release==7.33.2->supabase) (3.4)\n",
            "Requirement already satisfied: tqdm>=4.14 in /usr/local/lib/python3.9/dist-packages (from twine<4,>=3->python-semantic-release==7.33.2->supabase) (4.65.0)\n",
            "Collecting readme-renderer>=21.0\n",
            "  Downloading readme_renderer-37.3-py3-none-any.whl (14 kB)\n",
            "Requirement already satisfied: importlib-metadata>=3.6 in /usr/local/lib/python3.9/dist-packages (from twine<4,>=3->python-semantic-release==7.33.2->supabase) (6.1.0)\n",
            "Collecting pkginfo>=1.8.1\n",
            "  Downloading pkginfo-1.9.6-py3-none-any.whl (30 kB)\n",
            "Collecting colorama>=0.4.3\n",
            "  Downloading colorama-0.4.6-py2.py3-none-any.whl (25 kB)\n",
            "Collecting keyring>=15.1\n",
            "  Downloading keyring-23.13.1-py3-none-any.whl (37 kB)\n",
            "Collecting smmap<6,>=3.0.1\n",
            "  Downloading smmap-5.0.0-py3-none-any.whl (24 kB)\n",
            "Requirement already satisfied: zipp>=0.5 in /usr/local/lib/python3.9/dist-packages (from importlib-metadata>=3.6->twine<4,>=3->python-semantic-release==7.33.2->supabase) (3.15.0)\n",
            "Collecting jaraco.classes\n",
            "  Downloading jaraco.classes-3.2.3-py3-none-any.whl (6.0 kB)\n",
            "Collecting jeepney>=0.4.2\n",
            "  Downloading jeepney-0.8.0-py3-none-any.whl (48 kB)\n",
            "\u001b[2K     \u001b[90m━━━━━━━━━━━━━━━━━━━━━━━━━━━━━━━━━━━━━━━━\u001b[0m \u001b[32m48.4/48.4 KB\u001b[0m \u001b[31m6.6 MB/s\u001b[0m eta \u001b[36m0:00:00\u001b[0m\n",
            "\u001b[?25hCollecting SecretStorage>=3.2\n",
            "  Downloading SecretStorage-3.3.3-py3-none-any.whl (15 kB)\n",
            "Requirement already satisfied: Pygments>=2.5.1 in /usr/local/lib/python3.9/dist-packages (from readme-renderer>=21.0->twine<4,>=3->python-semantic-release==7.33.2->supabase) (2.14.0)\n",
            "Requirement already satisfied: docutils>=0.13.1 in /usr/local/lib/python3.9/dist-packages (from readme-renderer>=21.0->twine<4,>=3->python-semantic-release==7.33.2->supabase) (0.16)\n",
            "Requirement already satisfied: bleach>=2.1.0 in /usr/local/lib/python3.9/dist-packages (from readme-renderer>=21.0->twine<4,>=3->python-semantic-release==7.33.2->supabase) (6.0.0)\n",
            "Requirement already satisfied: webencodings in /usr/local/lib/python3.9/dist-packages (from bleach>=2.1.0->readme-renderer>=21.0->twine<4,>=3->python-semantic-release==7.33.2->supabase) (0.5.1)\n",
            "Requirement already satisfied: cryptography>=2.0 in /usr/local/lib/python3.9/dist-packages (from SecretStorage>=3.2->keyring>=15.1->twine<4,>=3->python-semantic-release==7.33.2->supabase) (40.0.1)\n",
            "Requirement already satisfied: more-itertools in /usr/local/lib/python3.9/dist-packages (from jaraco.classes->keyring>=15.1->twine<4,>=3->python-semantic-release==7.33.2->supabase) (9.1.0)\n",
            "Requirement already satisfied: cffi>=1.12 in /usr/local/lib/python3.9/dist-packages (from cryptography>=2.0->SecretStorage>=3.2->keyring>=15.1->twine<4,>=3->python-semantic-release==7.33.2->supabase) (1.15.1)\n",
            "Requirement already satisfied: pycparser in /usr/local/lib/python3.9/dist-packages (from cffi>=1.12->cryptography>=2.0->SecretStorage>=3.2->keyring>=15.1->twine<4,>=3->python-semantic-release==7.33.2->supabase) (2.21)\n",
            "Installing collected packages: strenum, rfc3986, invoke, websockets, tomlkit, smmap, semver, pkginfo, jeepney, jaraco.classes, h11, dotty-dict, deprecation, colorama, click-log, requests-toolbelt, realtime, readme-renderer, httpcore, gitdb, SecretStorage, python-gitlab, httpx, gitpython, supafunc, storage3, postgrest, keyring, gotrue, twine, python-semantic-release, supabase\n",
            "Successfully installed SecretStorage-3.3.3 click-log-0.4.0 colorama-0.4.6 deprecation-2.1.0 dotty-dict-1.3.1 gitdb-4.0.10 gitpython-3.1.31 gotrue-1.0.1 h11-0.14.0 httpcore-0.16.3 httpx-0.23.3 invoke-1.7.3 jaraco.classes-3.2.3 jeepney-0.8.0 keyring-23.13.1 pkginfo-1.9.6 postgrest-0.10.6 python-gitlab-3.13.0 python-semantic-release-7.33.2 readme-renderer-37.3 realtime-1.0.0 requests-toolbelt-0.10.1 rfc3986-1.5.0 semver-2.13.0 smmap-5.0.0 storage3-0.5.2 strenum-0.4.10 supabase-1.0.3 supafunc-0.2.2 tomlkit-0.11.7 twine-3.8.0 websockets-10.4\n"
          ]
        }
      ]
    },
    {
      "cell_type": "code",
      "source": [
        "!pip install openai"
      ],
      "metadata": {
        "colab": {
          "base_uri": "https://localhost:8080/"
        },
        "id": "zp6tAeH1zeyD",
        "outputId": "caea3d13-35ce-4491-cb5e-271997db94cd"
      },
      "execution_count": 37,
      "outputs": [
        {
          "output_type": "stream",
          "name": "stdout",
          "text": [
            "Looking in indexes: https://pypi.org/simple, https://us-python.pkg.dev/colab-wheels/public/simple/\n",
            "Collecting openai\n",
            "  Downloading openai-0.27.4-py3-none-any.whl (70 kB)\n",
            "\u001b[?25l     \u001b[90m━━━━━━━━━━━━━━━━━━━━━━━━━━━━━━━━━━━━━━━━\u001b[0m \u001b[32m0.0/70.3 KB\u001b[0m \u001b[31m?\u001b[0m eta \u001b[36m-:--:--\u001b[0m\r\u001b[2K     \u001b[90m━━━━━━━━━━━━━━━━━━━━━━━━━━━━━━━━━━━━━━━━\u001b[0m \u001b[32m70.3/70.3 KB\u001b[0m \u001b[31m3.5 MB/s\u001b[0m eta \u001b[36m0:00:00\u001b[0m\n",
            "\u001b[?25hRequirement already satisfied: requests>=2.20 in /usr/local/lib/python3.9/dist-packages (from openai) (2.27.1)\n",
            "Requirement already satisfied: tqdm in /usr/local/lib/python3.9/dist-packages (from openai) (4.65.0)\n",
            "Requirement already satisfied: aiohttp in /usr/local/lib/python3.9/dist-packages (from openai) (3.8.4)\n",
            "Requirement already satisfied: idna<4,>=2.5 in /usr/local/lib/python3.9/dist-packages (from requests>=2.20->openai) (3.4)\n",
            "Requirement already satisfied: urllib3<1.27,>=1.21.1 in /usr/local/lib/python3.9/dist-packages (from requests>=2.20->openai) (1.26.15)\n",
            "Requirement already satisfied: charset-normalizer~=2.0.0 in /usr/local/lib/python3.9/dist-packages (from requests>=2.20->openai) (2.0.12)\n",
            "Requirement already satisfied: certifi>=2017.4.17 in /usr/local/lib/python3.9/dist-packages (from requests>=2.20->openai) (2022.12.7)\n",
            "Requirement already satisfied: multidict<7.0,>=4.5 in /usr/local/lib/python3.9/dist-packages (from aiohttp->openai) (6.0.4)\n",
            "Requirement already satisfied: async-timeout<5.0,>=4.0.0a3 in /usr/local/lib/python3.9/dist-packages (from aiohttp->openai) (4.0.2)\n",
            "Requirement already satisfied: frozenlist>=1.1.1 in /usr/local/lib/python3.9/dist-packages (from aiohttp->openai) (1.3.3)\n",
            "Requirement already satisfied: attrs>=17.3.0 in /usr/local/lib/python3.9/dist-packages (from aiohttp->openai) (22.2.0)\n",
            "Requirement already satisfied: aiosignal>=1.1.2 in /usr/local/lib/python3.9/dist-packages (from aiohttp->openai) (1.3.1)\n",
            "Requirement already satisfied: yarl<2.0,>=1.0 in /usr/local/lib/python3.9/dist-packages (from aiohttp->openai) (1.8.2)\n",
            "Installing collected packages: openai\n",
            "Successfully installed openai-0.27.4\n"
          ]
        }
      ]
    },
    {
      "cell_type": "code",
      "source": [
        "import os\n",
        "import openai\n",
        "from getpass import getpass\n",
        "\n",
        "openai.api_key = getpass()"
      ],
      "metadata": {
        "colab": {
          "base_uri": "https://localhost:8080/"
        },
        "id": "PmydaMQfzkHL",
        "outputId": "e581fd64-feb3-46da-d0f8-79ca35c29ca9"
      },
      "execution_count": 38,
      "outputs": [
        {
          "name": "stdout",
          "output_type": "stream",
          "text": [
            "··········\n"
          ]
        }
      ]
    },
    {
      "cell_type": "code",
      "source": [
        "import numpy as np\n",
        "import supabase\n",
        "supabase_url = 'https://wpisaiqtaoykjwwszlan.supabase.co'\n",
        "supabase_key = 'PRIVATE'\n",
        "supabase_client = supabase.Client(supabase_url, supabase_key)"
      ],
      "metadata": {
        "id": "k0DhZH76zngZ"
      },
      "execution_count": 39,
      "outputs": []
    },
    {
      "cell_type": "code",
      "source": [
        "def get_embedding(text, engine=\"text-embedding-ada-002\"):\n",
        "   text = text.replace(\"\\n\", \" \")\n",
        "   return openai.Embedding.create(input = [text], model=engine)['data'][0]['embedding']"
      ],
      "metadata": {
        "id": "X9JP8ar90KLj"
      },
      "execution_count": 40,
      "outputs": []
    },
    {
      "cell_type": "code",
      "source": [
        "for i in range(0, 13601):\n",
        "    embeddings = get_embedding(df_exploded.iloc[i,2])\n",
        "    supabase_client.table(\"langchain_150tkn\").insert({\"wikiid\":df_exploded.iloc[i,0], \"title\": df_exploded.iloc[i,1], \"content\": df_exploded.iloc[i,2], \"embedding\": embeddings }).execute()"
      ],
      "metadata": {
        "id": "p3x6V5D70M1h"
      },
      "execution_count": 41,
      "outputs": []
    },
    {
      "cell_type": "code",
      "source": [],
      "metadata": {
        "id": "h678i9-q0-CD"
      },
      "execution_count": null,
      "outputs": []
    }
  ]
}