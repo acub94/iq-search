{
 "cells": [
  {
   "cell_type": "code",
   "execution_count": 1,
   "id": "d1c15a39",
   "metadata": {},
   "outputs": [],
   "source": [
    "import pandas as pd\n",
    "import matplotlib.pyplot as plt\n",
    "%matplotlib inline"
   ]
  },
  {
   "cell_type": "code",
   "execution_count": 2,
   "id": "8b80936c",
   "metadata": {},
   "outputs": [],
   "source": [
    "data = pd.read_csv('merge3rows.csv',index_col=0)"
   ]
  },
  {
   "cell_type": "code",
   "execution_count": 3,
   "id": "b3c1e009",
   "metadata": {
    "scrolled": false
   },
   "outputs": [
    {
     "data": {
      "text/html": [
       "<div>\n",
       "<style scoped>\n",
       "    .dataframe tbody tr th:only-of-type {\n",
       "        vertical-align: middle;\n",
       "    }\n",
       "\n",
       "    .dataframe tbody tr th {\n",
       "        vertical-align: top;\n",
       "    }\n",
       "\n",
       "    .dataframe thead th {\n",
       "        text-align: right;\n",
       "    }\n",
       "</style>\n",
       "<table border=\"1\" class=\"dataframe\">\n",
       "  <thead>\n",
       "    <tr style=\"text-align: right;\">\n",
       "      <th></th>\n",
       "      <th>wikiid</th>\n",
       "      <th>title</th>\n",
       "      <th>content</th>\n",
       "    </tr>\n",
       "  </thead>\n",
       "  <tbody>\n",
       "    <tr>\n",
       "      <th>0</th>\n",
       "      <td>0n1-force</td>\n",
       "      <td>0n1 Force</td>\n",
       "      <td>0n1 Force is a collection of 7,777 generative ...</td>\n",
       "    </tr>\n",
       "    <tr>\n",
       "      <th>1</th>\n",
       "      <td>0n1-force</td>\n",
       "      <td>0n1 Force</td>\n",
       "      <td>In addition to the high-resolution artwork, ea...</td>\n",
       "    </tr>\n",
       "    <tr>\n",
       "      <th>2</th>\n",
       "      <td>0n1-force</td>\n",
       "      <td>0n1 Force</td>\n",
       "      <td>Partnerships On1 Force has partnered with some...</td>\n",
       "    </tr>\n",
       "    <tr>\n",
       "      <th>3</th>\n",
       "      <td>0n1-force</td>\n",
       "      <td>0n1 Force</td>\n",
       "      <td>Another rare NFT from the collection, K4M-1 07...</td>\n",
       "    </tr>\n",
       "    <tr>\n",
       "      <th>4</th>\n",
       "      <td>0x</td>\n",
       "      <td>0x Protocol</td>\n",
       "      <td>0x Protocol is a decentralized protocol that e...</td>\n",
       "    </tr>\n",
       "  </tbody>\n",
       "</table>\n",
       "</div>"
      ],
      "text/plain": [
       "      wikiid        title                                            content\n",
       "0  0n1-force    0n1 Force  0n1 Force is a collection of 7,777 generative ...\n",
       "1  0n1-force    0n1 Force  In addition to the high-resolution artwork, ea...\n",
       "2  0n1-force    0n1 Force  Partnerships On1 Force has partnered with some...\n",
       "3  0n1-force    0n1 Force  Another rare NFT from the collection, K4M-1 07...\n",
       "4         0x  0x Protocol  0x Protocol is a decentralized protocol that e..."
      ]
     },
     "execution_count": 3,
     "metadata": {},
     "output_type": "execute_result"
    }
   ],
   "source": [
    "data.head()"
   ]
  },
  {
   "cell_type": "code",
   "execution_count": 4,
   "id": "e586b5c4",
   "metadata": {},
   "outputs": [
    {
     "data": {
      "text/plain": [
       "(9962, 3)"
      ]
     },
     "execution_count": 4,
     "metadata": {},
     "output_type": "execute_result"
    }
   ],
   "source": [
    "data.shape"
   ]
  },
  {
   "cell_type": "code",
   "execution_count": 5,
   "id": "4d878b53",
   "metadata": {},
   "outputs": [],
   "source": [
    "data['length'] = None"
   ]
  },
  {
   "cell_type": "code",
   "execution_count": 6,
   "id": "67d58084",
   "metadata": {},
   "outputs": [],
   "source": [
    "for i in range(data.shape[0]):\n",
    "    data['length'][i] = len(data['content'][i])"
   ]
  },
  {
   "cell_type": "code",
   "execution_count": 7,
   "id": "e87f872c",
   "metadata": {},
   "outputs": [
    {
     "data": {
      "text/html": [
       "<div>\n",
       "<style scoped>\n",
       "    .dataframe tbody tr th:only-of-type {\n",
       "        vertical-align: middle;\n",
       "    }\n",
       "\n",
       "    .dataframe tbody tr th {\n",
       "        vertical-align: top;\n",
       "    }\n",
       "\n",
       "    .dataframe thead th {\n",
       "        text-align: right;\n",
       "    }\n",
       "</style>\n",
       "<table border=\"1\" class=\"dataframe\">\n",
       "  <thead>\n",
       "    <tr style=\"text-align: right;\">\n",
       "      <th></th>\n",
       "      <th>wikiid</th>\n",
       "      <th>title</th>\n",
       "      <th>content</th>\n",
       "      <th>length</th>\n",
       "    </tr>\n",
       "  </thead>\n",
       "  <tbody>\n",
       "    <tr>\n",
       "      <th>0</th>\n",
       "      <td>0n1-force</td>\n",
       "      <td>0n1 Force</td>\n",
       "      <td>0n1 Force is a collection of 7,777 generative ...</td>\n",
       "      <td>729</td>\n",
       "    </tr>\n",
       "    <tr>\n",
       "      <th>1</th>\n",
       "      <td>0n1-force</td>\n",
       "      <td>0n1 Force</td>\n",
       "      <td>In addition to the high-resolution artwork, ea...</td>\n",
       "      <td>781</td>\n",
       "    </tr>\n",
       "    <tr>\n",
       "      <th>2</th>\n",
       "      <td>0n1-force</td>\n",
       "      <td>0n1 Force</td>\n",
       "      <td>Partnerships On1 Force has partnered with some...</td>\n",
       "      <td>858</td>\n",
       "    </tr>\n",
       "    <tr>\n",
       "      <th>3</th>\n",
       "      <td>0n1-force</td>\n",
       "      <td>0n1 Force</td>\n",
       "      <td>Another rare NFT from the collection, K4M-1 07...</td>\n",
       "      <td>464</td>\n",
       "    </tr>\n",
       "    <tr>\n",
       "      <th>4</th>\n",
       "      <td>0x</td>\n",
       "      <td>0x Protocol</td>\n",
       "      <td>0x Protocol is a decentralized protocol that e...</td>\n",
       "      <td>674</td>\n",
       "    </tr>\n",
       "  </tbody>\n",
       "</table>\n",
       "</div>"
      ],
      "text/plain": [
       "      wikiid        title                                            content  \\\n",
       "0  0n1-force    0n1 Force  0n1 Force is a collection of 7,777 generative ...   \n",
       "1  0n1-force    0n1 Force  In addition to the high-resolution artwork, ea...   \n",
       "2  0n1-force    0n1 Force  Partnerships On1 Force has partnered with some...   \n",
       "3  0n1-force    0n1 Force  Another rare NFT from the collection, K4M-1 07...   \n",
       "4         0x  0x Protocol  0x Protocol is a decentralized protocol that e...   \n",
       "\n",
       "  length  \n",
       "0    729  \n",
       "1    781  \n",
       "2    858  \n",
       "3    464  \n",
       "4    674  "
      ]
     },
     "execution_count": 7,
     "metadata": {},
     "output_type": "execute_result"
    }
   ],
   "source": [
    "data.head()"
   ]
  },
  {
   "cell_type": "code",
   "execution_count": 8,
   "id": "e48bb84f",
   "metadata": {},
   "outputs": [
    {
     "data": {
      "text/plain": [
       "3"
      ]
     },
     "execution_count": 8,
     "metadata": {},
     "output_type": "execute_result"
    }
   ],
   "source": [
    "min(data.length.unique())"
   ]
  },
  {
   "cell_type": "code",
   "execution_count": 9,
   "id": "882d5fad",
   "metadata": {},
   "outputs": [
    {
     "data": {
      "text/plain": [
       "52"
      ]
     },
     "execution_count": 9,
     "metadata": {},
     "output_type": "execute_result"
    }
   ],
   "source": [
    "data.groupby('length').size().max()"
   ]
  },
  {
   "cell_type": "code",
   "execution_count": 10,
   "id": "e2012814",
   "metadata": {},
   "outputs": [
    {
     "data": {
      "text/plain": [
       "3529"
      ]
     },
     "execution_count": 10,
     "metadata": {},
     "output_type": "execute_result"
    }
   ],
   "source": [
    "max(data.length.values)"
   ]
  },
  {
   "cell_type": "code",
   "execution_count": 11,
   "id": "80026a52",
   "metadata": {},
   "outputs": [
    {
     "data": {
      "text/plain": [
       "Text(0, 0.5, 'Number of Chunks with same Length')"
      ]
     },
     "execution_count": 11,
     "metadata": {},
     "output_type": "execute_result"
    },
    {
     "data": {
      "image/png": "[encoded data removed]",
      "text/plain": [
       "<Figure size 800x400 with 1 Axes>"
      ]
     },
     "metadata": {},
     "output_type": "display_data"
    }
   ],
   "source": [
    "plt.figure(figsize=(8,4))\n",
    "plt.plot(data.groupby('length').size())\n",
    "plt.title(\"Chunks Lengths\")\n",
    "plt.xlabel('Chunk')\n",
    "plt.ylabel('Number of Chunks with same Length')\n"
   ]
  },
  {
   "cell_type": "code",
   "execution_count": 12,
   "id": "b189083b",
   "metadata": {},
   "outputs": [
    {
     "data": {
      "image/png": "[encoded data removed]",
      "text/plain": [
       "<Figure size 800x400 with 1 Axes>"
      ]
     },
     "metadata": {},
     "output_type": "display_data"
    }
   ],
   "source": [
    "plt.figure(figsize=(8,4))\n",
    "data['length'].hist(bins=100)\n",
    "plt.title(\"Chunk Length Visualization\")\n",
    "plt.xlabel('Chunk Size')\n",
    "plt.ylabel('Frequency')\n",
    "plt.show()"
   ]
  },
  {
   "cell_type": "code",
   "execution_count": 13,
   "id": "68f40264",
   "metadata": {},
   "outputs": [
    {
     "data": {
      "text/plain": [
       "6546    Staking Rewards 30% of total supply, or 266,66...\n",
       "Name: content, dtype: object"
      ]
     },
     "execution_count": 13,
     "metadata": {},
     "output_type": "execute_result"
    }
   ],
   "source": [
    "#max(data.length.values)\n",
    "data [data.length == data.length.max()]['content']"
   ]
  },
  {
   "cell_type": "code",
   "execution_count": 14,
   "id": "4b86cea1",
   "metadata": {},
   "outputs": [
    {
     "data": {
      "text/plain": [
       "\"Staking Rewards 30% of total supply, or 266,666,666 OM; Locked-up at TGE, and would be unlocked on a rolling basis at a decaying growth rate so that: All 266,666,666 OM would unlock by the end of the 5th year since TGE (roughly 1826 days since TGE); Unlocking schedule would follow a non-linear decaying growth function, such that a greater proportion of staking rewards would be unlocked on the earlier days and a lower proportion in the later days; The purpose of this is to create a concave downward release curve, so that early stakers receive a greater proportion of the staking rewards bucket, and this decreases over time; The team is still modeling out several scenarios, and the exact decaying growth rate will be shared with the community ahead of the TGE; Locked staking rewards tokens would not be eligible to earn staking rewards; Unlocked and earned staking rewards would be eligible to be staked and earn staking rewards from the day they become unlocked and distributed to token holders.Referrals 12.5% of total supply, or 111,111,111 OM; 15% of referral tokens, or 16,666,666 OM tokens would be unlocked and enter circulating supply over the first 151 days since TGE, according to the following schedule: 5% of the referral's bucket, or 5,555,555 OM, would be unlocked and begin circulating at TGE; 2% of the referral's bucket, or 2,222,222 OM, would be unlocked on each of the 31st, 61st, 91st, 121st and 151st days since TGE, for a total of 11,111,111 OM to be unlocked and begin circulating during this time period; The remaining 85% of referral tokens, or 94,444,444 OM would be unlocked on a rolling basis at a linear release rate starting day 366 since TGE such that 100% of referral tokens would be unlocked by the end of the 5th year since TGE (roughly 1826 days since TGE); Referral tokens are meant to be used for Mantra DAO community and ecosystem development activities, including airdrops, bounty campaigns, exchange and refer-a-friend promotions, among other promotional and community building campaigns; If referrals are determined to no longer be needed for Mantra DAO community and ecosystem growth, the community may issue an on-chain governance proposal to burn all outstanding referral tokens; Locked referral tokens would not be eligible to earn staking rewards; Unlocked and distributed referral tokens would be eligible to be staked and earn staking rewards from the day they become unlocked and distributed.Reserves 10% of total supply, or 88,888,888 OM; 7.5% of the reserves bucket, or 6,666,666 OM, would be unlocked at TGE; These would be used for market liquidity provisions at the outset of TGE, and are expected to remain with the foundation for future re-allocation or burning; The remaining 92.5% of reserve tokens, or 82,222,222 OM would be unlocked on a rolling basis at a linear release rate starting day 366 since TGE such that 100% of reserve tokens would be unlocked by the end of the 5th year since TGE (roughly 1,826 days since TGE); Reserve tokens are meant to provide the Mantra DAO foundation an alternate source of funding should it be required in the future; If reserves are determined to no longer be needed for Mantra DAO community and ecosystem growth, the community may issue an on-chain governance proposal to burn all outstanding reserve tokens; Locked reserve tokens would not be eligible to earn staking rewards; Unlocked and distributed reserve tokens would be eligible to be staked and earn staking rewards from the day they become unlocked and distributed.\""
      ]
     },
     "execution_count": 14,
     "metadata": {},
     "output_type": "execute_result"
    }
   ],
   "source": [
    "data.iloc[6546,:]['content']"
   ]
  },
  {
   "cell_type": "code",
   "execution_count": 15,
   "id": "a518035e",
   "metadata": {},
   "outputs": [
    {
     "data": {
      "image/png": "[encoded data removed]",
      "text/plain": [
       "<Figure size 800x400 with 1 Axes>"
      ]
     },
     "metadata": {},
     "output_type": "display_data"
    }
   ],
   "source": [
    "plt.figure(figsize=(8,4))\n",
    "data['length'].hist(bins=10000)\n",
    "plt.title(\"Chunk Length Visualization\")\n",
    "plt.xlabel('Chunk Size')\n",
    "plt.ylabel('Frequency')\n",
    "plt.show()"
   ]
  },
  {
   "cell_type": "code",
   "execution_count": 16,
   "id": "88fd6ac7",
   "metadata": {},
   "outputs": [],
   "source": [
    "priority_based = data.sort_values(by='length',ascending=False)"
   ]
  },
  {
   "cell_type": "code",
   "execution_count": 17,
   "id": "888e759a",
   "metadata": {},
   "outputs": [
    {
     "data": {
      "text/html": [
       "<div>\n",
       "<style scoped>\n",
       "    .dataframe tbody tr th:only-of-type {\n",
       "        vertical-align: middle;\n",
       "    }\n",
       "\n",
       "    .dataframe tbody tr th {\n",
       "        vertical-align: top;\n",
       "    }\n",
       "\n",
       "    .dataframe thead th {\n",
       "        text-align: right;\n",
       "    }\n",
       "</style>\n",
       "<table border=\"1\" class=\"dataframe\">\n",
       "  <thead>\n",
       "    <tr style=\"text-align: right;\">\n",
       "      <th></th>\n",
       "      <th>wikiid</th>\n",
       "      <th>title</th>\n",
       "      <th>content</th>\n",
       "      <th>length</th>\n",
       "    </tr>\n",
       "  </thead>\n",
       "  <tbody>\n",
       "    <tr>\n",
       "      <th>6546</th>\n",
       "      <td>mantra-dao</td>\n",
       "      <td>Mantra</td>\n",
       "      <td>Staking Rewards 30% of total supply, or 266,66...</td>\n",
       "      <td>3529</td>\n",
       "    </tr>\n",
       "    <tr>\n",
       "      <th>8376</th>\n",
       "      <td>refik-anadol</td>\n",
       "      <td>Refik Anadol</td>\n",
       "      <td>His award winning projects explore how the per...</td>\n",
       "      <td>2219</td>\n",
       "    </tr>\n",
       "    <tr>\n",
       "      <th>2753</th>\n",
       "      <td>cristina-dolan</td>\n",
       "      <td>Cristina Dolan</td>\n",
       "      <td>| President of the MIT Club of New York | July...</td>\n",
       "      <td>1980</td>\n",
       "    </tr>\n",
       "    <tr>\n",
       "      <th>1439</th>\n",
       "      <td>binance-nft</td>\n",
       "      <td>Binance NFT</td>\n",
       "      <td>The content from the \"100 Creators\" program, a...</td>\n",
       "      <td>1924</td>\n",
       "    </tr>\n",
       "    <tr>\n",
       "      <th>911</th>\n",
       "      <td>ascendex</td>\n",
       "      <td>AscendEX</td>\n",
       "      <td>In particular, you understand and accept that ...</td>\n",
       "      <td>1882</td>\n",
       "    </tr>\n",
       "    <tr>\n",
       "      <th>...</th>\n",
       "      <td>...</td>\n",
       "      <td>...</td>\n",
       "      <td>...</td>\n",
       "      <td>...</td>\n",
       "    </tr>\n",
       "    <tr>\n",
       "      <th>777</th>\n",
       "      <td>apy-finance</td>\n",
       "      <td>APY Finance</td>\n",
       "      <td>The LAO Vendetta Capital</td>\n",
       "      <td>24</td>\n",
       "    </tr>\n",
       "    <tr>\n",
       "      <th>4085</th>\n",
       "      <td>ethereum</td>\n",
       "      <td>Ethereum</td>\n",
       "      <td>Ethereum’s Shanghai</td>\n",
       "      <td>19</td>\n",
       "    </tr>\n",
       "    <tr>\n",
       "      <th>7237</th>\n",
       "      <td>nouns</td>\n",
       "      <td>Nouns</td>\n",
       "      <td>MounPunks.webp</td>\n",
       "      <td>14</td>\n",
       "    </tr>\n",
       "    <tr>\n",
       "      <th>8309</th>\n",
       "      <td>rarible</td>\n",
       "      <td>Rarible</td>\n",
       "      <td>But in the in</td>\n",
       "      <td>13</td>\n",
       "    </tr>\n",
       "    <tr>\n",
       "      <th>9343</th>\n",
       "      <td>tokenlon</td>\n",
       "      <td>Tokenlon</td>\n",
       "      <td>&lt;br</td>\n",
       "      <td>3</td>\n",
       "    </tr>\n",
       "  </tbody>\n",
       "</table>\n",
       "<p>9962 rows × 4 columns</p>\n",
       "</div>"
      ],
      "text/plain": [
       "              wikiid           title  \\\n",
       "6546      mantra-dao          Mantra   \n",
       "8376    refik-anadol    Refik Anadol   \n",
       "2753  cristina-dolan  Cristina Dolan   \n",
       "1439     binance-nft     Binance NFT   \n",
       "911         ascendex        AscendEX   \n",
       "...              ...             ...   \n",
       "777      apy-finance     APY Finance   \n",
       "4085        ethereum        Ethereum   \n",
       "7237           nouns           Nouns   \n",
       "8309         rarible         Rarible   \n",
       "9343        tokenlon        Tokenlon   \n",
       "\n",
       "                                                content length  \n",
       "6546  Staking Rewards 30% of total supply, or 266,66...   3529  \n",
       "8376  His award winning projects explore how the per...   2219  \n",
       "2753  | President of the MIT Club of New York | July...   1980  \n",
       "1439  The content from the \"100 Creators\" program, a...   1924  \n",
       "911   In particular, you understand and accept that ...   1882  \n",
       "...                                                 ...    ...  \n",
       "777                            The LAO Vendetta Capital     24  \n",
       "4085                                Ethereum’s Shanghai     19  \n",
       "7237                                     MounPunks.webp     14  \n",
       "8309                                      But in the in     13  \n",
       "9343                                                <br      3  \n",
       "\n",
       "[9962 rows x 4 columns]"
      ]
     },
     "execution_count": 17,
     "metadata": {},
     "output_type": "execute_result"
    }
   ],
   "source": [
    "priority_based"
   ]
  },
  {
   "cell_type": "code",
   "execution_count": 18,
   "id": "251fd59f",
   "metadata": {},
   "outputs": [],
   "source": [
    "largest_top_5 = priority_based.head(5)"
   ]
  },
  {
   "cell_type": "code",
   "execution_count": 19,
   "id": "52399f95",
   "metadata": {},
   "outputs": [],
   "source": [
    "smallest_top_5 = priority_based.tail(5)"
   ]
  },
  {
   "cell_type": "code",
   "execution_count": 20,
   "id": "23b49807",
   "metadata": {},
   "outputs": [
    {
     "data": {
      "text/html": [
       "<div>\n",
       "<style scoped>\n",
       "    .dataframe tbody tr th:only-of-type {\n",
       "        vertical-align: middle;\n",
       "    }\n",
       "\n",
       "    .dataframe tbody tr th {\n",
       "        vertical-align: top;\n",
       "    }\n",
       "\n",
       "    .dataframe thead th {\n",
       "        text-align: right;\n",
       "    }\n",
       "</style>\n",
       "<table border=\"1\" class=\"dataframe\">\n",
       "  <thead>\n",
       "    <tr style=\"text-align: right;\">\n",
       "      <th></th>\n",
       "      <th>wikiid</th>\n",
       "      <th>title</th>\n",
       "      <th>content</th>\n",
       "      <th>length</th>\n",
       "    </tr>\n",
       "  </thead>\n",
       "  <tbody>\n",
       "    <tr>\n",
       "      <th>6546</th>\n",
       "      <td>mantra-dao</td>\n",
       "      <td>Mantra</td>\n",
       "      <td>Staking Rewards 30% of total supply, or 266,66...</td>\n",
       "      <td>3529</td>\n",
       "    </tr>\n",
       "    <tr>\n",
       "      <th>8376</th>\n",
       "      <td>refik-anadol</td>\n",
       "      <td>Refik Anadol</td>\n",
       "      <td>His award winning projects explore how the per...</td>\n",
       "      <td>2219</td>\n",
       "    </tr>\n",
       "    <tr>\n",
       "      <th>2753</th>\n",
       "      <td>cristina-dolan</td>\n",
       "      <td>Cristina Dolan</td>\n",
       "      <td>| President of the MIT Club of New York | July...</td>\n",
       "      <td>1980</td>\n",
       "    </tr>\n",
       "    <tr>\n",
       "      <th>1439</th>\n",
       "      <td>binance-nft</td>\n",
       "      <td>Binance NFT</td>\n",
       "      <td>The content from the \"100 Creators\" program, a...</td>\n",
       "      <td>1924</td>\n",
       "    </tr>\n",
       "    <tr>\n",
       "      <th>911</th>\n",
       "      <td>ascendex</td>\n",
       "      <td>AscendEX</td>\n",
       "      <td>In particular, you understand and accept that ...</td>\n",
       "      <td>1882</td>\n",
       "    </tr>\n",
       "  </tbody>\n",
       "</table>\n",
       "</div>"
      ],
      "text/plain": [
       "              wikiid           title  \\\n",
       "6546      mantra-dao          Mantra   \n",
       "8376    refik-anadol    Refik Anadol   \n",
       "2753  cristina-dolan  Cristina Dolan   \n",
       "1439     binance-nft     Binance NFT   \n",
       "911         ascendex        AscendEX   \n",
       "\n",
       "                                                content length  \n",
       "6546  Staking Rewards 30% of total supply, or 266,66...   3529  \n",
       "8376  His award winning projects explore how the per...   2219  \n",
       "2753  | President of the MIT Club of New York | July...   1980  \n",
       "1439  The content from the \"100 Creators\" program, a...   1924  \n",
       "911   In particular, you understand and accept that ...   1882  "
      ]
     },
     "execution_count": 20,
     "metadata": {},
     "output_type": "execute_result"
    }
   ],
   "source": [
    "largest_top_5"
   ]
  },
  {
   "cell_type": "code",
   "execution_count": 21,
   "id": "f0c2f661",
   "metadata": {
    "scrolled": true
   },
   "outputs": [
    {
     "data": {
      "text/html": [
       "<div>\n",
       "<style scoped>\n",
       "    .dataframe tbody tr th:only-of-type {\n",
       "        vertical-align: middle;\n",
       "    }\n",
       "\n",
       "    .dataframe tbody tr th {\n",
       "        vertical-align: top;\n",
       "    }\n",
       "\n",
       "    .dataframe thead th {\n",
       "        text-align: right;\n",
       "    }\n",
       "</style>\n",
       "<table border=\"1\" class=\"dataframe\">\n",
       "  <thead>\n",
       "    <tr style=\"text-align: right;\">\n",
       "      <th></th>\n",
       "      <th>wikiid</th>\n",
       "      <th>title</th>\n",
       "      <th>content</th>\n",
       "      <th>length</th>\n",
       "    </tr>\n",
       "  </thead>\n",
       "  <tbody>\n",
       "    <tr>\n",
       "      <th>777</th>\n",
       "      <td>apy-finance</td>\n",
       "      <td>APY Finance</td>\n",
       "      <td>The LAO Vendetta Capital</td>\n",
       "      <td>24</td>\n",
       "    </tr>\n",
       "    <tr>\n",
       "      <th>4085</th>\n",
       "      <td>ethereum</td>\n",
       "      <td>Ethereum</td>\n",
       "      <td>Ethereum’s Shanghai</td>\n",
       "      <td>19</td>\n",
       "    </tr>\n",
       "    <tr>\n",
       "      <th>7237</th>\n",
       "      <td>nouns</td>\n",
       "      <td>Nouns</td>\n",
       "      <td>MounPunks.webp</td>\n",
       "      <td>14</td>\n",
       "    </tr>\n",
       "    <tr>\n",
       "      <th>8309</th>\n",
       "      <td>rarible</td>\n",
       "      <td>Rarible</td>\n",
       "      <td>But in the in</td>\n",
       "      <td>13</td>\n",
       "    </tr>\n",
       "    <tr>\n",
       "      <th>9343</th>\n",
       "      <td>tokenlon</td>\n",
       "      <td>Tokenlon</td>\n",
       "      <td>&lt;br</td>\n",
       "      <td>3</td>\n",
       "    </tr>\n",
       "  </tbody>\n",
       "</table>\n",
       "</div>"
      ],
      "text/plain": [
       "           wikiid        title                   content length\n",
       "777   apy-finance  APY Finance  The LAO Vendetta Capital     24\n",
       "4085     ethereum     Ethereum       Ethereum’s Shanghai     19\n",
       "7237        nouns        Nouns            MounPunks.webp     14\n",
       "8309      rarible      Rarible             But in the in     13\n",
       "9343     tokenlon     Tokenlon                       <br      3"
      ]
     },
     "execution_count": 21,
     "metadata": {},
     "output_type": "execute_result"
    }
   ],
   "source": [
    "smallest_top_5"
   ]
  },
  {
   "cell_type": "code",
   "execution_count": 22,
   "id": "37f6ac71",
   "metadata": {},
   "outputs": [
    {
     "data": {
      "text/html": [
       "<div>\n",
       "<style scoped>\n",
       "    .dataframe tbody tr th:only-of-type {\n",
       "        vertical-align: middle;\n",
       "    }\n",
       "\n",
       "    .dataframe tbody tr th {\n",
       "        vertical-align: top;\n",
       "    }\n",
       "\n",
       "    .dataframe thead th {\n",
       "        text-align: right;\n",
       "    }\n",
       "</style>\n",
       "<table border=\"1\" class=\"dataframe\">\n",
       "  <thead>\n",
       "    <tr style=\"text-align: right;\">\n",
       "      <th></th>\n",
       "      <th>wikiid</th>\n",
       "      <th>title</th>\n",
       "      <th>content</th>\n",
       "      <th>length</th>\n",
       "    </tr>\n",
       "  </thead>\n",
       "  <tbody>\n",
       "    <tr>\n",
       "      <th>9333</th>\n",
       "      <td>tokenlon</td>\n",
       "      <td>Tokenlon</td>\n",
       "      <td>Tokenlon is a decentralized exchange (DEX) and...</td>\n",
       "      <td>712</td>\n",
       "    </tr>\n",
       "    <tr>\n",
       "      <th>9334</th>\n",
       "      <td>tokenlon</td>\n",
       "      <td>Tokenlon</td>\n",
       "      <td>Tokenlon uses an exchange methodology called a...</td>\n",
       "      <td>763</td>\n",
       "    </tr>\n",
       "    <tr>\n",
       "      <th>9335</th>\n",
       "      <td>tokenlon</td>\n",
       "      <td>Tokenlon</td>\n",
       "      <td>Start trading, referral, market making, and ot...</td>\n",
       "      <td>699</td>\n",
       "    </tr>\n",
       "    <tr>\n",
       "      <th>9336</th>\n",
       "      <td>tokenlon</td>\n",
       "      <td>Tokenlon</td>\n",
       "      <td>2022 - Open Network : through the establishmen...</td>\n",
       "      <td>600</td>\n",
       "    </tr>\n",
       "    <tr>\n",
       "      <th>9337</th>\n",
       "      <td>tokenlon</td>\n",
       "      <td>Tokenlon</td>\n",
       "      <td>Leveraging the cross-chain liquidity network b...</td>\n",
       "      <td>682</td>\n",
       "    </tr>\n",
       "    <tr>\n",
       "      <th>9338</th>\n",
       "      <td>tokenlon</td>\n",
       "      <td>Tokenlon</td>\n",
       "      <td>Through the inclusion and distribution of the ...</td>\n",
       "      <td>745</td>\n",
       "    </tr>\n",
       "    <tr>\n",
       "      <th>9339</th>\n",
       "      <td>tokenlon</td>\n",
       "      <td>Tokenlon</td>\n",
       "      <td>By holding LON, users can get corresponding fe...</td>\n",
       "      <td>583</td>\n",
       "    </tr>\n",
       "    <tr>\n",
       "      <th>9340</th>\n",
       "      <td>tokenlon</td>\n",
       "      <td>Tokenlon</td>\n",
       "      <td>49,680,000 LON is allocated to the core team, ...</td>\n",
       "      <td>746</td>\n",
       "    </tr>\n",
       "    <tr>\n",
       "      <th>9341</th>\n",
       "      <td>tokenlon</td>\n",
       "      <td>Tokenlon</td>\n",
       "      <td>The second phase started on October 31, issuin...</td>\n",
       "      <td>674</td>\n",
       "    </tr>\n",
       "    <tr>\n",
       "      <th>9342</th>\n",
       "      <td>tokenlon</td>\n",
       "      <td>Tokenlon</td>\n",
       "      <td>Governance According to the Tokenlon whitepape...</td>\n",
       "      <td>712</td>\n",
       "    </tr>\n",
       "    <tr>\n",
       "      <th>9343</th>\n",
       "      <td>tokenlon</td>\n",
       "      <td>Tokenlon</td>\n",
       "      <td>&lt;br</td>\n",
       "      <td>3</td>\n",
       "    </tr>\n",
       "  </tbody>\n",
       "</table>\n",
       "</div>"
      ],
      "text/plain": [
       "        wikiid     title                                            content  \\\n",
       "9333  tokenlon  Tokenlon  Tokenlon is a decentralized exchange (DEX) and...   \n",
       "9334  tokenlon  Tokenlon  Tokenlon uses an exchange methodology called a...   \n",
       "9335  tokenlon  Tokenlon  Start trading, referral, market making, and ot...   \n",
       "9336  tokenlon  Tokenlon  2022 - Open Network : through the establishmen...   \n",
       "9337  tokenlon  Tokenlon  Leveraging the cross-chain liquidity network b...   \n",
       "9338  tokenlon  Tokenlon  Through the inclusion and distribution of the ...   \n",
       "9339  tokenlon  Tokenlon  By holding LON, users can get corresponding fe...   \n",
       "9340  tokenlon  Tokenlon  49,680,000 LON is allocated to the core team, ...   \n",
       "9341  tokenlon  Tokenlon  The second phase started on October 31, issuin...   \n",
       "9342  tokenlon  Tokenlon  Governance According to the Tokenlon whitepape...   \n",
       "9343  tokenlon  Tokenlon                                                <br   \n",
       "\n",
       "     length  \n",
       "9333    712  \n",
       "9334    763  \n",
       "9335    699  \n",
       "9336    600  \n",
       "9337    682  \n",
       "9338    745  \n",
       "9339    583  \n",
       "9340    746  \n",
       "9341    674  \n",
       "9342    712  \n",
       "9343      3  "
      ]
     },
     "execution_count": 22,
     "metadata": {},
     "output_type": "execute_result"
    }
   ],
   "source": [
    "data[data['title'] == 'Tokenlon']"
   ]
  },
  {
   "cell_type": "code",
   "execution_count": 23,
   "id": "ff1e1dbc",
   "metadata": {},
   "outputs": [
    {
     "data": {
      "text/plain": [
       "'Start trading, referral, market making, and other continuous community incentive programs, launch liquidity pool incentives, introduce buyback, staking and other mechanisms. Improve the LON economic model, and make LON the main driving force to promote the development of the Tokenlon network.2021, 2022 - Community Governance Bootstrap : based on the current off-chain pre-governance, introduce a LON-based governance module, start minimal governance, and gradually open up the governance of various economic parameters and mechanisms.Decentralize the decision-making process, and finally have development of Tokenlon all led by community proposals, forming a decentralized autonomous organization.'"
      ]
     },
     "execution_count": 23,
     "metadata": {},
     "output_type": "execute_result"
    }
   ],
   "source": [
    "data[data['title'] == 'Tokenlon'].iloc[2,:].content"
   ]
  },
  {
   "cell_type": "code",
   "execution_count": 24,
   "id": "d8babfec",
   "metadata": {},
   "outputs": [
    {
     "data": {
      "text/plain": [
       "'Tokenlon uses an exchange methodology called a request for quotation (RFQ). Thanks to the RFQ methodology, trading on Tokenlon looks like trading with an automated over-the-counter (OTC) desk.Like with a traditional OTC desk, the user first asks for a quotation to - for example - sell 100 ETH for USDC. The market maker, on the other side, then quotes (cryptographically signed) - for example - 46,116.69849 USDC. The user can then trade that exact price. Roadmap 2020 -Genesis Mining : establish a reward system to motivate traders, referrers, and market makers among ecosystem participants and reward LON to early Tokenlon contributors and complete 30 million genesis LON distribution to the community. 2021 - Tokenomics : complete the release of Tokenlon 5.0.'"
      ]
     },
     "execution_count": 24,
     "metadata": {},
     "output_type": "execute_result"
    }
   ],
   "source": [
    "data[data['title'] == 'Tokenlon'].iloc[1,:].content"
   ]
  },
  {
   "cell_type": "code",
   "execution_count": 25,
   "id": "9f0964f4",
   "metadata": {},
   "outputs": [
    {
     "data": {
      "text/plain": [
       "'With this vision in sight, the AscendEX team has launched AscendEX, an innovative next-generation digital asset trading platform, with the mission to support financial market innovation and the advancement of the crypto economy.The AscendEX team hopes that through building upon a series of open and fair market rules, AscendEX would be able to boost the liquidity of the overall market, enhance market depth and support the blockchain structural optimization.Leveraging on blockchain technology as well as AscendEX team’s deep global trading and management experience across traditional finance and the Internet, AscendEX aims to establish a global trading platform that provides a broad range of products and services for global retail and institutional clients with its relentless focus on transparency, reliability, and quality of execution and client services.'"
      ]
     },
     "execution_count": 25,
     "metadata": {},
     "output_type": "execute_result"
    }
   ],
   "source": [
    "data[data['title'] == 'AscendEX'].iloc[1,:].content\n"
   ]
  },
  {
   "cell_type": "code",
   "execution_count": 29,
   "id": "aab7d01a",
   "metadata": {},
   "outputs": [
    {
     "data": {
      "text/plain": [
       "array(['paxos', 'aidcoin', 'float-protocol', 'koala-intelligence-agency',\n",
       "       'tom-sachs-rocket-factory', 'goldmint', 'nucypher', 'jack-butcher',\n",
       "       'marc-tudisco', 'checks', 'genesis-vision', 'hodl', 'jay-hao',\n",
       "       'addison-mckenzie', 'sync-network', 'stellar',\n",
       "       'heroes-and-empires', 'jackson-palmer', 'daostack', 'cardano-ada',\n",
       "       '9-lives-arena', 'bzx', '0xcert', 'immutable-x', 'felix-xu',\n",
       "       'my-neighbor-alice', 'aichain', 'busd', 'james-eddington',\n",
       "       '0xuniverse', 'akropolis', 'mooniswap', 'bitcoin-cash', 'ceek',\n",
       "       'cryptodads', 'btse', 'quickswap', 'cryptocurrency', 'tokensets',\n",
       "       'energi', 'ivan-on-tech', 'proof-of-stake', 'aave', 'opolis',\n",
       "       'acala', 'leverj', 'aidos-kuneen', 'conflux-network', 'dinolfg',\n",
       "       'pirate-chain', 'glitch', 'crystal-rose-pierce',\n",
       "       'rari-governance-token', 'sorare', 'airswap', 'cryptoping',\n",
       "       'hegic', 'yuga-labs', 'vechain', 'quirkies', 'foundation',\n",
       "       'initial-coin-offering', 'illuvium', 'proximax', 'arbitrum',\n",
       "       'league-of-kingdoms', 'punks-comic', 'mettalex', 'metakey',\n",
       "       'chiliz', 'illia-polosukhin', 'gavin-wood',\n",
       "       'decentralized-information-asset', 'bitcoin-gold', 'imgnai',\n",
       "       'brock-pierce', 'firo', 'luca-netz', 'bitcoin-diamond', 'okcoin',\n",
       "       'amlt', 'boringdao', 'hashmasks', 'murakamiflowers', 'adex',\n",
       "       'trueusd', 'inverse-finance', 'based-money', 'metacoms', 'axelar',\n",
       "       'coin98', 'dexe', 'aragon-court', 'catcoin', 'crypto-raiders'],\n",
       "      dtype=object)"
      ]
     },
     "execution_count": 29,
     "metadata": {},
     "output_type": "execute_result"
    }
   ],
   "source": [
    "priority_based.sample(frac=0.01).wikiid.unique()"
   ]
  },
  {
   "cell_type": "code",
   "execution_count": null,
   "id": "1741acca",
   "metadata": {},
   "outputs": [],
   "source": [
    "pr"
   ]
  }
 ],
 "metadata": {
  "kernelspec": {
   "display_name": "Python 3.9 (tensorflow)",
   "language": "python",
   "name": "tensorflow"
  },
  "language_info": {
   "codemirror_mode": {
    "name": "ipython",
    "version": 3
   },
   "file_extension": ".py",
   "mimetype": "text/x-python",
   "name": "python",
   "nbconvert_exporter": "python",
   "pygments_lexer": "ipython3",
   "version": "3.9.13"
  }
 },
 "nbformat": 4,
 "nbformat_minor": 5
}
