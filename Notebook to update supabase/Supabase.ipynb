{
 "cells": [
  {
   "cell_type": "code",
   "execution_count": 1,
   "id": "72770a7a-e6dc-4de4-b48f-3f9c81a0a521",
   "metadata": {
    "tags": []
   },
   "outputs": [],
   "source": [
    "def get_wikis():\n",
    "    # data frame instance for storing each row\n",
    "    dataFrame = pd.DataFrame(columns=['id', 'summary', 'content'])\n",
    "    \n",
    "    # looping for fetching all available wikis fron DB\n",
    "    # manually tested for max ranges of limit & offeset,\n",
    "    # came out to be limit = 50 & offeset = 1337\n",
    "    for offset in range(0,1340,50):\n",
    "        # graphql db url for everpedia wikis\n",
    "        url = \"https://graph.everipedia.org/graphql\"\n",
    "        # payload \n",
    "        query = \"\"\"{\n",
    "                      wikis(limit:50,offset:\"\"\"+str(offset)+\"\"\") {\n",
    "                      id\n",
    "                      title\n",
    "                      content\n",
    "                    }\n",
    "                }\"\"\"\n",
    "        \n",
    "        # sending request\n",
    "        response = requests.post(url=url,json={\"query\":query})\n",
    "        #time.sleep(0.5)\n",
    "        # storing newly fetched data into a data frame\n",
    "        freshDf = pd.DataFrame(response.json()['data']['wikis'])\n",
    "        \n",
    "        # concatenating both old & new dataframes as one\n",
    "        dataFrame = pd.concat([dataFrame, freshDf],axis=0,ignore_index=True)\n",
    "        \n",
    "    # DB may return same wiki multiple times from each request, so drop duplicates if any  \n",
    "    dataFrame = dataFrame.drop_duplicates(subset=['id']) # id is the unique identifier\n",
    "    \n",
    "    return dataFrame"
   ]
  },
  {
   "cell_type": "code",
   "execution_count": 3,
   "id": "9e994792-1dd6-4fd8-a7dd-ade8c2085667",
   "metadata": {
    "tags": []
   },
   "outputs": [
    {
     "name": "stdout",
     "output_type": "stream",
     "text": [
      "Collecting pandas\n",
      "  Downloading pandas-1.5.3-cp310-cp310-manylinux_2_17_x86_64.manylinux2014_x86_64.whl (12.1 MB)\n",
      "\u001b[2K     \u001b[90m━━━━━━━━━━━━━━━━━━━━━━━━━━━━━━━━━━━━━━━\u001b[0m \u001b[32m12.1/12.1 MB\u001b[0m \u001b[31m272.8 kB/s\u001b[0m eta \u001b[36m0:00:00\u001b[0m00:01\u001b[0m00:02\u001b[0m\n",
      "\u001b[?25hRequirement already satisfied: pytz>=2020.1 in /usr/local/lib/python3.10/dist-packages (from pandas) (2022.7.1)\n",
      "Requirement already satisfied: numpy>=1.21.0 in /usr/local/lib/python3.10/dist-packages (from pandas) (1.24.2)\n",
      "Requirement already satisfied: python-dateutil>=2.8.1 in /usr/local/lib/python3.10/dist-packages (from pandas) (2.8.2)\n",
      "Requirement already satisfied: six>=1.5 in /usr/lib/python3/dist-packages (from python-dateutil>=2.8.1->pandas) (1.14.0)\n",
      "Installing collected packages: pandas\n",
      "Successfully installed pandas-1.5.3\n",
      "\u001b[33mWARNING: Running pip as the 'root' user can result in broken permissions and conflicting behaviour with the system package manager. It is recommended to use a virtual environment instead: https://pip.pypa.io/warnings/venv\u001b[0m\u001b[33m\n",
      "\u001b[0m\n",
      "\u001b[1m[\u001b[0m\u001b[34;49mnotice\u001b[0m\u001b[1;39;49m]\u001b[0m\u001b[39;49m A new release of pip is available: \u001b[0m\u001b[31;49m23.0\u001b[0m\u001b[39;49m -> \u001b[0m\u001b[32;49m23.0.1\u001b[0m\n",
      "\u001b[1m[\u001b[0m\u001b[34;49mnotice\u001b[0m\u001b[1;39;49m]\u001b[0m\u001b[39;49m To update, run: \u001b[0m\u001b[32;49mpython -m pip install --upgrade pip\u001b[0m\n"
     ]
    }
   ],
   "source": [
    "!pip install pandas"
   ]
  },
  {
   "cell_type": "code",
   "execution_count": 4,
   "id": "c340e8a0-d74c-4c80-8a4a-6075d06dd3ac",
   "metadata": {
    "tags": []
   },
   "outputs": [],
   "source": [
    "import pandas as pd\n",
    "import requests\n",
    "import time"
   ]
  },
  {
   "cell_type": "code",
   "execution_count": 5,
   "id": "514a917c-1e5b-4dc4-a000-50fc377a8b6d",
   "metadata": {
    "tags": []
   },
   "outputs": [],
   "source": [
    "df = get_wikis()"
   ]
  },
  {
   "cell_type": "code",
   "execution_count": 6,
   "id": "513e4ebb-335e-4529-a0c3-35b1e8252366",
   "metadata": {
    "tags": []
   },
   "outputs": [
    {
     "data": {
      "text/html": [
       "<div>\n",
       "<style scoped>\n",
       "    .dataframe tbody tr th:only-of-type {\n",
       "        vertical-align: middle;\n",
       "    }\n",
       "\n",
       "    .dataframe tbody tr th {\n",
       "        vertical-align: top;\n",
       "    }\n",
       "\n",
       "    .dataframe thead th {\n",
       "        text-align: right;\n",
       "    }\n",
       "</style>\n",
       "<table border=\"1\" class=\"dataframe\">\n",
       "  <thead>\n",
       "    <tr style=\"text-align: right;\">\n",
       "      <th></th>\n",
       "      <th>id</th>\n",
       "      <th>summary</th>\n",
       "      <th>content</th>\n",
       "      <th>title</th>\n",
       "    </tr>\n",
       "  </thead>\n",
       "  <tbody>\n",
       "    <tr>\n",
       "      <th>0</th>\n",
       "      <td>lens-protocol</td>\n",
       "      <td>NaN</td>\n",
       "      <td>**Lens Protocol** is a composable, decentraliz...</td>\n",
       "      <td>Lens Protocol</td>\n",
       "    </tr>\n",
       "    <tr>\n",
       "      <th>1</th>\n",
       "      <td>makerdao</td>\n",
       "      <td>NaN</td>\n",
       "      <td>**MakerDAO** is a decentralized global reserve...</td>\n",
       "      <td>MakerDAO</td>\n",
       "    </tr>\n",
       "    <tr>\n",
       "      <th>2</th>\n",
       "      <td>katie-haun</td>\n",
       "      <td>NaN</td>\n",
       "      <td>**Katie Haun** is the Chief Executive Officer ...</td>\n",
       "      <td>Katie Haun</td>\n",
       "    </tr>\n",
       "    <tr>\n",
       "      <th>3</th>\n",
       "      <td>balaji-srinivasan</td>\n",
       "      <td>NaN</td>\n",
       "      <td>**Balaji S. Srinivasan** is an angel investor,...</td>\n",
       "      <td>Balaji Srinivasan</td>\n",
       "    </tr>\n",
       "    <tr>\n",
       "      <th>4</th>\n",
       "      <td>sewer-pass</td>\n",
       "      <td>NaN</td>\n",
       "      <td>**Sewer Passes** are [non-fungible tokens (NFT...</td>\n",
       "      <td>Sewer Pass</td>\n",
       "    </tr>\n",
       "    <tr>\n",
       "      <th>...</th>\n",
       "      <td>...</td>\n",
       "      <td>...</td>\n",
       "      <td>...</td>\n",
       "      <td>...</td>\n",
       "    </tr>\n",
       "    <tr>\n",
       "      <th>1345</th>\n",
       "      <td>daostack</td>\n",
       "      <td>NaN</td>\n",
       "      <td>**DAOstack** (founded 2017) is an open source ...</td>\n",
       "      <td>DAOstack</td>\n",
       "    </tr>\n",
       "    <tr>\n",
       "      <th>1346</th>\n",
       "      <td>alyze-sam</td>\n",
       "      <td>NaN</td>\n",
       "      <td>**Alyze Sam** is a blockchain strategist and t...</td>\n",
       "      <td>Alyze Sam</td>\n",
       "    </tr>\n",
       "    <tr>\n",
       "      <th>1347</th>\n",
       "      <td>alyse-killeen</td>\n",
       "      <td>NaN</td>\n",
       "      <td>**Alyse Killeen** is an American entrepreneur,...</td>\n",
       "      <td>Alyse Killeen</td>\n",
       "    </tr>\n",
       "    <tr>\n",
       "      <th>1348</th>\n",
       "      <td>allison-lu</td>\n",
       "      <td>NaN</td>\n",
       "      <td>**Allison Lu** is a blockchain expert that is ...</td>\n",
       "      <td>Allison Lu</td>\n",
       "    </tr>\n",
       "    <tr>\n",
       "      <th>1349</th>\n",
       "      <td>alison-burger</td>\n",
       "      <td>NaN</td>\n",
       "      <td>**Alison Burger** is an American entrepreneur ...</td>\n",
       "      <td>Alison Burger</td>\n",
       "    </tr>\n",
       "  </tbody>\n",
       "</table>\n",
       "<p>1350 rows × 4 columns</p>\n",
       "</div>"
      ],
      "text/plain": [
       "                     id summary  \\\n",
       "0         lens-protocol     NaN   \n",
       "1              makerdao     NaN   \n",
       "2            katie-haun     NaN   \n",
       "3     balaji-srinivasan     NaN   \n",
       "4            sewer-pass     NaN   \n",
       "...                 ...     ...   \n",
       "1345           daostack     NaN   \n",
       "1346          alyze-sam     NaN   \n",
       "1347      alyse-killeen     NaN   \n",
       "1348         allison-lu     NaN   \n",
       "1349      alison-burger     NaN   \n",
       "\n",
       "                                                content              title  \n",
       "0     **Lens Protocol** is a composable, decentraliz...      Lens Protocol  \n",
       "1     **MakerDAO** is a decentralized global reserve...           MakerDAO  \n",
       "2     **Katie Haun** is the Chief Executive Officer ...         Katie Haun  \n",
       "3     **Balaji S. Srinivasan** is an angel investor,...  Balaji Srinivasan  \n",
       "4     **Sewer Passes** are [non-fungible tokens (NFT...         Sewer Pass  \n",
       "...                                                 ...                ...  \n",
       "1345  **DAOstack** (founded 2017) is an open source ...           DAOstack  \n",
       "1346  **Alyze Sam** is a blockchain strategist and t...          Alyze Sam  \n",
       "1347  **Alyse Killeen** is an American entrepreneur,...      Alyse Killeen  \n",
       "1348  **Allison Lu** is a blockchain expert that is ...         Allison Lu  \n",
       "1349  **Alison Burger** is an American entrepreneur ...      Alison Burger  \n",
       "\n",
       "[1350 rows x 4 columns]"
      ]
     },
     "execution_count": 6,
     "metadata": {},
     "output_type": "execute_result"
    }
   ],
   "source": [
    "df"
   ]
  },
  {
   "cell_type": "code",
   "execution_count": 7,
   "id": "1ea347d9-eac4-4918-875c-c99ff3f71a1f",
   "metadata": {
    "tags": []
   },
   "outputs": [],
   "source": [
    "df = df.drop(df.columns[1], axis=1)"
   ]
  },
  {
   "cell_type": "code",
   "execution_count": 8,
   "id": "7468079e-8911-41c4-b1c9-5a8ae248f772",
   "metadata": {
    "tags": []
   },
   "outputs": [
    {
     "data": {
      "text/html": [
       "<div>\n",
       "<style scoped>\n",
       "    .dataframe tbody tr th:only-of-type {\n",
       "        vertical-align: middle;\n",
       "    }\n",
       "\n",
       "    .dataframe tbody tr th {\n",
       "        vertical-align: top;\n",
       "    }\n",
       "\n",
       "    .dataframe thead th {\n",
       "        text-align: right;\n",
       "    }\n",
       "</style>\n",
       "<table border=\"1\" class=\"dataframe\">\n",
       "  <thead>\n",
       "    <tr style=\"text-align: right;\">\n",
       "      <th></th>\n",
       "      <th>id</th>\n",
       "      <th>content</th>\n",
       "      <th>title</th>\n",
       "    </tr>\n",
       "  </thead>\n",
       "  <tbody>\n",
       "    <tr>\n",
       "      <th>0</th>\n",
       "      <td>lens-protocol</td>\n",
       "      <td>**Lens Protocol** is a composable, decentraliz...</td>\n",
       "      <td>Lens Protocol</td>\n",
       "    </tr>\n",
       "    <tr>\n",
       "      <th>1</th>\n",
       "      <td>makerdao</td>\n",
       "      <td>**MakerDAO** is a decentralized global reserve...</td>\n",
       "      <td>MakerDAO</td>\n",
       "    </tr>\n",
       "    <tr>\n",
       "      <th>2</th>\n",
       "      <td>katie-haun</td>\n",
       "      <td>**Katie Haun** is the Chief Executive Officer ...</td>\n",
       "      <td>Katie Haun</td>\n",
       "    </tr>\n",
       "    <tr>\n",
       "      <th>3</th>\n",
       "      <td>balaji-srinivasan</td>\n",
       "      <td>**Balaji S. Srinivasan** is an angel investor,...</td>\n",
       "      <td>Balaji Srinivasan</td>\n",
       "    </tr>\n",
       "    <tr>\n",
       "      <th>4</th>\n",
       "      <td>sewer-pass</td>\n",
       "      <td>**Sewer Passes** are [non-fungible tokens (NFT...</td>\n",
       "      <td>Sewer Pass</td>\n",
       "    </tr>\n",
       "    <tr>\n",
       "      <th>...</th>\n",
       "      <td>...</td>\n",
       "      <td>...</td>\n",
       "      <td>...</td>\n",
       "    </tr>\n",
       "    <tr>\n",
       "      <th>1345</th>\n",
       "      <td>daostack</td>\n",
       "      <td>**DAOstack** (founded 2017) is an open source ...</td>\n",
       "      <td>DAOstack</td>\n",
       "    </tr>\n",
       "    <tr>\n",
       "      <th>1346</th>\n",
       "      <td>alyze-sam</td>\n",
       "      <td>**Alyze Sam** is a blockchain strategist and t...</td>\n",
       "      <td>Alyze Sam</td>\n",
       "    </tr>\n",
       "    <tr>\n",
       "      <th>1347</th>\n",
       "      <td>alyse-killeen</td>\n",
       "      <td>**Alyse Killeen** is an American entrepreneur,...</td>\n",
       "      <td>Alyse Killeen</td>\n",
       "    </tr>\n",
       "    <tr>\n",
       "      <th>1348</th>\n",
       "      <td>allison-lu</td>\n",
       "      <td>**Allison Lu** is a blockchain expert that is ...</td>\n",
       "      <td>Allison Lu</td>\n",
       "    </tr>\n",
       "    <tr>\n",
       "      <th>1349</th>\n",
       "      <td>alison-burger</td>\n",
       "      <td>**Alison Burger** is an American entrepreneur ...</td>\n",
       "      <td>Alison Burger</td>\n",
       "    </tr>\n",
       "  </tbody>\n",
       "</table>\n",
       "<p>1350 rows × 3 columns</p>\n",
       "</div>"
      ],
      "text/plain": [
       "                     id                                            content  \\\n",
       "0         lens-protocol  **Lens Protocol** is a composable, decentraliz...   \n",
       "1              makerdao  **MakerDAO** is a decentralized global reserve...   \n",
       "2            katie-haun  **Katie Haun** is the Chief Executive Officer ...   \n",
       "3     balaji-srinivasan  **Balaji S. Srinivasan** is an angel investor,...   \n",
       "4            sewer-pass  **Sewer Passes** are [non-fungible tokens (NFT...   \n",
       "...                 ...                                                ...   \n",
       "1345           daostack  **DAOstack** (founded 2017) is an open source ...   \n",
       "1346          alyze-sam  **Alyze Sam** is a blockchain strategist and t...   \n",
       "1347      alyse-killeen  **Alyse Killeen** is an American entrepreneur,...   \n",
       "1348         allison-lu  **Allison Lu** is a blockchain expert that is ...   \n",
       "1349      alison-burger  **Alison Burger** is an American entrepreneur ...   \n",
       "\n",
       "                  title  \n",
       "0         Lens Protocol  \n",
       "1              MakerDAO  \n",
       "2            Katie Haun  \n",
       "3     Balaji Srinivasan  \n",
       "4            Sewer Pass  \n",
       "...                 ...  \n",
       "1345           DAOstack  \n",
       "1346          Alyze Sam  \n",
       "1347      Alyse Killeen  \n",
       "1348         Allison Lu  \n",
       "1349      Alison Burger  \n",
       "\n",
       "[1350 rows x 3 columns]"
      ]
     },
     "execution_count": 8,
     "metadata": {},
     "output_type": "execute_result"
    }
   ],
   "source": [
    "df"
   ]
  },
  {
   "cell_type": "code",
   "execution_count": 9,
   "id": "3612b703-8c54-4f40-abbd-0f264c1cced7",
   "metadata": {
    "tags": []
   },
   "outputs": [],
   "source": [
    "df.rename(columns={df.columns[0]: 'wikiid'}, inplace=True)"
   ]
  },
  {
   "cell_type": "code",
   "execution_count": 10,
   "id": "2cee521e-5fbf-4b28-8c16-3b21984b9e5c",
   "metadata": {
    "tags": []
   },
   "outputs": [
    {
     "data": {
      "text/html": [
       "<div>\n",
       "<style scoped>\n",
       "    .dataframe tbody tr th:only-of-type {\n",
       "        vertical-align: middle;\n",
       "    }\n",
       "\n",
       "    .dataframe tbody tr th {\n",
       "        vertical-align: top;\n",
       "    }\n",
       "\n",
       "    .dataframe thead th {\n",
       "        text-align: right;\n",
       "    }\n",
       "</style>\n",
       "<table border=\"1\" class=\"dataframe\">\n",
       "  <thead>\n",
       "    <tr style=\"text-align: right;\">\n",
       "      <th></th>\n",
       "      <th>wikiid</th>\n",
       "      <th>content</th>\n",
       "      <th>title</th>\n",
       "    </tr>\n",
       "  </thead>\n",
       "  <tbody>\n",
       "    <tr>\n",
       "      <th>0</th>\n",
       "      <td>lens-protocol</td>\n",
       "      <td>**Lens Protocol** is a composable, decentraliz...</td>\n",
       "      <td>Lens Protocol</td>\n",
       "    </tr>\n",
       "    <tr>\n",
       "      <th>1</th>\n",
       "      <td>makerdao</td>\n",
       "      <td>**MakerDAO** is a decentralized global reserve...</td>\n",
       "      <td>MakerDAO</td>\n",
       "    </tr>\n",
       "    <tr>\n",
       "      <th>2</th>\n",
       "      <td>katie-haun</td>\n",
       "      <td>**Katie Haun** is the Chief Executive Officer ...</td>\n",
       "      <td>Katie Haun</td>\n",
       "    </tr>\n",
       "    <tr>\n",
       "      <th>3</th>\n",
       "      <td>balaji-srinivasan</td>\n",
       "      <td>**Balaji S. Srinivasan** is an angel investor,...</td>\n",
       "      <td>Balaji Srinivasan</td>\n",
       "    </tr>\n",
       "    <tr>\n",
       "      <th>4</th>\n",
       "      <td>sewer-pass</td>\n",
       "      <td>**Sewer Passes** are [non-fungible tokens (NFT...</td>\n",
       "      <td>Sewer Pass</td>\n",
       "    </tr>\n",
       "    <tr>\n",
       "      <th>...</th>\n",
       "      <td>...</td>\n",
       "      <td>...</td>\n",
       "      <td>...</td>\n",
       "    </tr>\n",
       "    <tr>\n",
       "      <th>1345</th>\n",
       "      <td>daostack</td>\n",
       "      <td>**DAOstack** (founded 2017) is an open source ...</td>\n",
       "      <td>DAOstack</td>\n",
       "    </tr>\n",
       "    <tr>\n",
       "      <th>1346</th>\n",
       "      <td>alyze-sam</td>\n",
       "      <td>**Alyze Sam** is a blockchain strategist and t...</td>\n",
       "      <td>Alyze Sam</td>\n",
       "    </tr>\n",
       "    <tr>\n",
       "      <th>1347</th>\n",
       "      <td>alyse-killeen</td>\n",
       "      <td>**Alyse Killeen** is an American entrepreneur,...</td>\n",
       "      <td>Alyse Killeen</td>\n",
       "    </tr>\n",
       "    <tr>\n",
       "      <th>1348</th>\n",
       "      <td>allison-lu</td>\n",
       "      <td>**Allison Lu** is a blockchain expert that is ...</td>\n",
       "      <td>Allison Lu</td>\n",
       "    </tr>\n",
       "    <tr>\n",
       "      <th>1349</th>\n",
       "      <td>alison-burger</td>\n",
       "      <td>**Alison Burger** is an American entrepreneur ...</td>\n",
       "      <td>Alison Burger</td>\n",
       "    </tr>\n",
       "  </tbody>\n",
       "</table>\n",
       "<p>1350 rows × 3 columns</p>\n",
       "</div>"
      ],
      "text/plain": [
       "                 wikiid                                            content  \\\n",
       "0         lens-protocol  **Lens Protocol** is a composable, decentraliz...   \n",
       "1              makerdao  **MakerDAO** is a decentralized global reserve...   \n",
       "2            katie-haun  **Katie Haun** is the Chief Executive Officer ...   \n",
       "3     balaji-srinivasan  **Balaji S. Srinivasan** is an angel investor,...   \n",
       "4            sewer-pass  **Sewer Passes** are [non-fungible tokens (NFT...   \n",
       "...                 ...                                                ...   \n",
       "1345           daostack  **DAOstack** (founded 2017) is an open source ...   \n",
       "1346          alyze-sam  **Alyze Sam** is a blockchain strategist and t...   \n",
       "1347      alyse-killeen  **Alyse Killeen** is an American entrepreneur,...   \n",
       "1348         allison-lu  **Allison Lu** is a blockchain expert that is ...   \n",
       "1349      alison-burger  **Alison Burger** is an American entrepreneur ...   \n",
       "\n",
       "                  title  \n",
       "0         Lens Protocol  \n",
       "1              MakerDAO  \n",
       "2            Katie Haun  \n",
       "3     Balaji Srinivasan  \n",
       "4            Sewer Pass  \n",
       "...                 ...  \n",
       "1345           DAOstack  \n",
       "1346          Alyze Sam  \n",
       "1347      Alyse Killeen  \n",
       "1348         Allison Lu  \n",
       "1349      Alison Burger  \n",
       "\n",
       "[1350 rows x 3 columns]"
      ]
     },
     "execution_count": 10,
     "metadata": {},
     "output_type": "execute_result"
    }
   ],
   "source": [
    "df"
   ]
  },
  {
   "cell_type": "code",
   "execution_count": 11,
   "id": "9d9dd70c-f54b-4f2c-af53-dee25dcb016a",
   "metadata": {
    "tags": []
   },
   "outputs": [],
   "source": [
    "import re\n",
    "from typing import List\n",
    "\n",
    "HEADING_REGEX = re.compile(r'^#+ .*$')\n",
    "WIDGET_REGEX = re.compile(r'^\\$\\$widget\\d(.*?\\))\\$\\$$')\n",
    "MARKDOWN_LINK_REGEX = re.compile(r'^\\[(.*)\\]\\(.*\\)$')\n",
    "MARKDOWN_IMAGE_REGEX = re.compile(r'^!\\[.*\\]\\(.*\\)$')\n",
    "CITATION_REGEX = re.compile(r'\\[\\\\\\[\\d+\\\\\\]\\]\\(#cite-id-[a-z0-9]+\\)', flags=re.MULTILINE)\n",
    "\n",
    "MAX_PARA_COUNT = 3\n",
    "MAX_CONTENT_LENGTH = 10000\n",
    "\n",
    "\n",
    "def sanitize_content(content: str) -> str:\n",
    "    \n",
    "    \"\"\"\n",
    "    This function takes a string `content` that represents a Markdown document.\n",
    "    It splits the document into paragraphs, filters out any paragraphs that do\n",
    "    not contain valid text, removes Markdown syntax from the remaining paragraphs,\n",
    "    and joins them back together into a string. The resulting string is trimmed\n",
    "    to a maximum length and returned.\n",
    "    \"\"\"\n",
    "        \n",
    "    content_paragraphs = content.split('\\n\\n')\n",
    "    filtered_paragraphs = [\n",
    "        p for p in content_paragraphs if is_valid_paragraph(p)\n",
    "    ]\n",
    "    sanitized_paragraphs = []\n",
    "    count = 0\n",
    "\n",
    "    for paragraph in filtered_paragraphs:\n",
    "        if count >= MAX_PARA_COUNT:\n",
    "            break\n",
    "\n",
    "        trimmed_paragraph = paragraph.strip()\n",
    "        plain_text_paragraph = remove_markdown_syntax(trimmed_paragraph)\n",
    "        sanitized_paragraph = CITATION_REGEX.sub('', plain_text_paragraph)\n",
    "        is_heading = HEADING_REGEX.match(trimmed_paragraph) is not None\n",
    "\n",
    "        if not is_heading:\n",
    "            sanitized_paragraphs.append(sanitized_paragraph)\n",
    "            count += 1\n",
    "        else:\n",
    "            sanitized_paragraphs.append(trimmed_paragraph)\n",
    "\n",
    "    trimmed_content = '\\n\\n'.join(sanitized_paragraphs)[:MAX_CONTENT_LENGTH]\n",
    "\n",
    "    return trimmed_content\n",
    "\n",
    "\n",
    "def is_valid_paragraph(paragraph: str) -> bool:\n",
    "    \"\"\"\n",
    "    This function takes a string `paragraph` and checks if it is a valid\n",
    "    paragraph. A valid paragraph is one that contains text (i.e., is not empty),\n",
    "    and does not contain Markdown image syntax, link syntax, or widget syntax.\n",
    "    \"\"\"\n",
    "        \n",
    "    para = paragraph.strip()\n",
    "    return (\n",
    "        len(para) != 0\n",
    "        and not MARKDOWN_IMAGE_REGEX.match(para)\n",
    "        and not MARKDOWN_LINK_REGEX.match(para)\n",
    "        and not WIDGET_REGEX.match(para)\n",
    "    )\n",
    "\n",
    "\n",
    "def remove_markdown_syntax(text: str) -> str:\n",
    "    \n",
    "    \"\"\"\n",
    "    This function takes a string `paragraph` and checks if it is a valid\n",
    "    paragraph. A valid paragraph is one that contains text (i.e., is not empty),\n",
    "    and does not contain Markdown image syntax, link syntax, or widget syntax.\n",
    "    \"\"\"\n",
    "        \n",
    "    # Remove emphasis syntax\n",
    "    text = re.sub(r'\\*\\*?(.*?)\\*\\*?', r'\\1', text)\n",
    "    text = re.sub(r'__(.*?)__', r'\\1', text)\n",
    "\n",
    "    # Remove code syntax\n",
    "    text = re.sub(r'`(.+?)`', r'\\1', text)\n",
    "\n",
    "    # Remove links\n",
    "    text = re.sub(r'\\[(.*?)\\]\\((.*?)\\)', r'\\1', text)\n",
    "\n",
    "    # Remove images\n",
    "    text = re.sub(r'!\\[(.*?)\\]\\((.*?)\\)', r'', text)\n",
    "\n",
    "    return text\n",
    "\n",
    "def clean(string):\n",
    "    sample = string\n",
    "\n",
    "    cleaned = re.sub(r'\\xa0',' ',\n",
    "                    re.sub(r'\\s{2,}',' ',\n",
    "                       re.sub(r'\\>','',\n",
    "                              re.sub(r'\\$\\$widget0 YOUTUBE@VID\\$\\$','',\n",
    "                                    re.sub(r'[#*]+','',\n",
    "                                          re.sub(r'\\\\\\[\\d+\\\\\\]','',\n",
    "                                                sample))))))\n",
    "    return cleaned"
   ]
  },
  {
   "cell_type": "code",
   "execution_count": 12,
   "id": "fe2db8f7-db76-419b-84d2-4f5a995552d6",
   "metadata": {
    "tags": []
   },
   "outputs": [],
   "source": [
    "df.content = df.content.apply(sanitize_content)"
   ]
  },
  {
   "cell_type": "code",
   "execution_count": 13,
   "id": "659f3f43-83fe-4f82-b6b4-06e55a069e28",
   "metadata": {
    "tags": []
   },
   "outputs": [
    {
     "data": {
      "text/html": [
       "<div>\n",
       "<style scoped>\n",
       "    .dataframe tbody tr th:only-of-type {\n",
       "        vertical-align: middle;\n",
       "    }\n",
       "\n",
       "    .dataframe tbody tr th {\n",
       "        vertical-align: top;\n",
       "    }\n",
       "\n",
       "    .dataframe thead th {\n",
       "        text-align: right;\n",
       "    }\n",
       "</style>\n",
       "<table border=\"1\" class=\"dataframe\">\n",
       "  <thead>\n",
       "    <tr style=\"text-align: right;\">\n",
       "      <th></th>\n",
       "      <th>wikiid</th>\n",
       "      <th>content</th>\n",
       "      <th>title</th>\n",
       "    </tr>\n",
       "  </thead>\n",
       "  <tbody>\n",
       "    <tr>\n",
       "      <th>0</th>\n",
       "      <td>lens-protocol</td>\n",
       "      <td>Lens Protocol is a composable, decentralized s...</td>\n",
       "      <td>Lens Protocol</td>\n",
       "    </tr>\n",
       "    <tr>\n",
       "      <th>1</th>\n",
       "      <td>makerdao</td>\n",
       "      <td>MakerDAO is a decentralized global reserve ban...</td>\n",
       "      <td>MakerDAO</td>\n",
       "    </tr>\n",
       "    <tr>\n",
       "      <th>2</th>\n",
       "      <td>katie-haun</td>\n",
       "      <td>Katie Haun is the Chief Executive Officer and ...</td>\n",
       "      <td>Katie Haun</td>\n",
       "    </tr>\n",
       "    <tr>\n",
       "      <th>3</th>\n",
       "      <td>balaji-srinivasan</td>\n",
       "      <td>Balaji S. Srinivasan is an angel investor, Ame...</td>\n",
       "      <td>Balaji Srinivasan</td>\n",
       "    </tr>\n",
       "    <tr>\n",
       "      <th>4</th>\n",
       "      <td>sewer-pass</td>\n",
       "      <td>Sewer Passes are non-fungible tokens (NFTs) th...</td>\n",
       "      <td>Sewer Pass</td>\n",
       "    </tr>\n",
       "  </tbody>\n",
       "</table>\n",
       "</div>"
      ],
      "text/plain": [
       "              wikiid                                            content  \\\n",
       "0      lens-protocol  Lens Protocol is a composable, decentralized s...   \n",
       "1           makerdao  MakerDAO is a decentralized global reserve ban...   \n",
       "2         katie-haun  Katie Haun is the Chief Executive Officer and ...   \n",
       "3  balaji-srinivasan  Balaji S. Srinivasan is an angel investor, Ame...   \n",
       "4         sewer-pass  Sewer Passes are non-fungible tokens (NFTs) th...   \n",
       "\n",
       "               title  \n",
       "0      Lens Protocol  \n",
       "1           MakerDAO  \n",
       "2         Katie Haun  \n",
       "3  Balaji Srinivasan  \n",
       "4         Sewer Pass  "
      ]
     },
     "execution_count": 13,
     "metadata": {},
     "output_type": "execute_result"
    }
   ],
   "source": [
    "df.head()"
   ]
  },
  {
   "cell_type": "code",
   "execution_count": 14,
   "id": "4371f86a-3cee-4b28-9522-6ebbb2d9b36d",
   "metadata": {
    "tags": []
   },
   "outputs": [],
   "source": [
    "df.content = df.content.apply(clean)"
   ]
  },
  {
   "cell_type": "code",
   "execution_count": 15,
   "id": "aaef39ae-2356-4319-99b7-007238a811b8",
   "metadata": {
    "tags": []
   },
   "outputs": [
    {
     "data": {
      "text/html": [
       "<div>\n",
       "<style scoped>\n",
       "    .dataframe tbody tr th:only-of-type {\n",
       "        vertical-align: middle;\n",
       "    }\n",
       "\n",
       "    .dataframe tbody tr th {\n",
       "        vertical-align: top;\n",
       "    }\n",
       "\n",
       "    .dataframe thead th {\n",
       "        text-align: right;\n",
       "    }\n",
       "</style>\n",
       "<table border=\"1\" class=\"dataframe\">\n",
       "  <thead>\n",
       "    <tr style=\"text-align: right;\">\n",
       "      <th></th>\n",
       "      <th>wikiid</th>\n",
       "      <th>content</th>\n",
       "      <th>title</th>\n",
       "    </tr>\n",
       "  </thead>\n",
       "  <tbody>\n",
       "    <tr>\n",
       "      <th>0</th>\n",
       "      <td>lens-protocol</td>\n",
       "      <td>Lens Protocol is a composable, decentralized s...</td>\n",
       "      <td>Lens Protocol</td>\n",
       "    </tr>\n",
       "    <tr>\n",
       "      <th>1</th>\n",
       "      <td>makerdao</td>\n",
       "      <td>MakerDAO is a decentralized global reserve ban...</td>\n",
       "      <td>MakerDAO</td>\n",
       "    </tr>\n",
       "    <tr>\n",
       "      <th>2</th>\n",
       "      <td>katie-haun</td>\n",
       "      <td>Katie Haun is the Chief Executive Officer and ...</td>\n",
       "      <td>Katie Haun</td>\n",
       "    </tr>\n",
       "    <tr>\n",
       "      <th>3</th>\n",
       "      <td>balaji-srinivasan</td>\n",
       "      <td>Balaji S. Srinivasan is an angel investor, Ame...</td>\n",
       "      <td>Balaji Srinivasan</td>\n",
       "    </tr>\n",
       "    <tr>\n",
       "      <th>4</th>\n",
       "      <td>sewer-pass</td>\n",
       "      <td>Sewer Passes are non-fungible tokens (NFTs) th...</td>\n",
       "      <td>Sewer Pass</td>\n",
       "    </tr>\n",
       "  </tbody>\n",
       "</table>\n",
       "</div>"
      ],
      "text/plain": [
       "              wikiid                                            content  \\\n",
       "0      lens-protocol  Lens Protocol is a composable, decentralized s...   \n",
       "1           makerdao  MakerDAO is a decentralized global reserve ban...   \n",
       "2         katie-haun  Katie Haun is the Chief Executive Officer and ...   \n",
       "3  balaji-srinivasan  Balaji S. Srinivasan is an angel investor, Ame...   \n",
       "4         sewer-pass  Sewer Passes are non-fungible tokens (NFTs) th...   \n",
       "\n",
       "               title  \n",
       "0      Lens Protocol  \n",
       "1           MakerDAO  \n",
       "2         Katie Haun  \n",
       "3  Balaji Srinivasan  \n",
       "4         Sewer Pass  "
      ]
     },
     "execution_count": 15,
     "metadata": {},
     "output_type": "execute_result"
    }
   ],
   "source": [
    "df.head()"
   ]
  },
  {
   "cell_type": "code",
   "execution_count": 16,
   "id": "ffd0ad31-368f-4663-abd3-666e32d3abb3",
   "metadata": {
    "tags": []
   },
   "outputs": [
    {
     "data": {
      "text/plain": [
       "'Lens Protocol is a composable, decentralized social graph on the Polygon proof -of-stake (PoS) blockchain allowing creators to control their content and data. It is a decentralized social network with a low carbon footprint and a web3 team. It allows users to retain ownership of their profiles and content, set up DAO accounts, monetize content, and transfer data. History Stani Kulechov, founder and CEO of Aave, created Lens Protocol based on discussions regarding the significance of digital identity control. Kulechov has expressed criticism of the way Web 2.0 social media platforms handle user data, restrict user content, and determine what information they view. Stani Kulechov discussed the evolution and revolution of the social media ecosystem at LisCon in 2021, and the team posted an open letter on the 20th of January, 2022 citing the problem of companies owning and monetizing their users’ content. The letter described Web 2.0 social media platforms as antiquated, centralized systems, and proposed Web3 as a potential solution to give users control over their profiles and content. Lens Protocol was made available on Polygon’s Mumbai testnet on 7th February 2022 and transitioned to Polygon Mainnet on the 18th of May 2022. Prior to going live on the Mainnet, the platform underwent a PeckShield audit and was open to community scrutiny and bug reports. The code can be accessed via Github. The name Lens comes from the Lens Culinaris, a tall, branched plant with pods of lens-shaped, small lentils. It has a symbiotic relationship with certain soil bacteria. If the roots are left in the ground, they will provide a source of nitrogen for their neighbor. Similarly, Lens protocol is a composable and decentralized social graph which lets creators take ownership of their content wherever they go in the digital garden of the decentralized internet. Technology Creating a profile on Lens Protocol generates a composable non-fungible token (NFT) that stores content, comments, likes, and reposts, and is associated with a wallet address. The NFTs created can be traded and collected, and content creators can control who can obtain their publications. Additionally, creators can monetize their social media by requiring payment for certain content and setting up subscriptions. Because Lens Protocol is on the Polygon blockchain, applications can be deployed to any chain. Tokenization The Lens protocol has three layers of tokenization via ERC721 NFTs. All three are ERC721-compliant and fully composable. The LensHub upgradeable contract is the core entry point for the majority of interactions in the Lens Protocol. Nearly all interactions begin and double as the ERC721 NFT contract for profile NFTs, which are minted upon profile creation. Upon a profile\\'s first follow, a FollowNFT contract is deployed (via minimal proxy cloning), unique to the profile; this is the ERC721 NFT contract that represents follower positions. Lastly, upon a publication\\'s first collect, a CollectNFT contract is deployed (via minimal proxy cloning), unique to the publication; this is the ERC721 NFT contract that represents collected publications. Lens Protocol Features Profile NFTs Each profile is assigned an NFT. Data associated with the content and its interactions are stored on the token. Wallets can own multiple profile NFTs if desired. To avoid squatting, only addresses whitelisted by governance can create profiles. Applications requiring multiple user profiles can contact the team via Discord for assistance. Follow NFTs Receiving a Follow NFT grants the holder a rarity ranking and utility. Some utility tools may include voting rights if provided by the individual being followed. Publication Lens Protocol uses the term \"Publication\" to refer to content such as videos, photos, music, and text that can be posted onto a Profile NFT. Posting content directly to a Profile NFT can help ensure the ownership of the content. Collect Collects allow creators to monetize their content. Because creators own their content via the Lens Protocol, they are able to allow their followers to purchase that content. When a user posts a publication to their Profile NFT they have the option to set a Collect Module. This module will allow other users to mint NFTs that link to the publication\\'s ContentURI. This module can contain any arbitrary logic to apply to the minting process and the resulting NFT. Mirror Mirrors are the curation tool of the Lens Protocol. They are the protocol\\'s equivalent to reposting or re-amplifying content. Mirrors are treated the same as publications with a few additional checks and a few more minor features. Partners Arweave IPFS LitProtocol XMTP Dispatch OpenSea Zerion Alchemy ENS Gelato Livepeer POAP PoH Polygon Push Sybil.org Toucan WorldCoin Tellie Featured on Lens Lenster Buttrfly DumplingTV Lenstube Orb Phaver Re:Meme Lensta <br'"
      ]
     },
     "execution_count": 16,
     "metadata": {},
     "output_type": "execute_result"
    }
   ],
   "source": [
    "df.iloc[0, 1]"
   ]
  },
  {
   "cell_type": "code",
   "execution_count": 17,
   "id": "8ec66ece-fe63-43bc-b6ec-ab4975e41457",
   "metadata": {
    "tags": []
   },
   "outputs": [
    {
     "name": "stdout",
     "output_type": "stream",
     "text": [
      "Collecting spacy\n",
      "  Downloading spacy-3.5.1-cp310-cp310-manylinux_2_17_x86_64.manylinux2014_x86_64.whl (6.6 MB)\n",
      "\u001b[2K     \u001b[90m━━━━━━━━━━━━━━━━━━━━━━━━━━━━━━━━━━━━━━━━\u001b[0m \u001b[32m6.6/6.6 MB\u001b[0m \u001b[31m40.9 MB/s\u001b[0m eta \u001b[36m0:00:00\u001b[0m00:01\u001b[0m00:01\u001b[0m\n",
      "\u001b[?25hCollecting pathy>=0.10.0\n",
      "  Downloading pathy-0.10.1-py3-none-any.whl (48 kB)\n",
      "\u001b[2K     \u001b[90m━━━━━━━━━━━━━━━━━━━━━━━━━━━━━━━━━━━━━━━━\u001b[0m \u001b[32m48.9/48.9 kB\u001b[0m \u001b[31m18.7 MB/s\u001b[0m eta \u001b[36m0:00:00\u001b[0m\n",
      "\u001b[?25hCollecting cymem<2.1.0,>=2.0.2\n",
      "  Downloading cymem-2.0.7-cp310-cp310-manylinux_2_17_x86_64.manylinux2014_x86_64.whl (34 kB)\n",
      "Collecting srsly<3.0.0,>=2.4.3\n",
      "  Downloading srsly-2.4.6-cp310-cp310-manylinux_2_17_x86_64.manylinux2014_x86_64.whl (492 kB)\n",
      "\u001b[2K     \u001b[90m━━━━━━━━━━━━━━━━━━━━━━━━━━━━━━━━━━━━━━\u001b[0m \u001b[32m492.2/492.2 kB\u001b[0m \u001b[31m10.1 MB/s\u001b[0m eta \u001b[36m0:00:00\u001b[0m00:01\u001b[0m\n",
      "\u001b[?25hCollecting tqdm<5.0.0,>=4.38.0\n",
      "  Downloading tqdm-4.65.0-py3-none-any.whl (77 kB)\n",
      "\u001b[2K     \u001b[90m━━━━━━━━━━━━━━━━━━━━━━━━━━━━━━━━━━━━━━━━\u001b[0m \u001b[32m77.1/77.1 kB\u001b[0m \u001b[31m30.1 MB/s\u001b[0m eta \u001b[36m0:00:00\u001b[0m\n",
      "\u001b[?25hCollecting murmurhash<1.1.0,>=0.28.0\n",
      "  Downloading murmurhash-1.0.9-cp310-cp310-manylinux_2_5_x86_64.manylinux1_x86_64.manylinux_2_17_x86_64.manylinux2014_x86_64.whl (21 kB)\n",
      "Requirement already satisfied: requests<3.0.0,>=2.13.0 in /usr/local/lib/python3.10/dist-packages (from spacy) (2.28.2)\n",
      "Collecting wasabi<1.2.0,>=0.9.1\n",
      "  Downloading wasabi-1.1.1-py3-none-any.whl (27 kB)\n",
      "Collecting pydantic!=1.8,!=1.8.1,<1.11.0,>=1.7.4\n",
      "  Downloading pydantic-1.10.7-cp310-cp310-manylinux_2_17_x86_64.manylinux2014_x86_64.whl (3.1 MB)\n",
      "\u001b[2K     \u001b[90m━━━━━━━━━━━━━━━━━━━━━━━━━━━━━━━━━━━━━━━━\u001b[0m \u001b[32m3.1/3.1 MB\u001b[0m \u001b[31m83.7 MB/s\u001b[0m eta \u001b[36m0:00:00\u001b[0m:00:01\u001b[0m\n",
      "\u001b[?25hRequirement already satisfied: setuptools in /usr/local/lib/python3.10/dist-packages (from spacy) (67.3.2)\n",
      "Requirement already satisfied: packaging>=20.0 in /usr/local/lib/python3.10/dist-packages (from spacy) (23.0)\n",
      "Collecting smart-open<7.0.0,>=5.2.1\n",
      "  Downloading smart_open-6.3.0-py3-none-any.whl (56 kB)\n",
      "\u001b[2K     \u001b[90m━━━━━━━━━━━━━━━━━━━━━━━━━━━━━━━━━━━━━━━━\u001b[0m \u001b[32m56.8/56.8 kB\u001b[0m \u001b[31m1.2 MB/s\u001b[0m eta \u001b[36m0:00:00\u001b[0mta \u001b[36m0:00:01\u001b[0m\n",
      "\u001b[?25hCollecting spacy-legacy<3.1.0,>=3.0.11\n",
      "  Downloading spacy_legacy-3.0.12-py2.py3-none-any.whl (29 kB)\n",
      "Collecting preshed<3.1.0,>=3.0.2\n",
      "  Downloading preshed-3.0.8-cp310-cp310-manylinux_2_5_x86_64.manylinux1_x86_64.manylinux_2_17_x86_64.manylinux2014_x86_64.whl (124 kB)\n",
      "\u001b[2K     \u001b[90m━━━━━━━━━━━━━━━━━━━━━━━━━━━━━━━━━━━━━━\u001b[0m \u001b[32m124.7/124.7 kB\u001b[0m \u001b[31m50.0 MB/s\u001b[0m eta \u001b[36m0:00:00\u001b[0m\n",
      "\u001b[?25hCollecting langcodes<4.0.0,>=3.2.0\n",
      "  Downloading langcodes-3.3.0-py3-none-any.whl (181 kB)\n",
      "\u001b[2K     \u001b[90m━━━━━━━━━━━━━━━━━━━━━━━━━━━━━━━━━━━━━━\u001b[0m \u001b[32m181.6/181.6 kB\u001b[0m \u001b[31m53.9 MB/s\u001b[0m eta \u001b[36m0:00:00\u001b[0m\n",
      "\u001b[?25hRequirement already satisfied: numpy>=1.15.0 in /usr/local/lib/python3.10/dist-packages (from spacy) (1.24.2)\n",
      "Requirement already satisfied: jinja2 in /usr/local/lib/python3.10/dist-packages (from spacy) (3.1.2)\n",
      "Collecting typer<0.8.0,>=0.3.0\n",
      "  Downloading typer-0.7.0-py3-none-any.whl (38 kB)\n",
      "Collecting catalogue<2.1.0,>=2.0.6\n",
      "  Downloading catalogue-2.0.8-py3-none-any.whl (17 kB)\n",
      "Collecting spacy-loggers<2.0.0,>=1.0.0\n",
      "  Downloading spacy_loggers-1.0.4-py3-none-any.whl (11 kB)\n",
      "Collecting thinc<8.2.0,>=8.1.8\n",
      "  Downloading thinc-8.1.9-cp310-cp310-manylinux_2_17_x86_64.manylinux2014_x86_64.whl (910 kB)\n",
      "\u001b[2K     \u001b[90m━━━━━━━━━━━━━━━━━━━━━━━━━━━━━━━━━━━━━━━\u001b[0m \u001b[32m911.0/911.0 kB\u001b[0m \u001b[31m7.9 MB/s\u001b[0m eta \u001b[36m0:00:00\u001b[0ma \u001b[36m0:00:01\u001b[0m\n",
      "\u001b[?25hRequirement already satisfied: typing-extensions>=4.2.0 in /usr/local/lib/python3.10/dist-packages (from pydantic!=1.8,!=1.8.1,<1.11.0,>=1.7.4->spacy) (4.5.0)\n",
      "Requirement already satisfied: charset-normalizer<4,>=2 in /usr/local/lib/python3.10/dist-packages (from requests<3.0.0,>=2.13.0->spacy) (3.0.1)\n",
      "Requirement already satisfied: idna<4,>=2.5 in /usr/lib/python3/dist-packages (from requests<3.0.0,>=2.13.0->spacy) (2.8)\n",
      "Requirement already satisfied: certifi>=2017.4.17 in /usr/lib/python3/dist-packages (from requests<3.0.0,>=2.13.0->spacy) (2019.11.28)\n",
      "Requirement already satisfied: urllib3<1.27,>=1.21.1 in /usr/lib/python3/dist-packages (from requests<3.0.0,>=2.13.0->spacy) (1.25.8)\n",
      "Collecting blis<0.8.0,>=0.7.8\n",
      "  Downloading blis-0.7.9-cp310-cp310-manylinux_2_17_x86_64.manylinux2014_x86_64.whl (10.2 MB)\n",
      "\u001b[2K     \u001b[90m━━━━━━━━━━━━━━━━━━━━━━━━━━━━━━━━━━━━━━━━\u001b[0m \u001b[32m10.2/10.2 MB\u001b[0m \u001b[31m56.3 MB/s\u001b[0m eta \u001b[36m0:00:00\u001b[0m00:01\u001b[0m0:01\u001b[0m\n",
      "\u001b[?25hCollecting confection<1.0.0,>=0.0.1\n",
      "  Downloading confection-0.0.4-py3-none-any.whl (32 kB)\n",
      "Collecting click<9.0.0,>=7.1.1\n",
      "  Downloading click-8.1.3-py3-none-any.whl (96 kB)\n",
      "\u001b[2K     \u001b[90m━━━━━━━━━━━━━━━━━━━━━━━━━━━━━━━━━━━━━━━━\u001b[0m \u001b[32m96.6/96.6 kB\u001b[0m \u001b[31m33.3 MB/s\u001b[0m eta \u001b[36m0:00:00\u001b[0m\n",
      "\u001b[?25hRequirement already satisfied: MarkupSafe>=2.0 in /usr/local/lib/python3.10/dist-packages (from jinja2->spacy) (2.1.2)\n",
      "Installing collected packages: cymem, wasabi, tqdm, spacy-loggers, spacy-legacy, smart-open, pydantic, murmurhash, langcodes, click, catalogue, blis, typer, srsly, preshed, pathy, confection, thinc, spacy\n",
      "Successfully installed blis-0.7.9 catalogue-2.0.8 click-8.1.3 confection-0.0.4 cymem-2.0.7 langcodes-3.3.0 murmurhash-1.0.9 pathy-0.10.1 preshed-3.0.8 pydantic-1.10.7 smart-open-6.3.0 spacy-3.5.1 spacy-legacy-3.0.12 spacy-loggers-1.0.4 srsly-2.4.6 thinc-8.1.9 tqdm-4.65.0 typer-0.7.0 wasabi-1.1.1\n",
      "\u001b[33mWARNING: Running pip as the 'root' user can result in broken permissions and conflicting behaviour with the system package manager. It is recommended to use a virtual environment instead: https://pip.pypa.io/warnings/venv\u001b[0m\u001b[33m\n",
      "\u001b[0m\n",
      "\u001b[1m[\u001b[0m\u001b[34;49mnotice\u001b[0m\u001b[1;39;49m]\u001b[0m\u001b[39;49m A new release of pip is available: \u001b[0m\u001b[31;49m23.0\u001b[0m\u001b[39;49m -> \u001b[0m\u001b[32;49m23.0.1\u001b[0m\n",
      "\u001b[1m[\u001b[0m\u001b[34;49mnotice\u001b[0m\u001b[1;39;49m]\u001b[0m\u001b[39;49m To update, run: \u001b[0m\u001b[32;49mpython -m pip install --upgrade pip\u001b[0m\n"
     ]
    }
   ],
   "source": [
    "!pip install -U spacy"
   ]
  },
  {
   "cell_type": "code",
   "execution_count": 18,
   "id": "9c521c91-97d8-4192-84ab-615f4f2876ff",
   "metadata": {
    "tags": []
   },
   "outputs": [
    {
     "name": "stdout",
     "output_type": "stream",
     "text": [
      "Collecting en-core-web-sm==3.5.0\n",
      "  Downloading https://github.com/explosion/spacy-models/releases/download/en_core_web_sm-3.5.0/en_core_web_sm-3.5.0-py3-none-any.whl (12.8 MB)\n",
      "\u001b[2K     \u001b[90m━━━━━━━━━━━━━━━━━━━━━━━━━━━━━━━━━━━━━━━━\u001b[0m \u001b[32m12.8/12.8 MB\u001b[0m \u001b[31m38.4 MB/s\u001b[0m eta \u001b[36m0:00:00\u001b[0m00:01\u001b[0m00:01\u001b[0m\n",
      "\u001b[?25hRequirement already satisfied: spacy<3.6.0,>=3.5.0 in /usr/local/lib/python3.10/dist-packages (from en-core-web-sm==3.5.0) (3.5.1)\n",
      "Requirement already satisfied: setuptools in /usr/local/lib/python3.10/dist-packages (from spacy<3.6.0,>=3.5.0->en-core-web-sm==3.5.0) (67.3.2)\n",
      "Requirement already satisfied: preshed<3.1.0,>=3.0.2 in /usr/local/lib/python3.10/dist-packages (from spacy<3.6.0,>=3.5.0->en-core-web-sm==3.5.0) (3.0.8)\n",
      "Requirement already satisfied: jinja2 in /usr/local/lib/python3.10/dist-packages (from spacy<3.6.0,>=3.5.0->en-core-web-sm==3.5.0) (3.1.2)\n",
      "Requirement already satisfied: cymem<2.1.0,>=2.0.2 in /usr/local/lib/python3.10/dist-packages (from spacy<3.6.0,>=3.5.0->en-core-web-sm==3.5.0) (2.0.7)\n",
      "Requirement already satisfied: typer<0.8.0,>=0.3.0 in /usr/local/lib/python3.10/dist-packages (from spacy<3.6.0,>=3.5.0->en-core-web-sm==3.5.0) (0.7.0)\n",
      "Requirement already satisfied: catalogue<2.1.0,>=2.0.6 in /usr/local/lib/python3.10/dist-packages (from spacy<3.6.0,>=3.5.0->en-core-web-sm==3.5.0) (2.0.8)\n",
      "Requirement already satisfied: spacy-legacy<3.1.0,>=3.0.11 in /usr/local/lib/python3.10/dist-packages (from spacy<3.6.0,>=3.5.0->en-core-web-sm==3.5.0) (3.0.12)\n",
      "Requirement already satisfied: tqdm<5.0.0,>=4.38.0 in /usr/local/lib/python3.10/dist-packages (from spacy<3.6.0,>=3.5.0->en-core-web-sm==3.5.0) (4.65.0)\n",
      "Requirement already satisfied: packaging>=20.0 in /usr/local/lib/python3.10/dist-packages (from spacy<3.6.0,>=3.5.0->en-core-web-sm==3.5.0) (23.0)\n",
      "Requirement already satisfied: wasabi<1.2.0,>=0.9.1 in /usr/local/lib/python3.10/dist-packages (from spacy<3.6.0,>=3.5.0->en-core-web-sm==3.5.0) (1.1.1)\n",
      "Requirement already satisfied: numpy>=1.15.0 in /usr/local/lib/python3.10/dist-packages (from spacy<3.6.0,>=3.5.0->en-core-web-sm==3.5.0) (1.24.2)\n",
      "Requirement already satisfied: langcodes<4.0.0,>=3.2.0 in /usr/local/lib/python3.10/dist-packages (from spacy<3.6.0,>=3.5.0->en-core-web-sm==3.5.0) (3.3.0)\n",
      "Requirement already satisfied: pathy>=0.10.0 in /usr/local/lib/python3.10/dist-packages (from spacy<3.6.0,>=3.5.0->en-core-web-sm==3.5.0) (0.10.1)\n",
      "Requirement already satisfied: srsly<3.0.0,>=2.4.3 in /usr/local/lib/python3.10/dist-packages (from spacy<3.6.0,>=3.5.0->en-core-web-sm==3.5.0) (2.4.6)\n",
      "Requirement already satisfied: thinc<8.2.0,>=8.1.8 in /usr/local/lib/python3.10/dist-packages (from spacy<3.6.0,>=3.5.0->en-core-web-sm==3.5.0) (8.1.9)\n",
      "Requirement already satisfied: murmurhash<1.1.0,>=0.28.0 in /usr/local/lib/python3.10/dist-packages (from spacy<3.6.0,>=3.5.0->en-core-web-sm==3.5.0) (1.0.9)\n",
      "Requirement already satisfied: spacy-loggers<2.0.0,>=1.0.0 in /usr/local/lib/python3.10/dist-packages (from spacy<3.6.0,>=3.5.0->en-core-web-sm==3.5.0) (1.0.4)\n",
      "Requirement already satisfied: pydantic!=1.8,!=1.8.1,<1.11.0,>=1.7.4 in /usr/local/lib/python3.10/dist-packages (from spacy<3.6.0,>=3.5.0->en-core-web-sm==3.5.0) (1.10.7)\n",
      "Requirement already satisfied: requests<3.0.0,>=2.13.0 in /usr/local/lib/python3.10/dist-packages (from spacy<3.6.0,>=3.5.0->en-core-web-sm==3.5.0) (2.28.2)\n",
      "Requirement already satisfied: smart-open<7.0.0,>=5.2.1 in /usr/local/lib/python3.10/dist-packages (from spacy<3.6.0,>=3.5.0->en-core-web-sm==3.5.0) (6.3.0)\n",
      "Requirement already satisfied: typing-extensions>=4.2.0 in /usr/local/lib/python3.10/dist-packages (from pydantic!=1.8,!=1.8.1,<1.11.0,>=1.7.4->spacy<3.6.0,>=3.5.0->en-core-web-sm==3.5.0) (4.5.0)\n",
      "Requirement already satisfied: idna<4,>=2.5 in /usr/lib/python3/dist-packages (from requests<3.0.0,>=2.13.0->spacy<3.6.0,>=3.5.0->en-core-web-sm==3.5.0) (2.8)\n",
      "Requirement already satisfied: certifi>=2017.4.17 in /usr/lib/python3/dist-packages (from requests<3.0.0,>=2.13.0->spacy<3.6.0,>=3.5.0->en-core-web-sm==3.5.0) (2019.11.28)\n",
      "Requirement already satisfied: charset-normalizer<4,>=2 in /usr/local/lib/python3.10/dist-packages (from requests<3.0.0,>=2.13.0->spacy<3.6.0,>=3.5.0->en-core-web-sm==3.5.0) (3.0.1)\n",
      "Requirement already satisfied: urllib3<1.27,>=1.21.1 in /usr/lib/python3/dist-packages (from requests<3.0.0,>=2.13.0->spacy<3.6.0,>=3.5.0->en-core-web-sm==3.5.0) (1.25.8)\n",
      "Requirement already satisfied: confection<1.0.0,>=0.0.1 in /usr/local/lib/python3.10/dist-packages (from thinc<8.2.0,>=8.1.8->spacy<3.6.0,>=3.5.0->en-core-web-sm==3.5.0) (0.0.4)\n",
      "Requirement already satisfied: blis<0.8.0,>=0.7.8 in /usr/local/lib/python3.10/dist-packages (from thinc<8.2.0,>=8.1.8->spacy<3.6.0,>=3.5.0->en-core-web-sm==3.5.0) (0.7.9)\n",
      "Requirement already satisfied: click<9.0.0,>=7.1.1 in /usr/local/lib/python3.10/dist-packages (from typer<0.8.0,>=0.3.0->spacy<3.6.0,>=3.5.0->en-core-web-sm==3.5.0) (8.1.3)\n",
      "Requirement already satisfied: MarkupSafe>=2.0 in /usr/local/lib/python3.10/dist-packages (from jinja2->spacy<3.6.0,>=3.5.0->en-core-web-sm==3.5.0) (2.1.2)\n",
      "Installing collected packages: en-core-web-sm\n",
      "Successfully installed en-core-web-sm-3.5.0\n",
      "\u001b[33mWARNING: Running pip as the 'root' user can result in broken permissions and conflicting behaviour with the system package manager. It is recommended to use a virtual environment instead: https://pip.pypa.io/warnings/venv\u001b[0m\u001b[33m\n",
      "\u001b[0m\n",
      "\u001b[1m[\u001b[0m\u001b[34;49mnotice\u001b[0m\u001b[1;39;49m]\u001b[0m\u001b[39;49m A new release of pip is available: \u001b[0m\u001b[31;49m23.0\u001b[0m\u001b[39;49m -> \u001b[0m\u001b[32;49m23.0.1\u001b[0m\n",
      "\u001b[1m[\u001b[0m\u001b[34;49mnotice\u001b[0m\u001b[1;39;49m]\u001b[0m\u001b[39;49m To update, run: \u001b[0m\u001b[32;49mpython -m pip install --upgrade pip\u001b[0m\n",
      "\u001b[38;5;2m✔ Download and installation successful\u001b[0m\n",
      "You can now load the package via spacy.load('en_core_web_sm')\n"
     ]
    }
   ],
   "source": [
    "!python -m spacy download en_core_web_sm"
   ]
  },
  {
   "cell_type": "code",
   "execution_count": 19,
   "id": "bc16a94d-e5a1-4d6b-b736-e67524072492",
   "metadata": {
    "tags": []
   },
   "outputs": [],
   "source": [
    "import spacy\n",
    "\n",
    "def split_into_chunks(text):\n",
    "    nlp = spacy.load(\"en_core_web_sm\")\n",
    "    doc = nlp(text)\n",
    "    chunks = []\n",
    "    current_chunk = \"\"\n",
    "    for sent in doc.sents:\n",
    "        sent_text = sent.text.strip()\n",
    "        if len(current_chunk) + len(sent_text) <= 300:\n",
    "            current_chunk += sent_text + \" \"\n",
    "        else:\n",
    "            chunks.append(current_chunk.strip())\n",
    "            current_chunk = sent_text + \" \"\n",
    "    if current_chunk:\n",
    "        chunks.append(current_chunk.strip())\n",
    "    return chunks"
   ]
  },
  {
   "cell_type": "code",
   "execution_count": 20,
   "id": "09f6ad84-d6d5-4f3f-8878-af7d94501e0a",
   "metadata": {
    "tags": []
   },
   "outputs": [],
   "source": [
    "content = 'Lens Protocol is a composable, decentralized social graph on the Polygon proof -of-stake (PoS) blockchain allowing creators to control their content and data. It is a decentralized social network with a low carbon footprint and a web3 team. It allows users to retain ownership of their profiles and content, set up DAO accounts, monetize content, and transfer data. History Stani Kulechov, founder and CEO of Aave, created Lens Protocol based on discussions regarding the significance of digital identity control. Kulechov has expressed criticism of the way Web 2.0 social media platforms handle user data, restrict user content, and determine what information they view. Stani Kulechov discussed the evolution and revolution of the social media ecosystem at LisCon in 2021, and the team posted an open letter on the 20th of January, 2022 citing the problem of companies owning and monetizing their users’ content. The letter described Web 2.0 social media platforms as antiquated, centralized systems, and proposed Web3 as a potential solution to give users control over their profiles and content. Lens Protocol was made available on Polygon’s Mumbai testnet on 7th February 2022 and transitioned to Polygon Mainnet on the 18th of May 2022. Prior to going live on the Mainnet, the platform underwent a PeckShield audit and was open to community scrutiny and bug reports. The code can be accessed via Github. The name Lens comes from the Lens Culinaris, a tall, branched plant with pods of lens-shaped, small lentils. It has a symbiotic relationship with certain soil bacteria. If the roots are left in the ground, they will provide a source of nitrogen for their neighbor. Similarly, Lens protocol is a composable and decentralized social graph which lets creators take ownership of their content wherever they go in the digital garden of the decentralized internet. Technology Creating a profile on Lens Protocol generates a composable non-fungible token (NFT) that stores content, comments, likes, and reposts, and is associated with a wallet address. The NFTs created can be traded and collected, and content creators can control who can obtain their publications. Additionally, creators can monetize their social media by requiring payment for certain content and setting up subscriptions. Because Lens Protocol is on the Polygon blockchain, applications can be deployed to any chain. Tokenization The Lens protocol has three layers of tokenization via ERC721 NFTs. All three are ERC721-compliant and fully composable. The LensHub upgradeable contract is the core entry point for the majority of interactions in the Lens Protocol. Nearly all interactions begin and double as the ERC721 NFT contract for profile NFTs, which are minted upon profile creation. Upon a profile\\'s first follow, a FollowNFT contract is deployed (via minimal proxy cloning), unique to the profile; this is the ERC721 NFT contract that represents follower positions. Lastly, upon a publication\\'s first collect, a CollectNFT contract is deployed (via minimal proxy cloning), unique to the publication; this is the ERC721 NFT contract that represents collected publications. Lens Protocol Features Profile NFTs Each profile is assigned an NFT. Data associated with the content and its interactions are stored on the token. Wallets can own multiple profile NFTs if desired. To avoid squatting, only addresses whitelisted by governance can create profiles. Applications requiring multiple user profiles can contact the team via Discord for assistance. Follow NFTs Receiving a Follow NFT grants the holder a rarity ranking and utility. Some utility tools may include voting rights if provided by the individual being followed. Publication Lens Protocol uses the term \"Publication\" to refer to content such as videos, photos, music, and text that can be posted onto a Profile NFT. Posting content directly to a Profile NFT can help ensure the ownership of the content. Collect Collects allow creators to monetize their content. Because creators own their content via the Lens Protocol, they are able to allow their followers to purchase that content. When a user posts a publication to their Profile NFT they have the option to set a Collect Module. This module will allow other users to mint NFTs that link to the publication\\'s ContentURI. This module can contain any arbitrary logic to apply to the minting process and the resulting NFT. Mirror Mirrors are the curation tool of the Lens Protocol. They are the protocol\\'s equivalent to reposting or re-amplifying content. Mirrors are treated the same as publications with a few additional checks and a few more minor features. Partners Arweave IPFS LitProtocol XMTP Dispatch OpenSea Zerion Alchemy ENS Gelato Livepeer POAP PoH Polygon Push Sybil.org Toucan WorldCoin Tellie Featured on Lens Lenster Buttrfly DumplingTV Lenstube Orb Phaver Re:Meme Lensta <br'"
   ]
  },
  {
   "cell_type": "code",
   "execution_count": 21,
   "id": "1edb1e9d-51f2-4c50-9575-9e4cf91690a5",
   "metadata": {
    "tags": []
   },
   "outputs": [
    {
     "data": {
      "text/plain": [
       "['Lens Protocol is a composable, decentralized social graph on the Polygon proof -of-stake (PoS) blockchain allowing creators to control their content and data. It is a decentralized social network with a low carbon footprint and a web3 team.',\n",
       " 'It allows users to retain ownership of their profiles and content, set up DAO accounts, monetize content, and transfer data. History Stani Kulechov, founder and CEO of Aave, created Lens Protocol based on discussions regarding the significance of digital identity control.',\n",
       " 'Kulechov has expressed criticism of the way Web 2.0 social media platforms handle user data, restrict user content, and determine what information they view.',\n",
       " 'Stani Kulechov discussed the evolution and revolution of the social media ecosystem at LisCon in 2021, and the team posted an open letter on the 20th of January, 2022 citing the problem of companies owning and monetizing their users’ content.',\n",
       " 'The letter described Web 2.0 social media platforms as antiquated, centralized systems, and proposed Web3 as a potential solution to give users control over their profiles and content.',\n",
       " 'Lens Protocol was made available on Polygon’s Mumbai testnet on 7th February 2022 and transitioned to Polygon Mainnet on the 18th of May 2022. Prior to going live on the Mainnet, the platform underwent a PeckShield audit and was open to community scrutiny and bug reports.',\n",
       " 'The code can be accessed via Github. The name Lens comes from the Lens Culinaris, a tall, branched plant with pods of lens-shaped, small lentils. It has a symbiotic relationship with certain soil bacteria.',\n",
       " 'If the roots are left in the ground, they will provide a source of nitrogen for their neighbor. Similarly, Lens protocol is a composable and decentralized social graph which lets creators take ownership of their content wherever they go in the digital garden of the decentralized internet.',\n",
       " 'Technology Creating a profile on Lens Protocol generates a composable non-fungible token (NFT) that stores content, comments, likes, and reposts, and is associated with a wallet address. The NFTs created can be traded and collected, and content creators can control who can obtain their publications.',\n",
       " 'Additionally, creators can monetize their social media by requiring payment for certain content and setting up subscriptions. Because Lens Protocol is on the Polygon blockchain, applications can be deployed to any chain.',\n",
       " 'Tokenization The Lens protocol has three layers of tokenization via ERC721 NFTs. All three are ERC721-compliant and fully composable. The LensHub upgradeable contract is the core entry point for the majority of interactions in the Lens Protocol.',\n",
       " 'Nearly all interactions begin and double as the ERC721 NFT contract for profile NFTs, which are minted upon profile creation.',\n",
       " \"Upon a profile's first follow, a FollowNFT contract is deployed (via minimal proxy cloning), unique to the profile; this is the ERC721 NFT contract that represents follower positions.\",\n",
       " \"Lastly, upon a publication's first collect, a CollectNFT contract is deployed (via minimal proxy cloning), unique to the publication; this is the ERC721 NFT contract that represents collected publications. Lens Protocol Features Profile NFTs Each profile is assigned an NFT.\",\n",
       " 'Data associated with the content and its interactions are stored on the token. Wallets can own multiple profile NFTs if desired. To avoid squatting, only addresses whitelisted by governance can create profiles.',\n",
       " 'Applications requiring multiple user profiles can contact the team via Discord for assistance. Follow NFTs Receiving a Follow NFT grants the holder a rarity ranking and utility. Some utility tools may include voting rights if provided by the individual being followed.',\n",
       " 'Publication Lens Protocol uses the term \"Publication\" to refer to content such as videos, photos, music, and text that can be posted onto a Profile NFT. Posting content directly to a Profile NFT can help ensure the ownership of the content. Collect Collects allow creators to monetize their content.',\n",
       " 'Because creators own their content via the Lens Protocol, they are able to allow their followers to purchase that content. When a user posts a publication to their Profile NFT they have the option to set a Collect Module.',\n",
       " \"This module will allow other users to mint NFTs that link to the publication's ContentURI. This module can contain any arbitrary logic to apply to the minting process and the resulting NFT. Mirror Mirrors are the curation tool of the Lens Protocol.\",\n",
       " \"They are the protocol's equivalent to reposting or re-amplifying content. Mirrors are treated the same as publications with a few additional checks and a few more minor features.\",\n",
       " 'Partners Arweave IPFS LitProtocol XMTP Dispatch OpenSea Zerion Alchemy ENS Gelato Livepeer POAP PoH Polygon Push Sybil.org Toucan WorldCoin Tellie Featured on Lens Lenster Buttrfly DumplingTV Lenstube Orb Phaver Re:Meme Lensta <br']"
      ]
     },
     "execution_count": 21,
     "metadata": {},
     "output_type": "execute_result"
    }
   ],
   "source": [
    "split_into_chunks(content)"
   ]
  },
  {
   "cell_type": "code",
   "execution_count": 22,
   "id": "97da2ef3-275f-44a6-a45e-cd0224db5855",
   "metadata": {
    "tags": []
   },
   "outputs": [],
   "source": [
    "df['chunks'] = df['content'].apply(split_into_chunks)"
   ]
  },
  {
   "cell_type": "code",
   "execution_count": 25,
   "id": "43316f55-2c40-4520-b061-fdf2495d57e0",
   "metadata": {
    "tags": []
   },
   "outputs": [],
   "source": [
    "# Explode the chunks list into individual rows, copying the wikiid and title values\n",
    "df_exploded = df.explode('chunks').reset_index(drop=True)\n",
    "df_exploded = df_exploded[['wikiid', 'title', 'chunks']]"
   ]
  },
  {
   "cell_type": "code",
   "execution_count": 26,
   "id": "db128a24-df77-49fe-9e87-fe619774e840",
   "metadata": {
    "tags": []
   },
   "outputs": [
    {
     "data": {
      "text/html": [
       "<div>\n",
       "<style scoped>\n",
       "    .dataframe tbody tr th:only-of-type {\n",
       "        vertical-align: middle;\n",
       "    }\n",
       "\n",
       "    .dataframe tbody tr th {\n",
       "        vertical-align: top;\n",
       "    }\n",
       "\n",
       "    .dataframe thead th {\n",
       "        text-align: right;\n",
       "    }\n",
       "</style>\n",
       "<table border=\"1\" class=\"dataframe\">\n",
       "  <thead>\n",
       "    <tr style=\"text-align: right;\">\n",
       "      <th></th>\n",
       "      <th>wikiid</th>\n",
       "      <th>title</th>\n",
       "      <th>chunks</th>\n",
       "    </tr>\n",
       "  </thead>\n",
       "  <tbody>\n",
       "    <tr>\n",
       "      <th>0</th>\n",
       "      <td>lens-protocol</td>\n",
       "      <td>Lens Protocol</td>\n",
       "      <td>Lens Protocol is a composable, decentralized s...</td>\n",
       "    </tr>\n",
       "    <tr>\n",
       "      <th>1</th>\n",
       "      <td>lens-protocol</td>\n",
       "      <td>Lens Protocol</td>\n",
       "      <td>It allows users to retain ownership of their p...</td>\n",
       "    </tr>\n",
       "    <tr>\n",
       "      <th>2</th>\n",
       "      <td>lens-protocol</td>\n",
       "      <td>Lens Protocol</td>\n",
       "      <td>Kulechov has expressed criticism of the way We...</td>\n",
       "    </tr>\n",
       "    <tr>\n",
       "      <th>3</th>\n",
       "      <td>lens-protocol</td>\n",
       "      <td>Lens Protocol</td>\n",
       "      <td>Stani Kulechov discussed the evolution and rev...</td>\n",
       "    </tr>\n",
       "    <tr>\n",
       "      <th>4</th>\n",
       "      <td>lens-protocol</td>\n",
       "      <td>Lens Protocol</td>\n",
       "      <td>The letter described Web 2.0 social media plat...</td>\n",
       "    </tr>\n",
       "    <tr>\n",
       "      <th>...</th>\n",
       "      <td>...</td>\n",
       "      <td>...</td>\n",
       "      <td>...</td>\n",
       "    </tr>\n",
       "    <tr>\n",
       "      <th>28573</th>\n",
       "      <td>alison-burger</td>\n",
       "      <td>Alison Burger</td>\n",
       "      <td>While there, she provided accounting, financia...</td>\n",
       "    </tr>\n",
       "    <tr>\n",
       "      <th>28574</th>\n",
       "      <td>alison-burger</td>\n",
       "      <td>Alison Burger</td>\n",
       "      <td>Conducted review and analysis of financial sta...</td>\n",
       "    </tr>\n",
       "    <tr>\n",
       "      <th>28575</th>\n",
       "      <td>alison-burger</td>\n",
       "      <td>Alison Burger</td>\n",
       "      <td>While working the corporate lifestyle, she fou...</td>\n",
       "    </tr>\n",
       "    <tr>\n",
       "      <th>28576</th>\n",
       "      <td>alison-burger</td>\n",
       "      <td>Alison Burger</td>\n",
       "      <td>While searching for a workout that would provi...</td>\n",
       "    </tr>\n",
       "    <tr>\n",
       "      <th>28577</th>\n",
       "      <td>alison-burger</td>\n",
       "      <td>Alison Burger</td>\n",
       "      <td>Women of Crypto Burger is the creator and foun...</td>\n",
       "    </tr>\n",
       "  </tbody>\n",
       "</table>\n",
       "<p>28578 rows × 3 columns</p>\n",
       "</div>"
      ],
      "text/plain": [
       "              wikiid          title  \\\n",
       "0      lens-protocol  Lens Protocol   \n",
       "1      lens-protocol  Lens Protocol   \n",
       "2      lens-protocol  Lens Protocol   \n",
       "3      lens-protocol  Lens Protocol   \n",
       "4      lens-protocol  Lens Protocol   \n",
       "...              ...            ...   \n",
       "28573  alison-burger  Alison Burger   \n",
       "28574  alison-burger  Alison Burger   \n",
       "28575  alison-burger  Alison Burger   \n",
       "28576  alison-burger  Alison Burger   \n",
       "28577  alison-burger  Alison Burger   \n",
       "\n",
       "                                                  chunks  \n",
       "0      Lens Protocol is a composable, decentralized s...  \n",
       "1      It allows users to retain ownership of their p...  \n",
       "2      Kulechov has expressed criticism of the way We...  \n",
       "3      Stani Kulechov discussed the evolution and rev...  \n",
       "4      The letter described Web 2.0 social media plat...  \n",
       "...                                                  ...  \n",
       "28573  While there, she provided accounting, financia...  \n",
       "28574  Conducted review and analysis of financial sta...  \n",
       "28575  While working the corporate lifestyle, she fou...  \n",
       "28576  While searching for a workout that would provi...  \n",
       "28577  Women of Crypto Burger is the creator and foun...  \n",
       "\n",
       "[28578 rows x 3 columns]"
      ]
     },
     "execution_count": 26,
     "metadata": {},
     "output_type": "execute_result"
    }
   ],
   "source": [
    "df_exploded"
   ]
  },
  {
   "cell_type": "code",
   "execution_count": 31,
   "id": "50f3ebc4-bf49-438b-9888-3291031853c8",
   "metadata": {
    "tags": []
   },
   "outputs": [],
   "source": [
    "filtered_df = df_exploded.loc[df_exploded['wikiid'].str.contains('lens-protocol')]"
   ]
  },
  {
   "cell_type": "code",
   "execution_count": 32,
   "id": "6e839470-3a76-4422-aeda-ff4d3c47a493",
   "metadata": {
    "tags": []
   },
   "outputs": [],
   "source": [
    "num_rows = len(filtered_df)"
   ]
  },
  {
   "cell_type": "code",
   "execution_count": 33,
   "id": "74e1019b-c5b3-4f66-bef1-ce3aed4f6356",
   "metadata": {
    "tags": []
   },
   "outputs": [
    {
     "data": {
      "text/plain": [
       "21"
      ]
     },
     "execution_count": 33,
     "metadata": {},
     "output_type": "execute_result"
    }
   ],
   "source": [
    "num_rows"
   ]
  },
  {
   "cell_type": "code",
   "execution_count": 37,
   "id": "2b3c0a44-80e7-49ed-8a92-5f6511a8362f",
   "metadata": {
    "tags": []
   },
   "outputs": [],
   "source": [
    "df_exploded = df_exploded.rename(columns={'chunks': 'content'})"
   ]
  },
  {
   "cell_type": "code",
   "execution_count": 38,
   "id": "0886ca36-efb2-4288-9bb5-555484e5d9bb",
   "metadata": {
    "tags": []
   },
   "outputs": [
    {
     "data": {
      "text/html": [
       "<div>\n",
       "<style scoped>\n",
       "    .dataframe tbody tr th:only-of-type {\n",
       "        vertical-align: middle;\n",
       "    }\n",
       "\n",
       "    .dataframe tbody tr th {\n",
       "        vertical-align: top;\n",
       "    }\n",
       "\n",
       "    .dataframe thead th {\n",
       "        text-align: right;\n",
       "    }\n",
       "</style>\n",
       "<table border=\"1\" class=\"dataframe\">\n",
       "  <thead>\n",
       "    <tr style=\"text-align: right;\">\n",
       "      <th></th>\n",
       "      <th>wikiid</th>\n",
       "      <th>title</th>\n",
       "      <th>content</th>\n",
       "    </tr>\n",
       "  </thead>\n",
       "  <tbody>\n",
       "    <tr>\n",
       "      <th>0</th>\n",
       "      <td>lens-protocol</td>\n",
       "      <td>Lens Protocol</td>\n",
       "      <td>Lens Protocol is a composable, decentralized s...</td>\n",
       "    </tr>\n",
       "    <tr>\n",
       "      <th>1</th>\n",
       "      <td>lens-protocol</td>\n",
       "      <td>Lens Protocol</td>\n",
       "      <td>It allows users to retain ownership of their p...</td>\n",
       "    </tr>\n",
       "    <tr>\n",
       "      <th>2</th>\n",
       "      <td>lens-protocol</td>\n",
       "      <td>Lens Protocol</td>\n",
       "      <td>Kulechov has expressed criticism of the way We...</td>\n",
       "    </tr>\n",
       "    <tr>\n",
       "      <th>3</th>\n",
       "      <td>lens-protocol</td>\n",
       "      <td>Lens Protocol</td>\n",
       "      <td>Stani Kulechov discussed the evolution and rev...</td>\n",
       "    </tr>\n",
       "    <tr>\n",
       "      <th>4</th>\n",
       "      <td>lens-protocol</td>\n",
       "      <td>Lens Protocol</td>\n",
       "      <td>The letter described Web 2.0 social media plat...</td>\n",
       "    </tr>\n",
       "    <tr>\n",
       "      <th>...</th>\n",
       "      <td>...</td>\n",
       "      <td>...</td>\n",
       "      <td>...</td>\n",
       "    </tr>\n",
       "    <tr>\n",
       "      <th>28573</th>\n",
       "      <td>alison-burger</td>\n",
       "      <td>Alison Burger</td>\n",
       "      <td>While there, she provided accounting, financia...</td>\n",
       "    </tr>\n",
       "    <tr>\n",
       "      <th>28574</th>\n",
       "      <td>alison-burger</td>\n",
       "      <td>Alison Burger</td>\n",
       "      <td>Conducted review and analysis of financial sta...</td>\n",
       "    </tr>\n",
       "    <tr>\n",
       "      <th>28575</th>\n",
       "      <td>alison-burger</td>\n",
       "      <td>Alison Burger</td>\n",
       "      <td>While working the corporate lifestyle, she fou...</td>\n",
       "    </tr>\n",
       "    <tr>\n",
       "      <th>28576</th>\n",
       "      <td>alison-burger</td>\n",
       "      <td>Alison Burger</td>\n",
       "      <td>While searching for a workout that would provi...</td>\n",
       "    </tr>\n",
       "    <tr>\n",
       "      <th>28577</th>\n",
       "      <td>alison-burger</td>\n",
       "      <td>Alison Burger</td>\n",
       "      <td>Women of Crypto Burger is the creator and foun...</td>\n",
       "    </tr>\n",
       "  </tbody>\n",
       "</table>\n",
       "<p>28578 rows × 3 columns</p>\n",
       "</div>"
      ],
      "text/plain": [
       "              wikiid          title  \\\n",
       "0      lens-protocol  Lens Protocol   \n",
       "1      lens-protocol  Lens Protocol   \n",
       "2      lens-protocol  Lens Protocol   \n",
       "3      lens-protocol  Lens Protocol   \n",
       "4      lens-protocol  Lens Protocol   \n",
       "...              ...            ...   \n",
       "28573  alison-burger  Alison Burger   \n",
       "28574  alison-burger  Alison Burger   \n",
       "28575  alison-burger  Alison Burger   \n",
       "28576  alison-burger  Alison Burger   \n",
       "28577  alison-burger  Alison Burger   \n",
       "\n",
       "                                                 content  \n",
       "0      Lens Protocol is a composable, decentralized s...  \n",
       "1      It allows users to retain ownership of their p...  \n",
       "2      Kulechov has expressed criticism of the way We...  \n",
       "3      Stani Kulechov discussed the evolution and rev...  \n",
       "4      The letter described Web 2.0 social media plat...  \n",
       "...                                                  ...  \n",
       "28573  While there, she provided accounting, financia...  \n",
       "28574  Conducted review and analysis of financial sta...  \n",
       "28575  While working the corporate lifestyle, she fou...  \n",
       "28576  While searching for a workout that would provi...  \n",
       "28577  Women of Crypto Burger is the creator and foun...  \n",
       "\n",
       "[28578 rows x 3 columns]"
      ]
     },
     "execution_count": 38,
     "metadata": {},
     "output_type": "execute_result"
    }
   ],
   "source": [
    "df_exploded"
   ]
  },
  {
   "cell_type": "code",
   "execution_count": 39,
   "id": "3243539b-f5bc-450b-85b5-ac0f6e4d4fae",
   "metadata": {
    "tags": []
   },
   "outputs": [
    {
     "name": "stdout",
     "output_type": "stream",
     "text": [
      "Collecting supabase\n",
      "  Downloading supabase-1.0.2-py3-none-any.whl (10 kB)\n",
      "Collecting storage3<0.6.0,>=0.5.2\n",
      "  Downloading storage3-0.5.2-py3-none-any.whl (13 kB)\n",
      "Collecting python-semantic-release==7.33.2\n",
      "  Downloading python_semantic_release-7.33.2-py3-none-any.whl (55 kB)\n",
      "\u001b[2K     \u001b[90m━━━━━━━━━━━━━━━━━━━━━━━━━━━━━━━━━━━━━━━━\u001b[0m \u001b[32m55.1/55.1 kB\u001b[0m \u001b[31m3.1 MB/s\u001b[0m eta \u001b[36m0:00:00\u001b[0m\n",
      "\u001b[?25hCollecting supafunc<0.3.0,>=0.2.2\n",
      "  Downloading supafunc-0.2.2-py3-none-any.whl (2.8 kB)\n",
      "Collecting realtime<2.0.0,>=1.0.0\n",
      "  Downloading realtime-1.0.0-py3-none-any.whl (8.0 kB)\n",
      "Collecting postgrest<0.11.0,>=0.10.6\n",
      "  Downloading postgrest-0.10.6-py3-none-any.whl (18 kB)\n",
      "Collecting gotrue<2.0.0,>=1.0.0\n",
      "  Downloading gotrue-1.0.0-py3-none-any.whl (48 kB)\n",
      "\u001b[2K     \u001b[90m━━━━━━━━━━━━━━━━━━━━━━━━━━━━━━━━━━━━━━━━\u001b[0m \u001b[32m48.3/48.3 kB\u001b[0m \u001b[31m10.1 MB/s\u001b[0m eta \u001b[36m0:00:00\u001b[0m\n",
      "\u001b[?25hCollecting httpx<0.24.0,>=0.23.0\n",
      "  Downloading httpx-0.23.3-py3-none-any.whl (71 kB)\n",
      "\u001b[2K     \u001b[90m━━━━━━━━━━━━━━━━━━━━━━━━━━━━━━━━━━━━━━━━\u001b[0m \u001b[32m71.5/71.5 kB\u001b[0m \u001b[31m15.4 MB/s\u001b[0m eta \u001b[36m0:00:00\u001b[0m\n",
      "\u001b[?25hCollecting dotty-dict<2,>=1.3.0\n",
      "  Downloading dotty_dict-1.3.1-py3-none-any.whl (7.0 kB)\n",
      "Collecting python-gitlab<4,>=2\n",
      "  Downloading python_gitlab-3.13.0-py3-none-any.whl (134 kB)\n",
      "\u001b[2K     \u001b[90m━━━━━━━━━━━━━━━━━━━━━━━━━━━━━━━━━━━━━━\u001b[0m \u001b[32m134.4/134.4 kB\u001b[0m \u001b[31m20.7 MB/s\u001b[0m eta \u001b[36m0:00:00\u001b[0m\n",
      "\u001b[?25hRequirement already satisfied: requests<3,>=2.25 in /usr/local/lib/python3.10/dist-packages (from python-semantic-release==7.33.2->supabase) (2.28.2)\n",
      "Collecting click-log<1,>=0.3\n",
      "  Downloading click_log-0.4.0-py2.py3-none-any.whl (4.3 kB)\n",
      "Collecting semver<3,>=2.10\n",
      "  Downloading semver-2.13.0-py2.py3-none-any.whl (12 kB)\n",
      "Collecting invoke<2,>=1.4.1\n",
      "  Downloading invoke-1.7.3-py3-none-any.whl (216 kB)\n",
      "\u001b[2K     \u001b[90m━━━━━━━━━━━━━━━━━━━━━━━━━━━━━━━━━━━━━━━\u001b[0m \u001b[32m216.4/216.4 kB\u001b[0m \u001b[31m5.1 MB/s\u001b[0m eta \u001b[36m0:00:00\u001b[0m00:01\u001b[0m\n",
      "\u001b[?25hCollecting twine<4,>=3\n",
      "  Downloading twine-3.8.0-py3-none-any.whl (36 kB)\n",
      "Requirement already satisfied: wheel in /usr/local/lib/python3.10/dist-packages (from python-semantic-release==7.33.2->supabase) (0.38.4)\n",
      "Requirement already satisfied: click<9,>=7 in /usr/local/lib/python3.10/dist-packages (from python-semantic-release==7.33.2->supabase) (8.1.3)\n",
      "Collecting gitpython<4,>=3.0.8\n",
      "  Downloading GitPython-3.1.31-py3-none-any.whl (184 kB)\n",
      "\u001b[2K     \u001b[90m━━━━━━━━━━━━━━━━━━━━━━━━━━━━━━━━━━━━━━\u001b[0m \u001b[32m184.3/184.3 kB\u001b[0m \u001b[31m62.8 MB/s\u001b[0m eta \u001b[36m0:00:00\u001b[0m\n",
      "\u001b[?25hRequirement already satisfied: packaging in /usr/local/lib/python3.10/dist-packages (from python-semantic-release==7.33.2->supabase) (23.0)\n",
      "Collecting tomlkit~=0.10\n",
      "  Downloading tomlkit-0.11.7-py3-none-any.whl (35 kB)\n",
      "Requirement already satisfied: pydantic<2.0.0,>=1.10.0 in /usr/local/lib/python3.10/dist-packages (from gotrue<2.0.0,>=1.0.0->supabase) (1.10.7)\n",
      "Requirement already satisfied: certifi in /usr/lib/python3/dist-packages (from httpx<0.24.0,>=0.23.0->supabase) (2019.11.28)\n",
      "Collecting httpcore<0.17.0,>=0.15.0\n",
      "  Downloading httpcore-0.16.3-py3-none-any.whl (69 kB)\n",
      "\u001b[2K     \u001b[90m━━━━━━━━━━━━━━━━━━━━━━━━━━━━━━━━━━━━━━━━\u001b[0m \u001b[32m69.6/69.6 kB\u001b[0m \u001b[31m30.0 MB/s\u001b[0m eta \u001b[36m0:00:00\u001b[0m\n",
      "\u001b[?25hCollecting rfc3986[idna2008]<2,>=1.3\n",
      "  Downloading rfc3986-1.5.0-py2.py3-none-any.whl (31 kB)\n",
      "Requirement already satisfied: sniffio in /usr/local/lib/python3.10/dist-packages (from httpx<0.24.0,>=0.23.0->supabase) (1.3.0)\n",
      "Collecting strenum<0.5.0,>=0.4.9\n",
      "  Downloading StrEnum-0.4.10-py3-none-any.whl (7.7 kB)\n",
      "Collecting deprecation<3.0.0,>=2.1.0\n",
      "  Downloading deprecation-2.1.0-py2.py3-none-any.whl (11 kB)\n",
      "Requirement already satisfied: typing-extensions<5.0.0,>=4.2.0 in /usr/local/lib/python3.10/dist-packages (from realtime<2.0.0,>=1.0.0->supabase) (4.5.0)\n",
      "Requirement already satisfied: python-dateutil<3.0.0,>=2.8.1 in /usr/local/lib/python3.10/dist-packages (from realtime<2.0.0,>=1.0.0->supabase) (2.8.2)\n",
      "Collecting websockets<11.0,>=10.3\n",
      "  Downloading websockets-10.4-cp310-cp310-manylinux_2_5_x86_64.manylinux1_x86_64.manylinux_2_17_x86_64.manylinux2014_x86_64.whl (106 kB)\n",
      "\u001b[2K     \u001b[90m━━━━━━━━━━━━━━━━━━━━━━━━━━━━━━━━━━━━━━\u001b[0m \u001b[32m106.8/106.8 kB\u001b[0m \u001b[31m41.1 MB/s\u001b[0m eta \u001b[36m0:00:00\u001b[0m\n",
      "\u001b[?25hCollecting gitdb<5,>=4.0.1\n",
      "  Downloading gitdb-4.0.10-py3-none-any.whl (62 kB)\n",
      "\u001b[2K     \u001b[90m━━━━━━━━━━━━━━━━━━━━━━━━━━━━━━━━━━━━━━━━\u001b[0m \u001b[32m62.7/62.7 kB\u001b[0m \u001b[31m28.9 MB/s\u001b[0m eta \u001b[36m0:00:00\u001b[0m\n",
      "\u001b[?25hRequirement already satisfied: anyio<5.0,>=3.0 in /usr/local/lib/python3.10/dist-packages (from httpcore<0.17.0,>=0.15.0->httpx<0.24.0,>=0.23.0->supabase) (3.6.2)\n",
      "Collecting h11<0.15,>=0.13\n",
      "  Downloading h11-0.14.0-py3-none-any.whl (58 kB)\n",
      "\u001b[2K     \u001b[90m━━━━━━━━━━━━━━━━━━━━━━━━━━━━━━━━━━━━━━━━\u001b[0m \u001b[32m58.3/58.3 kB\u001b[0m \u001b[31m26.6 MB/s\u001b[0m eta \u001b[36m0:00:00\u001b[0m\n",
      "\u001b[?25hRequirement already satisfied: six>=1.5 in /usr/lib/python3/dist-packages (from python-dateutil<3.0.0,>=2.8.1->realtime<2.0.0,>=1.0.0->supabase) (1.14.0)\n",
      "Collecting requests-toolbelt>=0.10.1\n",
      "  Downloading requests_toolbelt-0.10.1-py2.py3-none-any.whl (54 kB)\n",
      "\u001b[2K     \u001b[90m━━━━━━━━━━━━━━━━━━━━━━━━━━━━━━━━━━━━━━━━\u001b[0m \u001b[32m54.5/54.5 kB\u001b[0m \u001b[31m18.9 MB/s\u001b[0m eta \u001b[36m0:00:00\u001b[0m\n",
      "\u001b[?25hRequirement already satisfied: idna<4,>=2.5 in /usr/lib/python3/dist-packages (from requests<3,>=2.25->python-semantic-release==7.33.2->supabase) (2.8)\n",
      "Requirement already satisfied: urllib3<1.27,>=1.21.1 in /usr/lib/python3/dist-packages (from requests<3,>=2.25->python-semantic-release==7.33.2->supabase) (1.25.8)\n",
      "Requirement already satisfied: charset-normalizer<4,>=2 in /usr/local/lib/python3.10/dist-packages (from requests<3,>=2.25->python-semantic-release==7.33.2->supabase) (3.0.1)\n",
      "Collecting urllib3<1.27,>=1.21.1\n",
      "  Downloading urllib3-1.26.15-py2.py3-none-any.whl (140 kB)\n",
      "\u001b[2K     \u001b[90m━━━━━━━━━━━━━━━━━━━━━━━━━━━━━━━━━━━━━━\u001b[0m \u001b[32m140.9/140.9 kB\u001b[0m \u001b[31m47.1 MB/s\u001b[0m eta \u001b[36m0:00:00\u001b[0m\n",
      "\u001b[?25hCollecting importlib-metadata>=3.6\n",
      "  Downloading importlib_metadata-6.1.0-py3-none-any.whl (21 kB)\n",
      "Collecting readme-renderer>=21.0\n",
      "  Downloading readme_renderer-37.3-py3-none-any.whl (14 kB)\n",
      "Collecting pkginfo>=1.8.1\n",
      "  Downloading pkginfo-1.9.6-py3-none-any.whl (30 kB)\n",
      "Requirement already satisfied: tqdm>=4.14 in /usr/local/lib/python3.10/dist-packages (from twine<4,>=3->python-semantic-release==7.33.2->supabase) (4.65.0)\n",
      "Collecting colorama>=0.4.3\n",
      "  Downloading colorama-0.4.6-py2.py3-none-any.whl (25 kB)\n",
      "Collecting keyring>=15.1\n",
      "  Downloading keyring-23.13.1-py3-none-any.whl (37 kB)\n",
      "Collecting smmap<6,>=3.0.1\n",
      "  Downloading smmap-5.0.0-py3-none-any.whl (24 kB)\n",
      "Collecting zipp>=0.5\n",
      "  Downloading zipp-3.15.0-py3-none-any.whl (6.8 kB)\n",
      "Collecting jaraco.classes\n",
      "  Downloading jaraco.classes-3.2.3-py3-none-any.whl (6.0 kB)\n",
      "Collecting jeepney>=0.4.2\n",
      "  Downloading jeepney-0.8.0-py3-none-any.whl (48 kB)\n",
      "\u001b[2K     \u001b[90m━━━━━━━━━━━━━━━━━━━━━━━━━━━━━━━━━━━━━━━━\u001b[0m \u001b[32m48.4/48.4 kB\u001b[0m \u001b[31m17.1 MB/s\u001b[0m eta \u001b[36m0:00:00\u001b[0m\n",
      "\u001b[?25hCollecting SecretStorage>=3.2\n",
      "  Downloading SecretStorage-3.3.3-py3-none-any.whl (15 kB)\n",
      "Requirement already satisfied: bleach>=2.1.0 in /usr/local/lib/python3.10/dist-packages (from readme-renderer>=21.0->twine<4,>=3->python-semantic-release==7.33.2->supabase) (6.0.0)\n",
      "Collecting docutils>=0.13.1\n",
      "  Downloading docutils-0.19-py3-none-any.whl (570 kB)\n",
      "\u001b[2K     \u001b[90m━━━━━━━━━━━━━━━━━━━━━━━━━━━━━━━━━━━━━━━\u001b[0m \u001b[32m570.5/570.5 kB\u001b[0m \u001b[31m6.6 MB/s\u001b[0m eta \u001b[36m0:00:00\u001b[0m00:01\u001b[0m\n",
      "\u001b[?25hRequirement already satisfied: Pygments>=2.5.1 in /usr/local/lib/python3.10/dist-packages (from readme-renderer>=21.0->twine<4,>=3->python-semantic-release==7.33.2->supabase) (2.14.0)\n",
      "Requirement already satisfied: webencodings in /usr/local/lib/python3.10/dist-packages (from bleach>=2.1.0->readme-renderer>=21.0->twine<4,>=3->python-semantic-release==7.33.2->supabase) (0.5.1)\n",
      "Collecting cryptography>=2.0\n",
      "  Downloading cryptography-40.0.1-cp36-abi3-manylinux_2_28_x86_64.whl (3.7 MB)\n",
      "\u001b[2K     \u001b[90m━━━━━━━━━━━━━━━━━━━━━━━━━━━━━━━━━━━━━━━━\u001b[0m \u001b[32m3.7/3.7 MB\u001b[0m \u001b[31m61.2 MB/s\u001b[0m eta \u001b[36m0:00:00\u001b[0m:00:01\u001b[0m\n",
      "\u001b[?25hCollecting more-itertools\n",
      "  Downloading more_itertools-9.1.0-py3-none-any.whl (54 kB)\n",
      "\u001b[2K     \u001b[90m━━━━━━━━━━━━━━━━━━━━━━━━━━━━━━━━━━━━━━━━\u001b[0m \u001b[32m54.2/54.2 kB\u001b[0m \u001b[31m24.6 MB/s\u001b[0m eta \u001b[36m0:00:00\u001b[0m\n",
      "\u001b[?25hRequirement already satisfied: cffi>=1.12 in /usr/local/lib/python3.10/dist-packages (from cryptography>=2.0->SecretStorage>=3.2->keyring>=15.1->twine<4,>=3->python-semantic-release==7.33.2->supabase) (1.15.1)\n",
      "Requirement already satisfied: pycparser in /usr/local/lib/python3.10/dist-packages (from cffi>=1.12->cryptography>=2.0->SecretStorage>=3.2->keyring>=15.1->twine<4,>=3->python-semantic-release==7.33.2->supabase) (2.21)\n",
      "Installing collected packages: strenum, rfc3986, invoke, zipp, websockets, urllib3, tomlkit, smmap, semver, pkginfo, more-itertools, jeepney, h11, dotty-dict, docutils, deprecation, colorama, click-log, realtime, readme-renderer, jaraco.classes, importlib-metadata, httpcore, gitdb, cryptography, SecretStorage, requests-toolbelt, httpx, gitpython, supafunc, storage3, python-gitlab, postgrest, keyring, gotrue, twine, python-semantic-release, supabase\n",
      "  Attempting uninstall: urllib3\n",
      "    Found existing installation: urllib3 1.25.8\n",
      "    Uninstalling urllib3-1.25.8:\n",
      "      Successfully uninstalled urllib3-1.25.8\n",
      "Successfully installed SecretStorage-3.3.3 click-log-0.4.0 colorama-0.4.6 cryptography-40.0.1 deprecation-2.1.0 docutils-0.19 dotty-dict-1.3.1 gitdb-4.0.10 gitpython-3.1.31 gotrue-1.0.0 h11-0.14.0 httpcore-0.16.3 httpx-0.23.3 importlib-metadata-6.1.0 invoke-1.7.3 jaraco.classes-3.2.3 jeepney-0.8.0 keyring-23.13.1 more-itertools-9.1.0 pkginfo-1.9.6 postgrest-0.10.6 python-gitlab-3.13.0 python-semantic-release-7.33.2 readme-renderer-37.3 realtime-1.0.0 requests-toolbelt-0.10.1 rfc3986-1.5.0 semver-2.13.0 smmap-5.0.0 storage3-0.5.2 strenum-0.4.10 supabase-1.0.2 supafunc-0.2.2 tomlkit-0.11.7 twine-3.8.0 urllib3-1.26.15 websockets-10.4 zipp-3.15.0\n",
      "\u001b[33mWARNING: Running pip as the 'root' user can result in broken permissions and conflicting behaviour with the system package manager. It is recommended to use a virtual environment instead: https://pip.pypa.io/warnings/venv\u001b[0m\u001b[33m\n",
      "\u001b[0m\n",
      "\u001b[1m[\u001b[0m\u001b[34;49mnotice\u001b[0m\u001b[1;39;49m]\u001b[0m\u001b[39;49m A new release of pip is available: \u001b[0m\u001b[31;49m23.0\u001b[0m\u001b[39;49m -> \u001b[0m\u001b[32;49m23.0.1\u001b[0m\n",
      "\u001b[1m[\u001b[0m\u001b[34;49mnotice\u001b[0m\u001b[1;39;49m]\u001b[0m\u001b[39;49m To update, run: \u001b[0m\u001b[32;49mpython -m pip install --upgrade pip\u001b[0m\n"
     ]
    }
   ],
   "source": [
    "!pip install supabase"
   ]
  },
  {
   "cell_type": "code",
   "execution_count": 40,
   "id": "437936aa-b674-4c31-b415-cb8cc235da98",
   "metadata": {
    "tags": []
   },
   "outputs": [
    {
     "name": "stdout",
     "output_type": "stream",
     "text": [
      "Collecting openai\n",
      "  Downloading openai-0.27.2-py3-none-any.whl (70 kB)\n",
      "\u001b[2K     \u001b[90m━━━━━━━━━━━━━━━━━━━━━━━━━━━━━━━━━━━━━━━━\u001b[0m \u001b[32m70.1/70.1 kB\u001b[0m \u001b[31m3.3 MB/s\u001b[0m eta \u001b[36m0:00:00\u001b[0m\n",
      "\u001b[?25hRequirement already satisfied: tqdm in /usr/local/lib/python3.10/dist-packages (from openai) (4.65.0)\n",
      "Collecting aiohttp\n",
      "  Downloading aiohttp-3.8.4-cp310-cp310-manylinux_2_17_x86_64.manylinux2014_x86_64.whl (1.0 MB)\n",
      "\u001b[2K     \u001b[90m━━━━━━━━━━━━━━━━━━━━━━━━━━━━━━━━━━━━━━━━\u001b[0m \u001b[32m1.0/1.0 MB\u001b[0m \u001b[31m10.8 MB/s\u001b[0m eta \u001b[36m0:00:00\u001b[0m00:01\u001b[0m00:01\u001b[0m\n",
      "\u001b[?25hRequirement already satisfied: requests>=2.20 in /usr/local/lib/python3.10/dist-packages (from openai) (2.28.2)\n",
      "Requirement already satisfied: idna<4,>=2.5 in /usr/lib/python3/dist-packages (from requests>=2.20->openai) (2.8)\n",
      "Requirement already satisfied: certifi>=2017.4.17 in /usr/lib/python3/dist-packages (from requests>=2.20->openai) (2019.11.28)\n",
      "Requirement already satisfied: charset-normalizer<4,>=2 in /usr/local/lib/python3.10/dist-packages (from requests>=2.20->openai) (3.0.1)\n",
      "Requirement already satisfied: urllib3<1.27,>=1.21.1 in /usr/local/lib/python3.10/dist-packages (from requests>=2.20->openai) (1.26.15)\n",
      "Collecting async-timeout<5.0,>=4.0.0a3\n",
      "  Downloading async_timeout-4.0.2-py3-none-any.whl (5.8 kB)\n",
      "Collecting aiosignal>=1.1.2\n",
      "  Downloading aiosignal-1.3.1-py3-none-any.whl (7.6 kB)\n",
      "Requirement already satisfied: attrs>=17.3.0 in /usr/local/lib/python3.10/dist-packages (from aiohttp->openai) (22.2.0)\n",
      "Collecting multidict<7.0,>=4.5\n",
      "  Downloading multidict-6.0.4-cp310-cp310-manylinux_2_17_x86_64.manylinux2014_x86_64.whl (114 kB)\n",
      "\u001b[2K     \u001b[90m━━━━━━━━━━━━━━━━━━━━━━━━━━━━━━━━━━━━━━\u001b[0m \u001b[32m114.5/114.5 kB\u001b[0m \u001b[31m34.6 MB/s\u001b[0m eta \u001b[36m0:00:00\u001b[0m\n",
      "\u001b[?25hCollecting frozenlist>=1.1.1\n",
      "  Downloading frozenlist-1.3.3-cp310-cp310-manylinux_2_5_x86_64.manylinux1_x86_64.manylinux_2_17_x86_64.manylinux2014_x86_64.whl (149 kB)\n",
      "\u001b[2K     \u001b[90m━━━━━━━━━━━━━━━━━━━━━━━━━━━━━━━━━━━━━━\u001b[0m \u001b[32m149.6/149.6 kB\u001b[0m \u001b[31m45.4 MB/s\u001b[0m eta \u001b[36m0:00:00\u001b[0m\n",
      "\u001b[?25hCollecting yarl<2.0,>=1.0\n",
      "  Downloading yarl-1.8.2-cp310-cp310-manylinux_2_17_x86_64.manylinux2014_x86_64.whl (264 kB)\n",
      "\u001b[2K     \u001b[90m━━━━━━━━━━━━━━━━━━━━━━━━━━━━━━━━━━━━━━\u001b[0m \u001b[32m264.0/264.0 kB\u001b[0m \u001b[31m60.2 MB/s\u001b[0m eta \u001b[36m0:00:00\u001b[0m\n",
      "\u001b[?25hInstalling collected packages: multidict, frozenlist, async-timeout, yarl, aiosignal, aiohttp, openai\n",
      "Successfully installed aiohttp-3.8.4 aiosignal-1.3.1 async-timeout-4.0.2 frozenlist-1.3.3 multidict-6.0.4 openai-0.27.2 yarl-1.8.2\n",
      "\u001b[33mWARNING: Running pip as the 'root' user can result in broken permissions and conflicting behaviour with the system package manager. It is recommended to use a virtual environment instead: https://pip.pypa.io/warnings/venv\u001b[0m\u001b[33m\n",
      "\u001b[0m\n",
      "\u001b[1m[\u001b[0m\u001b[34;49mnotice\u001b[0m\u001b[1;39;49m]\u001b[0m\u001b[39;49m A new release of pip is available: \u001b[0m\u001b[31;49m23.0\u001b[0m\u001b[39;49m -> \u001b[0m\u001b[32;49m23.0.1\u001b[0m\n",
      "\u001b[1m[\u001b[0m\u001b[34;49mnotice\u001b[0m\u001b[1;39;49m]\u001b[0m\u001b[39;49m To update, run: \u001b[0m\u001b[32;49mpython -m pip install --upgrade pip\u001b[0m\n"
     ]
    }
   ],
   "source": [
    "!pip install openai"
   ]
  },
  {
   "cell_type": "code",
   "execution_count": 41,
   "id": "f79f7cd0-9ea7-45fa-a6e2-0a4e9b105cf2",
   "metadata": {
    "tags": []
   },
   "outputs": [],
   "source": [
    "import openai"
   ]
  },
  {
   "cell_type": "code",
   "execution_count": 42,
   "id": "1329cfb8-7092-43d6-903b-c851f2509e58",
   "metadata": {
    "tags": []
   },
   "outputs": [],
   "source": [
    "import numpy as np\n",
    "import supabase\n",
    "import os"
   ]
  },
  {
   "cell_type": "code",
   "execution_count": 44,
   "id": "2b09c02c-4b89-4082-879e-8819a17216d4",
   "metadata": {
    "tags": []
   },
   "outputs": [],
   "source": [
    "supabase_url = 'https://wpisaiqtaoykjwwszlan.supabase.co'\n",
    "supabase_key = 'PRIVATE'\n",
    "supabase_client = supabase.Client(supabase_url, supabase_key)"
   ]
  },
  {
   "cell_type": "code",
   "execution_count": 45,
   "id": "e34d3183-9fa5-4a8c-9b67-c9798006e511",
   "metadata": {
    "tags": []
   },
   "outputs": [],
   "source": [
    "openai.api_key = 'PRIVATE'"
   ]
  },
  {
   "cell_type": "code",
   "execution_count": 46,
   "id": "f455ec50-7bc0-4321-9b87-0d119667d514",
   "metadata": {
    "tags": []
   },
   "outputs": [],
   "source": [
    "text = 'Lens Protocol is a composable, decentralized social graph on the Polygon proof -of-stake (PoS) blockchain allowing creators to control their content and data. It is a decentralized social network with a low carbon footprint and a web3 team.'"
   ]
  },
  {
   "cell_type": "code",
   "execution_count": 47,
   "id": "45391354-120f-4cdd-b632-5d3dd7f846fa",
   "metadata": {
    "tags": []
   },
   "outputs": [],
   "source": [
    "def get_embedding(text, engine=\"text-embedding-ada-002\"):\n",
    "   text = text.replace(\"\\n\", \" \")\n",
    "   return openai.Embedding.create(input = [text], model=engine)['data'][0]['embedding']"
   ]
  },
  {
   "cell_type": "code",
   "execution_count": 55,
   "id": "9a5e0dd9-b23a-4b8c-a399-0fda62be2497",
   "metadata": {
    "tags": []
   },
   "outputs": [
    {
     "data": {
      "text/plain": [
       "\"Women of Crypto Burger is the creator and founder of the women's organization in the Blockchain and Cryptocurrency space known as Women of Crypto. She is also involved with shEOS as a business advisor.\""
      ]
     },
     "execution_count": 55,
     "metadata": {},
     "output_type": "execute_result"
    }
   ],
   "source": [
    "df_exploded.iloc[28577,2]"
   ]
  },
  {
   "cell_type": "code",
   "execution_count": 57,
   "id": "25eb3ea6-8824-4b5a-b531-ad6a1576e580",
   "metadata": {
    "tags": []
   },
   "outputs": [
    {
     "name": "stderr",
     "output_type": "stream",
     "text": [
      "\n",
      "KeyboardInterrupt\n",
      "\n"
     ]
    }
   ],
   "source": [
    "for index, row in df.iterrows():\n",
    "    embeddings = get_embedding(row['content'])\n",
    "    data = {'wikiid': row['wikiid'],\n",
    "            'title': row['title'],\n",
    "            'content': row['content'],\n",
    "            'embeddings': embeddings}\n",
    "    supabase_client.table('wiki_embedding').insert(data)"
   ]
  },
  {
   "cell_type": "code",
   "execution_count": 58,
   "id": "055fd88d-c6a2-43fe-93ca-1a88590e73cb",
   "metadata": {
    "tags": []
   },
   "outputs": [],
   "source": [
    "embeddings = get_embedding(df_exploded.iloc[0,2])\n",
    "     "
   ]
  },
  {
   "cell_type": "code",
   "execution_count": 60,
   "id": "62a3422b-06a8-4f03-aa37-f3b37c1ea6ae",
   "metadata": {
    "tags": []
   },
   "outputs": [],
   "source": [
    "data = {'wikiid': df_exploded.iloc[0,0],\n",
    "            'title': df_exploded.iloc[0,1],\n",
    "            'content': df_exploded.iloc[0,2],\n",
    "            'embeddings': embeddings}"
   ]
  },
  {
   "cell_type": "code",
   "execution_count": 62,
   "id": "8581cc29-db82-41d0-9d41-c0fb700aa9ce",
   "metadata": {
    "tags": []
   },
   "outputs": [
    {
     "data": {
      "text/plain": [
       "<postgrest._sync.request_builder.SyncQueryRequestBuilder at 0x7fda33cfa890>"
      ]
     },
     "execution_count": 62,
     "metadata": {},
     "output_type": "execute_result"
    }
   ],
   "source": [
    " supabase_client.table('wiki_embedding').insert(data)"
   ]
  },
  {
   "cell_type": "code",
   "execution_count": 66,
   "id": "9c9f304d-9f08-44f6-994c-020721ee342c",
   "metadata": {
    "tags": []
   },
   "outputs": [],
   "source": [
    "df_exploded.to_csv('chunks.csv')"
   ]
  },
  {
   "cell_type": "code",
   "execution_count": 69,
   "id": "faa4188b-1181-4bd5-9272-281becbd9314",
   "metadata": {
    "tags": []
   },
   "outputs": [],
   "source": [
    "data = supabase_client.table(\"wiki_embedding\").insert({\"wikiid\":df_exploded.iloc[0,0], \"title\": df_exploded.iloc[0,1], \"content\": df_exploded.iloc[0,2], \"embedding\": embeddings }).execute()"
   ]
  },
  {
   "cell_type": "code",
   "execution_count": 71,
   "id": "8d49835f-c23f-4b2a-8b5f-cee80f124ef5",
   "metadata": {
    "tags": []
   },
   "outputs": [],
   "source": [
    "delete = supabase_client.table(\"wiki_embedding\").delete().eq('id', 1).execute()"
   ]
  },
  {
   "cell_type": "code",
   "execution_count": 138,
   "id": "9573cbc6-a1df-410d-a723-8147f79f21dc",
   "metadata": {
    "tags": []
   },
   "outputs": [],
   "source": [
    "for i in range(28577, 28578):\n",
    "    embeddings = get_embedding(df_exploded.iloc[i,2])\n",
    "    supabase_client.table(\"wiki_embedding\").insert({\"wikiid\":df_exploded.iloc[i,0], \"title\": df_exploded.iloc[i,1], \"content\": df_exploded.iloc[i,2], \"embedding\": embeddings }).execute()\n",
    "    \n",
    "\n",
    "  "
   ]
  },
  {
   "cell_type": "code",
   "execution_count": 139,
   "id": "b5d705c2-805a-469d-b832-4dc38b6751c0",
   "metadata": {
    "tags": []
   },
   "outputs": [
    {
     "data": {
      "text/plain": [
       "wikiid                                         alison-burger\n",
       "title                                          Alison Burger\n",
       "content    Women of Crypto Burger is the creator and foun...\n",
       "Name: 28577, dtype: object"
      ]
     },
     "execution_count": 139,
     "metadata": {},
     "output_type": "execute_result"
    }
   ],
   "source": [
    "df_exploded.iloc[28577]"
   ]
  },
  {
   "cell_type": "code",
   "execution_count": 102,
   "id": "c48a8deb-38e4-47b0-9ef8-c1b2671418ee",
   "metadata": {
    "tags": []
   },
   "outputs": [],
   "source": [
    "delete = supabase_client.table(\"wiki_embedding\").delete().eq('id', 16576).execute()"
   ]
  },
  {
   "cell_type": "code",
   "execution_count": null,
   "id": "67601b8f-5392-42a6-8daa-184c0bae4c29",
   "metadata": {},
   "outputs": [],
   "source": []
  }
 ],
 "metadata": {
  "kernelspec": {
   "display_name": "Python 3 (ipykernel)",
   "language": "python",
   "name": "python3"
  },
  "language_info": {
   "codemirror_mode": {
    "name": "ipython",
    "version": 3
   },
   "file_extension": ".py",
   "mimetype": "text/x-python",
   "name": "python",
   "nbconvert_exporter": "python",
   "pygments_lexer": "ipython3",
   "version": "3.10.10"
  }
 },
 "nbformat": 4,
 "nbformat_minor": 5
}
