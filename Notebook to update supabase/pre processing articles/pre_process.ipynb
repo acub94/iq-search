{
 "cells": [
  {
   "cell_type": "code",
   "execution_count": 25,
   "metadata": {},
   "outputs": [],
   "source": [
    "import pandas as pd \n",
    "import re "
   ]
  },
  {
   "cell_type": "code",
   "execution_count": 26,
   "metadata": {},
   "outputs": [],
   "source": [
    "data = pd.read_csv('../scraping flywheel/data/flywheel.csv')"
   ]
  },
  {
   "cell_type": "code",
   "execution_count": 27,
   "metadata": {},
   "outputs": [
    {
     "data": {
      "text/plain": [
       "(94, 3)"
      ]
     },
     "execution_count": 27,
     "metadata": {},
     "output_type": "execute_result"
    }
   ],
   "source": [
    "data.shape"
   ]
  },
  {
   "cell_type": "markdown",
   "metadata": {},
   "source": [
    "#### No posts Ready for more? should be stripped \n",
    "#### \\xa0 should be removed "
   ]
  },
  {
   "cell_type": "code",
   "execution_count": 28,
   "metadata": {},
   "outputs": [],
   "source": [
    "data.content = data.content.apply(lambda x: x.strip('No posts Ready for more?'))"
   ]
  },
  {
   "cell_type": "code",
   "execution_count": 29,
   "metadata": {},
   "outputs": [
    {
     "data": {
      "text/plain": [
       "'It was a quiet week for Frax with nothing major externally to drive the narrative in either direction. If you’ve been watching Frax Check, you would know that the fundamentals have been improving and the community is getting excited for the upcoming Shanghai upgrade. In this week’s review, we’re covering governance on governance on governance.  DeFi Dave’s brainchild passed with flying colors this week and will start a new era of incentivized Frax based educational content. If you are interested in making content, below is the reward structure and we will be coming out with further instructions next week (stay tuned!) In what has turned into a questionable outcome, the DAO has voted against unlocking sdETH LPs. The issue is contentious because almost all the liquidity for the pair is locked for 2-3 years.  The main issue though is that LPs should have known the risks of locking. So while Frax has kept their side of the bargain to maintain the peg and provide FXS rewards, its StakeDAO’s fault for discontinuing the product. No money is at risk and the pool is still earning a 3.5% yield in FXS. So if they want to unlock, a rage tax will likely have to be added.  (Twitter has deactivated Twitter embedding… I’ve posted the links here. Hopefully it’s fixed in the next week or so.)'"
      ]
     },
     "execution_count": 29,
     "metadata": {},
     "output_type": "execute_result"
    }
   ],
   "source": [
    "data.content[0]"
   ]
  },
  {
   "cell_type": "code",
   "execution_count": 30,
   "metadata": {},
   "outputs": [],
   "source": [
    "data.content = data.content.apply(lambda x: re.sub(r'\\xa0','',x))"
   ]
  },
  {
   "cell_type": "code",
   "execution_count": 31,
   "metadata": {},
   "outputs": [],
   "source": [
    "test_str = 'Collateralization Ratio (Stablecoin) = 1 - Protocol Profit Ratio Assets Deposited = CR*(Backing Asset) + 1-CR*(Seigniorage Token) Where CR floats as protocol profit creates surplus value on the balance sheet, relative to total liabilities in the form of issued stablecoins. So, if the stablecoin was running a net profit on its balance sheet of 6%, they would be able to offer a CR of 94%. The backing token would be some other asset - likely a fully cash collateralized stablecoin (USDC), or, ideally, a CBDC'"
   ]
  },
  {
   "cell_type": "code",
   "execution_count": 32,
   "metadata": {},
   "outputs": [],
   "source": [
    "data.to_csv('flywheel_data.csv')"
   ]
  },
  {
   "cell_type": "code",
   "execution_count": null,
   "metadata": {},
   "outputs": [],
   "source": []
  }
 ],
 "metadata": {
  "interpreter": {
   "hash": "9039ffaa441cdf0b8ef4cf5109f6ed9fbdc2903ec5a3d95939e636fb5ec3d92c"
  },
  "kernelspec": {
   "display_name": "Python 3.9.13 64-bit ('tensorflow')",
   "language": "python",
   "name": "python3"
  },
  "language_info": {
   "codemirror_mode": {
    "name": "ipython",
    "version": 3
   },
   "file_extension": ".py",
   "mimetype": "text/x-python",
   "name": "python",
   "nbconvert_exporter": "python",
   "pygments_lexer": "ipython3",
   "version": "3.9.13"
  },
  "orig_nbformat": 4
 },
 "nbformat": 4,
 "nbformat_minor": 2
}
