{
  "nbformat": 4,
  "nbformat_minor": 0,
  "metadata": {
    "colab": {
      "provenance": []
    },
    "kernelspec": {
      "name": "python3",
      "display_name": "Python 3"
    },
    "language_info": {
      "name": "python"
    },
    "accelerator": "GPU",
    "gpuClass": "standard"
  },
  "cells": [
    {
      "cell_type": "code",
      "execution_count": 6,
      "metadata": {
        "id": "n2hX3nqjHsbI"
      },
      "outputs": [],
      "source": [
        "def get_wikis():\n",
        "    # data frame instance for storing each row\n",
        "    dataFrame = pd.DataFrame(columns=['id', 'title', 'content'])\n",
        "    \n",
        "    # looping for fetching all available wikis fron DB\n",
        "    # manually tested for max ranges of limit & offeset,\n",
        "    # came out to be limit = 50 & offeset = 1337\n",
        "    for offset in range(0,1340,50):\n",
        "        # graphql db url for everpedia wikis\n",
        "        url = \"https://graph.everipedia.org/graphql\"\n",
        "        # payload \n",
        "        query = \"\"\"{\n",
        "                      wikis(limit:50,offset:\"\"\"+str(offset)+\"\"\") {\n",
        "                      id\n",
        "                      title\n",
        "                      content\n",
        "                    }\n",
        "                }\"\"\"\n",
        "        \n",
        "        # sending request\n",
        "        response = requests.post(url=url,json={\"query\":query})\n",
        "        #time.sleep(0.5)\n",
        "        # storing newly fetched data into a data frame\n",
        "        freshDf = pd.DataFrame(response.json()['data']['wikis'])\n",
        "        \n",
        "        # concatenating both old & new dataframes as one\n",
        "        dataFrame = pd.concat([dataFrame, freshDf],axis=0,ignore_index=True)\n",
        "        \n",
        "    # DB may return same wiki multiple times from each request, so drop duplicates if any  \n",
        "    dataFrame = dataFrame.drop_duplicates(subset=['id']) # id is the unique identifier\n",
        "    \n",
        "    return dataFrame"
      ]
    },
    {
      "cell_type": "code",
      "source": [
        "!pip install pandas"
      ],
      "metadata": {
        "colab": {
          "base_uri": "https://localhost:8080/"
        },
        "id": "mZ-BPEzuH2aa",
        "outputId": "6d0dd661-6538-4919-c2ba-a73654ffcae8"
      },
      "execution_count": 7,
      "outputs": [
        {
          "output_type": "stream",
          "name": "stdout",
          "text": [
            "Looking in indexes: https://pypi.org/simple, https://us-python.pkg.dev/colab-wheels/public/simple/\n",
            "Requirement already satisfied: pandas in /usr/local/lib/python3.9/dist-packages (1.4.4)\n",
            "Requirement already satisfied: numpy>=1.18.5 in /usr/local/lib/python3.9/dist-packages (from pandas) (1.22.4)\n",
            "Requirement already satisfied: pytz>=2020.1 in /usr/local/lib/python3.9/dist-packages (from pandas) (2022.7.1)\n",
            "Requirement already satisfied: python-dateutil>=2.8.1 in /usr/local/lib/python3.9/dist-packages (from pandas) (2.8.2)\n",
            "Requirement already satisfied: six>=1.5 in /usr/local/lib/python3.9/dist-packages (from python-dateutil>=2.8.1->pandas) (1.16.0)\n"
          ]
        }
      ]
    },
    {
      "cell_type": "code",
      "source": [
        "import pandas as pd\n",
        "import requests\n",
        "import time"
      ],
      "metadata": {
        "id": "CrFxLKsRH4ua"
      },
      "execution_count": 8,
      "outputs": []
    },
    {
      "cell_type": "code",
      "source": [
        "df = get_wikis()"
      ],
      "metadata": {
        "id": "CI9hxUgSH7QR"
      },
      "execution_count": 9,
      "outputs": []
    },
    {
      "cell_type": "code",
      "source": [
        "df"
      ],
      "metadata": {
        "colab": {
          "base_uri": "https://localhost:8080/",
          "height": 423
        },
        "id": "0H7vfsymH9CY",
        "outputId": "102c1caa-45db-4ac1-cc3e-783b53d0d0cb"
      },
      "execution_count": 12,
      "outputs": [
        {
          "output_type": "execute_result",
          "data": {
            "text/plain": [
              "                        wikiid                     title  \\\n",
              "0                     deafbeef                  Deafbeef   \n",
              "1                  white-paper               White Paper   \n",
              "2                  limit-break               Limit Break   \n",
              "3                  digidaigaku               DigiDaigaku   \n",
              "4                  luis-cuende               Luis Cuende   \n",
              "...                        ...                       ...   \n",
              "1345        bulls-on-the-block        Bulls on the Block   \n",
              "1346            bryan-brinkman            Bryan Brinkman   \n",
              "1347        bold-badgers-squad        Bold Badgers Squad   \n",
              "1348             blake-kathryn             Blake Kathryn   \n",
              "1349  bff-friendship-bracelets  BFF Friendship Bracelets   \n",
              "\n",
              "                                                content  \n",
              "0     **Deafbeef** is a generative audiovisual [NFT]...  \n",
              "1     A **whitepaper** is a document released by dev...  \n",
              "2     Limit Break is a [blockchain](https://iq.wiki/...  \n",
              "3     **DigiDaigaku** is a collection of unique [non...  \n",
              "4     **Luis Cuende** is a software developer best k...  \n",
              "...                                                 ...  \n",
              "1345  Bulls on the Block is a Non-Fungible Tokens (N...  \n",
              "1346  Bryan Brinkman is a cartoon animator from the ...  \n",
              "1347  Bold Badgers Squad is a collection of 10,000 u...  \n",
              "1348  Blake Kathryn is a Los Angeles-based multidisc...  \n",
              "1349  BFF Friendship Bracelets is a new decentralize...  \n",
              "\n",
              "[1350 rows x 3 columns]"
            ],
            "text/html": [
              "\n",
              "  <div id=\"df-0039a6d7-6c4f-444f-bc4f-aa427b6047c4\">\n",
              "    <div class=\"colab-df-container\">\n",
              "      <div>\n",
              "<style scoped>\n",
              "    .dataframe tbody tr th:only-of-type {\n",
              "        vertical-align: middle;\n",
              "    }\n",
              "\n",
              "    .dataframe tbody tr th {\n",
              "        vertical-align: top;\n",
              "    }\n",
              "\n",
              "    .dataframe thead th {\n",
              "        text-align: right;\n",
              "    }\n",
              "</style>\n",
              "<table border=\"1\" class=\"dataframe\">\n",
              "  <thead>\n",
              "    <tr style=\"text-align: right;\">\n",
              "      <th></th>\n",
              "      <th>wikiid</th>\n",
              "      <th>title</th>\n",
              "      <th>content</th>\n",
              "    </tr>\n",
              "  </thead>\n",
              "  <tbody>\n",
              "    <tr>\n",
              "      <th>0</th>\n",
              "      <td>deafbeef</td>\n",
              "      <td>Deafbeef</td>\n",
              "      <td>**Deafbeef** is a generative audiovisual [NFT]...</td>\n",
              "    </tr>\n",
              "    <tr>\n",
              "      <th>1</th>\n",
              "      <td>white-paper</td>\n",
              "      <td>White Paper</td>\n",
              "      <td>A **whitepaper** is a document released by dev...</td>\n",
              "    </tr>\n",
              "    <tr>\n",
              "      <th>2</th>\n",
              "      <td>limit-break</td>\n",
              "      <td>Limit Break</td>\n",
              "      <td>Limit Break is a [blockchain](https://iq.wiki/...</td>\n",
              "    </tr>\n",
              "    <tr>\n",
              "      <th>3</th>\n",
              "      <td>digidaigaku</td>\n",
              "      <td>DigiDaigaku</td>\n",
              "      <td>**DigiDaigaku** is a collection of unique [non...</td>\n",
              "    </tr>\n",
              "    <tr>\n",
              "      <th>4</th>\n",
              "      <td>luis-cuende</td>\n",
              "      <td>Luis Cuende</td>\n",
              "      <td>**Luis Cuende** is a software developer best k...</td>\n",
              "    </tr>\n",
              "    <tr>\n",
              "      <th>...</th>\n",
              "      <td>...</td>\n",
              "      <td>...</td>\n",
              "      <td>...</td>\n",
              "    </tr>\n",
              "    <tr>\n",
              "      <th>1345</th>\n",
              "      <td>bulls-on-the-block</td>\n",
              "      <td>Bulls on the Block</td>\n",
              "      <td>Bulls on the Block is a Non-Fungible Tokens (N...</td>\n",
              "    </tr>\n",
              "    <tr>\n",
              "      <th>1346</th>\n",
              "      <td>bryan-brinkman</td>\n",
              "      <td>Bryan Brinkman</td>\n",
              "      <td>Bryan Brinkman is a cartoon animator from the ...</td>\n",
              "    </tr>\n",
              "    <tr>\n",
              "      <th>1347</th>\n",
              "      <td>bold-badgers-squad</td>\n",
              "      <td>Bold Badgers Squad</td>\n",
              "      <td>Bold Badgers Squad is a collection of 10,000 u...</td>\n",
              "    </tr>\n",
              "    <tr>\n",
              "      <th>1348</th>\n",
              "      <td>blake-kathryn</td>\n",
              "      <td>Blake Kathryn</td>\n",
              "      <td>Blake Kathryn is a Los Angeles-based multidisc...</td>\n",
              "    </tr>\n",
              "    <tr>\n",
              "      <th>1349</th>\n",
              "      <td>bff-friendship-bracelets</td>\n",
              "      <td>BFF Friendship Bracelets</td>\n",
              "      <td>BFF Friendship Bracelets is a new decentralize...</td>\n",
              "    </tr>\n",
              "  </tbody>\n",
              "</table>\n",
              "<p>1350 rows × 3 columns</p>\n",
              "</div>\n",
              "      <button class=\"colab-df-convert\" onclick=\"convertToInteractive('df-0039a6d7-6c4f-444f-bc4f-aa427b6047c4')\"\n",
              "              title=\"Convert this dataframe to an interactive table.\"\n",
              "              style=\"display:none;\">\n",
              "        \n",
              "  <svg xmlns=\"http://www.w3.org/2000/svg\" height=\"24px\"viewBox=\"0 0 24 24\"\n",
              "       width=\"24px\">\n",
              "    <path d=\"M0 0h24v24H0V0z\" fill=\"none\"/>\n",
              "    <path d=\"M18.56 5.44l.94 2.06.94-2.06 2.06-.94-2.06-.94-.94-2.06-.94 2.06-2.06.94zm-11 1L8.5 8.5l.94-2.06 2.06-.94-2.06-.94L8.5 2.5l-.94 2.06-2.06.94zm10 10l.94 2.06.94-2.06 2.06-.94-2.06-.94-.94-2.06-.94 2.06-2.06.94z\"/><path d=\"M17.41 7.96l-1.37-1.37c-.4-.4-.92-.59-1.43-.59-.52 0-1.04.2-1.43.59L10.3 9.45l-7.72 7.72c-.78.78-.78 2.05 0 2.83L4 21.41c.39.39.9.59 1.41.59.51 0 1.02-.2 1.41-.59l7.78-7.78 2.81-2.81c.8-.78.8-2.07 0-2.86zM5.41 20L4 18.59l7.72-7.72 1.47 1.35L5.41 20z\"/>\n",
              "  </svg>\n",
              "      </button>\n",
              "      \n",
              "  <style>\n",
              "    .colab-df-container {\n",
              "      display:flex;\n",
              "      flex-wrap:wrap;\n",
              "      gap: 12px;\n",
              "    }\n",
              "\n",
              "    .colab-df-convert {\n",
              "      background-color: #E8F0FE;\n",
              "      border: none;\n",
              "      border-radius: 50%;\n",
              "      cursor: pointer;\n",
              "      display: none;\n",
              "      fill: #1967D2;\n",
              "      height: 32px;\n",
              "      padding: 0 0 0 0;\n",
              "      width: 32px;\n",
              "    }\n",
              "\n",
              "    .colab-df-convert:hover {\n",
              "      background-color: #E2EBFA;\n",
              "      box-shadow: 0px 1px 2px rgba(60, 64, 67, 0.3), 0px 1px 3px 1px rgba(60, 64, 67, 0.15);\n",
              "      fill: #174EA6;\n",
              "    }\n",
              "\n",
              "    [theme=dark] .colab-df-convert {\n",
              "      background-color: #3B4455;\n",
              "      fill: #D2E3FC;\n",
              "    }\n",
              "\n",
              "    [theme=dark] .colab-df-convert:hover {\n",
              "      background-color: #434B5C;\n",
              "      box-shadow: 0px 1px 3px 1px rgba(0, 0, 0, 0.15);\n",
              "      filter: drop-shadow(0px 1px 2px rgba(0, 0, 0, 0.3));\n",
              "      fill: #FFFFFF;\n",
              "    }\n",
              "  </style>\n",
              "\n",
              "      <script>\n",
              "        const buttonEl =\n",
              "          document.querySelector('#df-0039a6d7-6c4f-444f-bc4f-aa427b6047c4 button.colab-df-convert');\n",
              "        buttonEl.style.display =\n",
              "          google.colab.kernel.accessAllowed ? 'block' : 'none';\n",
              "\n",
              "        async function convertToInteractive(key) {\n",
              "          const element = document.querySelector('#df-0039a6d7-6c4f-444f-bc4f-aa427b6047c4');\n",
              "          const dataTable =\n",
              "            await google.colab.kernel.invokeFunction('convertToInteractive',\n",
              "                                                     [key], {});\n",
              "          if (!dataTable) return;\n",
              "\n",
              "          const docLinkHtml = 'Like what you see? Visit the ' +\n",
              "            '<a target=\"_blank\" href=https://colab.research.google.com/notebooks/data_table.ipynb>data table notebook</a>'\n",
              "            + ' to learn more about interactive tables.';\n",
              "          element.innerHTML = '';\n",
              "          dataTable['output_type'] = 'display_data';\n",
              "          await google.colab.output.renderOutput(dataTable, element);\n",
              "          const docLink = document.createElement('div');\n",
              "          docLink.innerHTML = docLinkHtml;\n",
              "          element.appendChild(docLink);\n",
              "        }\n",
              "      </script>\n",
              "    </div>\n",
              "  </div>\n",
              "  "
            ]
          },
          "metadata": {},
          "execution_count": 12
        }
      ]
    },
    {
      "cell_type": "code",
      "source": [
        "df.rename(columns={df.columns[0]: 'wikiid'}, inplace=True)"
      ],
      "metadata": {
        "id": "lzqi91eGIFKT"
      },
      "execution_count": 11,
      "outputs": []
    },
    {
      "cell_type": "code",
      "source": [
        "import re\n",
        "from typing import List\n",
        "\n",
        "HEADING_REGEX = re.compile(r'^#+ .*$')\n",
        "WIDGET_REGEX = re.compile(r'^\\$\\$widget\\d(.*?\\))\\$\\$$')\n",
        "MARKDOWN_LINK_REGEX = re.compile(r'^\\[(.*)\\]\\(.*\\)$')\n",
        "MARKDOWN_IMAGE_REGEX = re.compile(r'^!\\[.*\\]\\(.*\\)$')\n",
        "CITATION_REGEX = re.compile(r'\\[\\\\\\[\\d+\\\\\\]\\]\\(#cite-id-[a-z0-9]+\\)', flags=re.MULTILINE)\n",
        "\n",
        "MAX_PARA_COUNT = 3\n",
        "MAX_CONTENT_LENGTH = 10000\n",
        "\n",
        "\n",
        "def sanitize_content(content: str) -> str:\n",
        "    \n",
        "    \"\"\"\n",
        "    This function takes a string `content` that represents a Markdown document.\n",
        "    It splits the document into paragraphs, filters out any paragraphs that do\n",
        "    not contain valid text, removes Markdown syntax from the remaining paragraphs,\n",
        "    and joins them back together into a string. The resulting string is trimmed\n",
        "    to a maximum length and returned.\n",
        "    \"\"\"\n",
        "        \n",
        "    content_paragraphs = content.split('\\n\\n')\n",
        "    filtered_paragraphs = [\n",
        "        p for p in content_paragraphs if is_valid_paragraph(p)\n",
        "    ]\n",
        "    sanitized_paragraphs = []\n",
        "    count = 0\n",
        "\n",
        "    for paragraph in filtered_paragraphs:\n",
        "        if count >= MAX_PARA_COUNT:\n",
        "            break\n",
        "\n",
        "        trimmed_paragraph = paragraph.strip()\n",
        "        plain_text_paragraph = remove_markdown_syntax(trimmed_paragraph)\n",
        "        sanitized_paragraph = CITATION_REGEX.sub('', plain_text_paragraph)\n",
        "        is_heading = HEADING_REGEX.match(trimmed_paragraph) is not None\n",
        "\n",
        "        if not is_heading:\n",
        "            sanitized_paragraphs.append(sanitized_paragraph)\n",
        "            count += 1\n",
        "        else:\n",
        "            sanitized_paragraphs.append(trimmed_paragraph)\n",
        "\n",
        "    trimmed_content = '\\n\\n'.join(sanitized_paragraphs)[:MAX_CONTENT_LENGTH]\n",
        "\n",
        "    return trimmed_content\n",
        "\n",
        "\n",
        "def is_valid_paragraph(paragraph: str) -> bool:\n",
        "    \"\"\"\n",
        "    This function takes a string `paragraph` and checks if it is a valid\n",
        "    paragraph. A valid paragraph is one that contains text (i.e., is not empty),\n",
        "    and does not contain Markdown image syntax, link syntax, or widget syntax.\n",
        "    \"\"\"\n",
        "        \n",
        "    para = paragraph.strip()\n",
        "    return (\n",
        "        len(para) != 0\n",
        "        and not MARKDOWN_IMAGE_REGEX.match(para)\n",
        "        and not MARKDOWN_LINK_REGEX.match(para)\n",
        "        and not WIDGET_REGEX.match(para)\n",
        "    )\n",
        "\n",
        "\n",
        "def remove_markdown_syntax(text: str) -> str:\n",
        "    \n",
        "    \"\"\"\n",
        "    This function takes a string `paragraph` and checks if it is a valid\n",
        "    paragraph. A valid paragraph is one that contains text (i.e., is not empty),\n",
        "    and does not contain Markdown image syntax, link syntax, or widget syntax.\n",
        "    \"\"\"\n",
        "        \n",
        "    # Remove emphasis syntax\n",
        "    text = re.sub(r'\\*\\*?(.*?)\\*\\*?', r'\\1', text)\n",
        "    text = re.sub(r'__(.*?)__', r'\\1', text)\n",
        "\n",
        "    # Remove code syntax\n",
        "    text = re.sub(r'`(.+?)`', r'\\1', text)\n",
        "\n",
        "    # Remove links\n",
        "    text = re.sub(r'\\[(.*?)\\]\\((.*?)\\)', r'\\1', text)\n",
        "\n",
        "    # Remove images\n",
        "    text = re.sub(r'!\\[(.*?)\\]\\((.*?)\\)', r'', text)\n",
        "\n",
        "    return text\n",
        "\n",
        "def clean(string):\n",
        "    sample = string\n",
        "\n",
        "    cleaned = re.sub(r'\\xa0',' ',\n",
        "                    re.sub(r'\\s{2,}',' ',\n",
        "                       re.sub(r'\\>','',\n",
        "                              re.sub(r'\\$\\$widget0 YOUTUBE@VID\\$\\$','',\n",
        "                                    re.sub(r'[#*]+','',\n",
        "                                          re.sub(r'\\\\\\[\\d+\\\\\\]','',\n",
        "                                                sample))))))\n",
        "    return cleaned"
      ],
      "metadata": {
        "id": "Q83kocVvIH_C"
      },
      "execution_count": 13,
      "outputs": []
    },
    {
      "cell_type": "code",
      "source": [
        "df.content = df.content.apply(sanitize_content)"
      ],
      "metadata": {
        "id": "fIQe9n0sIKw4"
      },
      "execution_count": 14,
      "outputs": []
    },
    {
      "cell_type": "code",
      "source": [
        "df.content = df.content.apply(clean)"
      ],
      "metadata": {
        "id": "lAkjArm0IMbH"
      },
      "execution_count": 15,
      "outputs": []
    },
    {
      "cell_type": "code",
      "source": [
        "df.head()"
      ],
      "metadata": {
        "colab": {
          "base_uri": "https://localhost:8080/",
          "height": 206
        },
        "id": "FSWearxZIN6I",
        "outputId": "9eef76c3-fbe1-4a91-d3f9-37c31d13beee"
      },
      "execution_count": 16,
      "outputs": [
        {
          "output_type": "execute_result",
          "data": {
            "text/plain": [
              "        wikiid        title                                            content\n",
              "0     deafbeef     Deafbeef  Deafbeef is a generative audiovisual NFT artis...\n",
              "1  white-paper  White Paper  A whitepaper is a document released by develop...\n",
              "2  limit-break  Limit Break  Limit Break is a blockchain gaming company tha...\n",
              "3  digidaigaku  DigiDaigaku  DigiDaigaku is a collection of unique non-fung...\n",
              "4  luis-cuende  Luis Cuende  Luis Cuende is a software developer best known..."
            ],
            "text/html": [
              "\n",
              "  <div id=\"df-a5b421df-d106-4e07-bb86-6250cc7a26b1\">\n",
              "    <div class=\"colab-df-container\">\n",
              "      <div>\n",
              "<style scoped>\n",
              "    .dataframe tbody tr th:only-of-type {\n",
              "        vertical-align: middle;\n",
              "    }\n",
              "\n",
              "    .dataframe tbody tr th {\n",
              "        vertical-align: top;\n",
              "    }\n",
              "\n",
              "    .dataframe thead th {\n",
              "        text-align: right;\n",
              "    }\n",
              "</style>\n",
              "<table border=\"1\" class=\"dataframe\">\n",
              "  <thead>\n",
              "    <tr style=\"text-align: right;\">\n",
              "      <th></th>\n",
              "      <th>wikiid</th>\n",
              "      <th>title</th>\n",
              "      <th>content</th>\n",
              "    </tr>\n",
              "  </thead>\n",
              "  <tbody>\n",
              "    <tr>\n",
              "      <th>0</th>\n",
              "      <td>deafbeef</td>\n",
              "      <td>Deafbeef</td>\n",
              "      <td>Deafbeef is a generative audiovisual NFT artis...</td>\n",
              "    </tr>\n",
              "    <tr>\n",
              "      <th>1</th>\n",
              "      <td>white-paper</td>\n",
              "      <td>White Paper</td>\n",
              "      <td>A whitepaper is a document released by develop...</td>\n",
              "    </tr>\n",
              "    <tr>\n",
              "      <th>2</th>\n",
              "      <td>limit-break</td>\n",
              "      <td>Limit Break</td>\n",
              "      <td>Limit Break is a blockchain gaming company tha...</td>\n",
              "    </tr>\n",
              "    <tr>\n",
              "      <th>3</th>\n",
              "      <td>digidaigaku</td>\n",
              "      <td>DigiDaigaku</td>\n",
              "      <td>DigiDaigaku is a collection of unique non-fung...</td>\n",
              "    </tr>\n",
              "    <tr>\n",
              "      <th>4</th>\n",
              "      <td>luis-cuende</td>\n",
              "      <td>Luis Cuende</td>\n",
              "      <td>Luis Cuende is a software developer best known...</td>\n",
              "    </tr>\n",
              "  </tbody>\n",
              "</table>\n",
              "</div>\n",
              "      <button class=\"colab-df-convert\" onclick=\"convertToInteractive('df-a5b421df-d106-4e07-bb86-6250cc7a26b1')\"\n",
              "              title=\"Convert this dataframe to an interactive table.\"\n",
              "              style=\"display:none;\">\n",
              "        \n",
              "  <svg xmlns=\"http://www.w3.org/2000/svg\" height=\"24px\"viewBox=\"0 0 24 24\"\n",
              "       width=\"24px\">\n",
              "    <path d=\"M0 0h24v24H0V0z\" fill=\"none\"/>\n",
              "    <path d=\"M18.56 5.44l.94 2.06.94-2.06 2.06-.94-2.06-.94-.94-2.06-.94 2.06-2.06.94zm-11 1L8.5 8.5l.94-2.06 2.06-.94-2.06-.94L8.5 2.5l-.94 2.06-2.06.94zm10 10l.94 2.06.94-2.06 2.06-.94-2.06-.94-.94-2.06-.94 2.06-2.06.94z\"/><path d=\"M17.41 7.96l-1.37-1.37c-.4-.4-.92-.59-1.43-.59-.52 0-1.04.2-1.43.59L10.3 9.45l-7.72 7.72c-.78.78-.78 2.05 0 2.83L4 21.41c.39.39.9.59 1.41.59.51 0 1.02-.2 1.41-.59l7.78-7.78 2.81-2.81c.8-.78.8-2.07 0-2.86zM5.41 20L4 18.59l7.72-7.72 1.47 1.35L5.41 20z\"/>\n",
              "  </svg>\n",
              "      </button>\n",
              "      \n",
              "  <style>\n",
              "    .colab-df-container {\n",
              "      display:flex;\n",
              "      flex-wrap:wrap;\n",
              "      gap: 12px;\n",
              "    }\n",
              "\n",
              "    .colab-df-convert {\n",
              "      background-color: #E8F0FE;\n",
              "      border: none;\n",
              "      border-radius: 50%;\n",
              "      cursor: pointer;\n",
              "      display: none;\n",
              "      fill: #1967D2;\n",
              "      height: 32px;\n",
              "      padding: 0 0 0 0;\n",
              "      width: 32px;\n",
              "    }\n",
              "\n",
              "    .colab-df-convert:hover {\n",
              "      background-color: #E2EBFA;\n",
              "      box-shadow: 0px 1px 2px rgba(60, 64, 67, 0.3), 0px 1px 3px 1px rgba(60, 64, 67, 0.15);\n",
              "      fill: #174EA6;\n",
              "    }\n",
              "\n",
              "    [theme=dark] .colab-df-convert {\n",
              "      background-color: #3B4455;\n",
              "      fill: #D2E3FC;\n",
              "    }\n",
              "\n",
              "    [theme=dark] .colab-df-convert:hover {\n",
              "      background-color: #434B5C;\n",
              "      box-shadow: 0px 1px 3px 1px rgba(0, 0, 0, 0.15);\n",
              "      filter: drop-shadow(0px 1px 2px rgba(0, 0, 0, 0.3));\n",
              "      fill: #FFFFFF;\n",
              "    }\n",
              "  </style>\n",
              "\n",
              "      <script>\n",
              "        const buttonEl =\n",
              "          document.querySelector('#df-a5b421df-d106-4e07-bb86-6250cc7a26b1 button.colab-df-convert');\n",
              "        buttonEl.style.display =\n",
              "          google.colab.kernel.accessAllowed ? 'block' : 'none';\n",
              "\n",
              "        async function convertToInteractive(key) {\n",
              "          const element = document.querySelector('#df-a5b421df-d106-4e07-bb86-6250cc7a26b1');\n",
              "          const dataTable =\n",
              "            await google.colab.kernel.invokeFunction('convertToInteractive',\n",
              "                                                     [key], {});\n",
              "          if (!dataTable) return;\n",
              "\n",
              "          const docLinkHtml = 'Like what you see? Visit the ' +\n",
              "            '<a target=\"_blank\" href=https://colab.research.google.com/notebooks/data_table.ipynb>data table notebook</a>'\n",
              "            + ' to learn more about interactive tables.';\n",
              "          element.innerHTML = '';\n",
              "          dataTable['output_type'] = 'display_data';\n",
              "          await google.colab.output.renderOutput(dataTable, element);\n",
              "          const docLink = document.createElement('div');\n",
              "          docLink.innerHTML = docLinkHtml;\n",
              "          element.appendChild(docLink);\n",
              "        }\n",
              "      </script>\n",
              "    </div>\n",
              "  </div>\n",
              "  "
            ]
          },
          "metadata": {},
          "execution_count": 16
        }
      ]
    },
    {
      "cell_type": "code",
      "source": [
        "df.iloc[0, 2]"
      ],
      "metadata": {
        "colab": {
          "base_uri": "https://localhost:8080/",
          "height": 817
        },
        "id": "PADkXVAeIPiA",
        "outputId": "8ef81ca7-43fc-41c1-f40d-2af696e6bd0e"
      },
      "execution_count": 18,
      "outputs": [
        {
          "output_type": "execute_result",
          "data": {
            "text/plain": [
              "'Deafbeef is a generative audiovisual NFT artist who creates music and visual art using a 10-year-old computer and a C compiler. The artist has a background in electrical engineering, sound recording, and music. Early Life & Education The artist grew up in rural Ontario, Canada. “We lived several miles away from the nearest village. And this was back in a time where you were free from the constant bombardment of information – so, my default state was being bored and I had to search out things to maintain my interest. Music was one of those.” - Deafbeef Throughout his early years, DEAFBEEF\\'s passion for music and his struggle to reconcile it with the technical side of his intellect was a recurring theme. Initially, he considered studying music but eventually chose engineering instead. After becoming immersed in the music of Frank Zappa, he decided to pursue music. He built a recording studio and moved to Toronto at the age of 22, where he rented a warehouse space that also served as his apartment. Despite limited resources, he managed to scrape together enough audio equipment to get started. Taking advantage of the strong independent rock scene in the city at the time, he recorded hundreds of bands live on the warehouse floor. Career Deafbeef was first involved with the crypto space when set up a mining rig for Litecoin. In 2020, at the start of the COVID-19 pandemic, the artist embarked on an art project after a hiatus of 7 years spent raising children. Deafbeef, who has a background in electrical engineering, sound recording, and music, discovered that modular synthesizers had returned to mainstream culture. However, the artist was put off by consumerism and decided to pursue an ascetic approach by creating music using \"nothing\" instead of investing in expensive hardware that many viewed as magical \"black boxes\". Additionally, the artist chose not to upgrade their 10-year-old laptop to run the latest DAWs (Digital Audio Workstations) and instead opted to rebuild from scratch using only a cheap laptop, Linux, emacs text editor, and a C compiler. The goal was to work at a fundamental level, inputting numbers directly into digital storage media to create sound and images. I want to maintain an intimate relationship with the underlying medium. Every tool leaves a kind of imprint. Making one\\'s own tools is more tedious, it\\'s a bit riskier, but ultimately allows a greater chance for some kind of unique expression. The name DEAFBEEF DEAFBEEF is an instance of \\'hexspeak\\', a category of words formed by utilizing the symbols present in the hexadecimal (base 16) numbering system, consisting of 16 characters ranging from 0 to 9 and A to F. In low-level programming languages such as C, hexadecimal representation is often used for numbers when working in close proximity to the machine level. Throughout history, specific hexspeak was utilized in programmer and hacker culture for pragmatic purposes. Programmers of a certain generation will know ‘DEADBEEF’ (note, with a D, as opposed to DEAFBEEF). Areas of program memory that were not to be written to were initialized with the value ‘0xdeadbeef’. That way, when viewing a hex memory dump while debugging, you could easily see any area marked ‘deadbeef’, a warning to yourself not to write to that area, otherwise you are ‘dead meat’ and risk crashing your program. So DEAFBEEF relates to that. DEAF, associations with sound/audio, and also my penchant for the humorous or absurd (Frank Zappa influence). And also the simple practical reason that ‘deadbeef’ is already an overloaded term, many projects/artists have already used that alias, and the domain name was taken. DEAFBEEF was a clean slate. NFT Projects Series 0 - Synth Poems Synth Poems is a digital art form that utilizes blockchain technology to create and distribute unique generative music pieces. These pieces are inspired by the sound of analog synthesizers and are stored on-chain. Each Synth Poem is created at the moment of minting, using a random hash value to determine elements such as tempo, timbre, pitch, and time signature. While the sound is the primary focus, a suitable visualization that reflects the sound signal as seen on an oscilloscope is also included. All the code is kept on-chain, providing a secure and transparent method of media reconstruction without the need for external storage or reliance on IPFS. There are 128 Synth Poems in existence, and Token 134 has been the piece traded with the highest price in the collection on OpenSea, with an amount of 123 ETH. Series 1 - Angular This collection of generative audiovisual pieces offers a distinct and synchronized experience. The note durations and pitches are determined by continuous functions of time, resulting in an \"off the grid\" rhythm and pitch. This style is paired with angular visuals that follow a strict grid pattern. In contrast to other generative art collections, this one is precisely tuned and tightly constrained, with specific parameters chosen for each piece. Although each artwork is unique and initiated by a random hash value, they share a common theme and can be considered as \"prints\" of the original artwork. The code that generates the audiovisual is stored entirely on-chain, ensuring secure and transparent media reconstruction without relying on external storage or IPFS. This collection has a total of 8 pieces, and the most expensive piece has been traded for 120 ETH. Series 2 - Transmission This collection of generative on-chain audiovisual art is packed with subliminal messages that document the \"spirit of this age\". The visuals are inspired by ANSI terminal and noisy video signals, while the percussion is synthesized and the rhythms are randomized. Unlike many other generative art collections, this one has finely tuned and tightly constrained parameters. Although each piece is unique and seeded by a random hash value, they share a similar flavor and can be considered as \"prints\" of the original artwork. The code that generates the audiovisual is stored entirely on-chain, offering secure and transparent media reconstruction without requiring external storage or reliance on IPFS. With only 8 pieces in the collection, each one is a rare and exceptional representation of the intersection between art, technology, and culture. The piece with the highest price was sold for 225 ETH. Series 3 - Entropy This series of on-chain media examines the concepts of permanence, ownership, and generation loss through a programmed process of artificial degradation that occurs upon transferring the token to a new owner. The highest price was of 130 ETH. Series 4 - Glitchbox This series of programmable media allows users to actively participate in exploring and curating a generative audiovisual model. Unlike relying on a fixed hash for artificial scarcity, owners and editors can continuously explore and selectively choose from a vast array of possible outputs. Once minted, owners (and those with editing access granted by the owner) can manipulate the parameters that influence the model\\'s output and store them on-chain. Analogous to the knobs and switches of a modular synthesizer, these parameters allow owners and editors to \\'play\\' the instrument by selecting settings that appeal to them. Additionally, the on-chain record of the parameters chosen and their authors provides a permanent record of the curation process. The most expensive piece was sold for 175 ETH. Series 5 - Advection This series of media artworks aims to showcase the aesthetic appeal and congruence between mathematical and physical concepts across different perceptual modalities. The animations\\' fluid motion model is based on academic research conducted in 2010, while the struck percussion sounds are synthesized using shared physical principles. This series builds on the user-programmable media approach of Series 4, with one token designated for community access. While unowned, this token provides communal utility for members to learn, study, and interact with a programmable system, including changing parameters that influence the audiovisual output. All changes and their authors\\' addresses are stored immutably on-chain. Remarkably, the audiovisual outputs are entirely reconstructed from 100kb of self-contained C code stored on-chain. The most expensive piece traded for 107 ETH. '"
            ],
            "application/vnd.google.colaboratory.intrinsic+json": {
              "type": "string"
            }
          },
          "metadata": {},
          "execution_count": 18
        }
      ]
    },
    {
      "cell_type": "code",
      "source": [
        "!pip install -qU langchain tiktoken matplotlib seaborn tqdm"
      ],
      "metadata": {
        "colab": {
          "base_uri": "https://localhost:8080/"
        },
        "id": "OIhvLGQeIQsB",
        "outputId": "e58325b5-3723-47bf-9ec6-2251bbaa7b7b"
      },
      "execution_count": 19,
      "outputs": [
        {
          "output_type": "stream",
          "name": "stdout",
          "text": [
            "\u001b[2K     \u001b[90m━━━━━━━━━━━━━━━━━━━━━━━━━━━━━━━━━━━━━━\u001b[0m \u001b[32m477.2/477.2 KB\u001b[0m \u001b[31m32.0 MB/s\u001b[0m eta \u001b[36m0:00:00\u001b[0m\n",
            "\u001b[2K     \u001b[90m━━━━━━━━━━━━━━━━━━━━━━━━━━━━━━━━━━━━━━━━\u001b[0m \u001b[32m1.7/1.7 MB\u001b[0m \u001b[31m77.3 MB/s\u001b[0m eta \u001b[36m0:00:00\u001b[0m\n",
            "\u001b[2K     \u001b[90m━━━━━━━━━━━━━━━━━━━━━━━━━━━━━━━━━━━━━━━━\u001b[0m \u001b[32m1.0/1.0 MB\u001b[0m \u001b[31m73.3 MB/s\u001b[0m eta \u001b[36m0:00:00\u001b[0m\n",
            "\u001b[2K     \u001b[90m━━━━━━━━━━━━━━━━━━━━━━━━━━━━━━━━━━━━━━\u001b[0m \u001b[32m264.6/264.6 KB\u001b[0m \u001b[31m30.2 MB/s\u001b[0m eta \u001b[36m0:00:00\u001b[0m\n",
            "\u001b[2K     \u001b[90m━━━━━━━━━━━━━━━━━━━━━━━━━━━━━━━━━━━━━━\u001b[0m \u001b[32m158.8/158.8 KB\u001b[0m \u001b[31m20.5 MB/s\u001b[0m eta \u001b[36m0:00:00\u001b[0m\n",
            "\u001b[2K     \u001b[90m━━━━━━━━━━━━━━━━━━━━━━━━━━━━━━━━━━━━━━\u001b[0m \u001b[32m114.2/114.2 KB\u001b[0m \u001b[31m16.3 MB/s\u001b[0m eta \u001b[36m0:00:00\u001b[0m\n",
            "\u001b[2K     \u001b[90m━━━━━━━━━━━━━━━━━━━━━━━━━━━━━━━━━━━━━━━━\u001b[0m \u001b[32m49.1/49.1 KB\u001b[0m \u001b[31m6.3 MB/s\u001b[0m eta \u001b[36m0:00:00\u001b[0m\n",
            "\u001b[?25h"
          ]
        }
      ]
    },
    {
      "cell_type": "code",
      "source": [
        "import tiktoken\n",
        "\n",
        "tokenizer = tiktoken.get_encoding('cl100k_base')\n",
        "\n",
        "# create the length function\n",
        "def tiktoken_len(text):\n",
        "    tokens = tokenizer.encode(\n",
        "        text,\n",
        "        disallowed_special=()\n",
        "    )\n",
        "    return len(tokens)"
      ],
      "metadata": {
        "id": "YbC89DyRIjiM"
      },
      "execution_count": 20,
      "outputs": []
    },
    {
      "cell_type": "code",
      "source": [
        "# Applying the tiktoken_len function to the content column and storing results in a list\n",
        "token_lengths = [tiktoken_len(content) for content in df['content']]\n",
        "\n",
        "# Calculate min, max, and average token lengths\n",
        "min_token_length = min(token_lengths)\n",
        "max_token_length = max(token_lengths)\n",
        "average_token_length = sum(token_lengths) / len(token_lengths)\n",
        "\n",
        "print(f\"Minimum token length: {min_token_length}\")\n",
        "print(f\"Maximum token length: {max_token_length}\")\n",
        "print(f\"Average token length: {average_token_length}\")"
      ],
      "metadata": {
        "colab": {
          "base_uri": "https://localhost:8080/"
        },
        "id": "7IM2-1-VIoGb",
        "outputId": "5830667e-70aa-426c-c25c-6afc4c2ee055"
      },
      "execution_count": 21,
      "outputs": [
        {
          "output_type": "stream",
          "name": "stdout",
          "text": [
            "Minimum token length: 126\n",
            "Maximum token length: 2371\n",
            "Average token length: 1042.7881481481481\n"
          ]
        }
      ]
    },
    {
      "cell_type": "code",
      "source": [
        "import matplotlib.pyplot as plt\n",
        "import seaborn as sns\n",
        "\n",
        "# set style and color palette for the plot\n",
        "sns.set_style(\"whitegrid\")\n",
        "sns.set_palette(\"muted\")\n",
        "\n",
        "# create histogram\n",
        "plt.figure(figsize=(12, 6))\n",
        "sns.histplot(token_lengths, kde=False, bins=50)\n",
        "\n",
        "# customize the plot info\n",
        "plt.title(\"Token lengths Histogram\")\n",
        "plt.xlabel(\"Token Length\")\n",
        "plt.ylabel(\"Frequency\")\n",
        "\n",
        "plt.show()"
      ],
      "metadata": {
        "colab": {
          "base_uri": "https://localhost:8080/",
          "height": 564
        },
        "id": "WoB8OboSJgfv",
        "outputId": "6da35963-4457-4a0f-a82d-e5439f034186"
      },
      "execution_count": 22,
      "outputs": [
        {
          "output_type": "display_data",
          "data": {
            "text/plain": [
              "<Figure size 1200x600 with 1 Axes>"
            ],
            "image/png": "[encoded data removed]"
          },
          "metadata": {}
        }
      ]
    },
    {
      "cell_type": "code",
      "source": [
        "from langchain.text_splitter import RecursiveCharacterTextSplitter\n",
        "\n",
        "text_splitter = RecursiveCharacterTextSplitter(\n",
        "    chunk_size=400,\n",
        "    chunk_overlap=80,  # number of tokens overlap between chunks\n",
        "    length_function=tiktoken_len,\n",
        "    separators=['.', '']\n",
        ")"
      ],
      "metadata": {
        "id": "9DpBkA-PKoGx"
      },
      "execution_count": 83,
      "outputs": []
    },
    {
      "cell_type": "code",
      "source": [
        "df['chunks'] = df['content'].apply(text_splitter.split_text)"
      ],
      "metadata": {
        "id": "cqsXJy3vYGa5"
      },
      "execution_count": 84,
      "outputs": []
    },
    {
      "cell_type": "code",
      "source": [
        "# Explode the chunks list into individual rows, copying the wikiid and title values\n",
        "df_exploded = df.explode('chunks').reset_index(drop=True)\n",
        "df_exploded = df_exploded[['wikiid', 'title', 'chunks']]"
      ],
      "metadata": {
        "id": "kKwkbvUIY-MA"
      },
      "execution_count": 85,
      "outputs": []
    },
    {
      "cell_type": "code",
      "source": [
        "df_exploded"
      ],
      "metadata": {
        "colab": {
          "base_uri": "https://localhost:8080/",
          "height": 423
        },
        "id": "irgXI2ZiZB_k",
        "outputId": "38be0740-e395-48bd-f6ef-2ae6ee61f4f4"
      },
      "execution_count": 86,
      "outputs": [
        {
          "output_type": "execute_result",
          "data": {
            "text/plain": [
              "                        wikiid                     title  \\\n",
              "0                     deafbeef                  Deafbeef   \n",
              "1                     deafbeef                  Deafbeef   \n",
              "2                     deafbeef                  Deafbeef   \n",
              "3                     deafbeef                  Deafbeef   \n",
              "4                     deafbeef                  Deafbeef   \n",
              "...                        ...                       ...   \n",
              "4785             blake-kathryn             Blake Kathryn   \n",
              "4786             blake-kathryn             Blake Kathryn   \n",
              "4787             blake-kathryn             Blake Kathryn   \n",
              "4788             blake-kathryn             Blake Kathryn   \n",
              "4789  bff-friendship-bracelets  BFF Friendship Bracelets   \n",
              "\n",
              "                                                 chunks  \n",
              "0     Deafbeef is a generative audiovisual NFT artis...  \n",
              "1     Deafbeef, who has a background in electrical e...  \n",
              "2     Areas of program memory that were not to be wr...  \n",
              "3     Series 1 - Angular This collection of generati...  \n",
              "4     The piece with the highest price was sold for ...  \n",
              "...                                                 ...  \n",
              "4785  That detail preference quickly crafted the shi...  \n",
              "4786  ” Collaborations Kathryn signed a campaign wit...  \n",
              "4787  \"Blake instantly understood my aesthetic and i...  \n",
              "4788  While the Seven Sirens video itself was posted...  \n",
              "4789  BFF Friendship Bracelets is a new decentralize...  \n",
              "\n",
              "[4790 rows x 3 columns]"
            ],
            "text/html": [
              "\n",
              "  <div id=\"df-d2aac516-7958-4774-93cb-ecaae38d8a7f\">\n",
              "    <div class=\"colab-df-container\">\n",
              "      <div>\n",
              "<style scoped>\n",
              "    .dataframe tbody tr th:only-of-type {\n",
              "        vertical-align: middle;\n",
              "    }\n",
              "\n",
              "    .dataframe tbody tr th {\n",
              "        vertical-align: top;\n",
              "    }\n",
              "\n",
              "    .dataframe thead th {\n",
              "        text-align: right;\n",
              "    }\n",
              "</style>\n",
              "<table border=\"1\" class=\"dataframe\">\n",
              "  <thead>\n",
              "    <tr style=\"text-align: right;\">\n",
              "      <th></th>\n",
              "      <th>wikiid</th>\n",
              "      <th>title</th>\n",
              "      <th>chunks</th>\n",
              "    </tr>\n",
              "  </thead>\n",
              "  <tbody>\n",
              "    <tr>\n",
              "      <th>0</th>\n",
              "      <td>deafbeef</td>\n",
              "      <td>Deafbeef</td>\n",
              "      <td>Deafbeef is a generative audiovisual NFT artis...</td>\n",
              "    </tr>\n",
              "    <tr>\n",
              "      <th>1</th>\n",
              "      <td>deafbeef</td>\n",
              "      <td>Deafbeef</td>\n",
              "      <td>Deafbeef, who has a background in electrical e...</td>\n",
              "    </tr>\n",
              "    <tr>\n",
              "      <th>2</th>\n",
              "      <td>deafbeef</td>\n",
              "      <td>Deafbeef</td>\n",
              "      <td>Areas of program memory that were not to be wr...</td>\n",
              "    </tr>\n",
              "    <tr>\n",
              "      <th>3</th>\n",
              "      <td>deafbeef</td>\n",
              "      <td>Deafbeef</td>\n",
              "      <td>Series 1 - Angular This collection of generati...</td>\n",
              "    </tr>\n",
              "    <tr>\n",
              "      <th>4</th>\n",
              "      <td>deafbeef</td>\n",
              "      <td>Deafbeef</td>\n",
              "      <td>The piece with the highest price was sold for ...</td>\n",
              "    </tr>\n",
              "    <tr>\n",
              "      <th>...</th>\n",
              "      <td>...</td>\n",
              "      <td>...</td>\n",
              "      <td>...</td>\n",
              "    </tr>\n",
              "    <tr>\n",
              "      <th>4785</th>\n",
              "      <td>blake-kathryn</td>\n",
              "      <td>Blake Kathryn</td>\n",
              "      <td>That detail preference quickly crafted the shi...</td>\n",
              "    </tr>\n",
              "    <tr>\n",
              "      <th>4786</th>\n",
              "      <td>blake-kathryn</td>\n",
              "      <td>Blake Kathryn</td>\n",
              "      <td>” Collaborations Kathryn signed a campaign wit...</td>\n",
              "    </tr>\n",
              "    <tr>\n",
              "      <th>4787</th>\n",
              "      <td>blake-kathryn</td>\n",
              "      <td>Blake Kathryn</td>\n",
              "      <td>\"Blake instantly understood my aesthetic and i...</td>\n",
              "    </tr>\n",
              "    <tr>\n",
              "      <th>4788</th>\n",
              "      <td>blake-kathryn</td>\n",
              "      <td>Blake Kathryn</td>\n",
              "      <td>While the Seven Sirens video itself was posted...</td>\n",
              "    </tr>\n",
              "    <tr>\n",
              "      <th>4789</th>\n",
              "      <td>bff-friendship-bracelets</td>\n",
              "      <td>BFF Friendship Bracelets</td>\n",
              "      <td>BFF Friendship Bracelets is a new decentralize...</td>\n",
              "    </tr>\n",
              "  </tbody>\n",
              "</table>\n",
              "<p>4790 rows × 3 columns</p>\n",
              "</div>\n",
              "      <button class=\"colab-df-convert\" onclick=\"convertToInteractive('df-d2aac516-7958-4774-93cb-ecaae38d8a7f')\"\n",
              "              title=\"Convert this dataframe to an interactive table.\"\n",
              "              style=\"display:none;\">\n",
              "        \n",
              "  <svg xmlns=\"http://www.w3.org/2000/svg\" height=\"24px\"viewBox=\"0 0 24 24\"\n",
              "       width=\"24px\">\n",
              "    <path d=\"M0 0h24v24H0V0z\" fill=\"none\"/>\n",
              "    <path d=\"M18.56 5.44l.94 2.06.94-2.06 2.06-.94-2.06-.94-.94-2.06-.94 2.06-2.06.94zm-11 1L8.5 8.5l.94-2.06 2.06-.94-2.06-.94L8.5 2.5l-.94 2.06-2.06.94zm10 10l.94 2.06.94-2.06 2.06-.94-2.06-.94-.94-2.06-.94 2.06-2.06.94z\"/><path d=\"M17.41 7.96l-1.37-1.37c-.4-.4-.92-.59-1.43-.59-.52 0-1.04.2-1.43.59L10.3 9.45l-7.72 7.72c-.78.78-.78 2.05 0 2.83L4 21.41c.39.39.9.59 1.41.59.51 0 1.02-.2 1.41-.59l7.78-7.78 2.81-2.81c.8-.78.8-2.07 0-2.86zM5.41 20L4 18.59l7.72-7.72 1.47 1.35L5.41 20z\"/>\n",
              "  </svg>\n",
              "      </button>\n",
              "      \n",
              "  <style>\n",
              "    .colab-df-container {\n",
              "      display:flex;\n",
              "      flex-wrap:wrap;\n",
              "      gap: 12px;\n",
              "    }\n",
              "\n",
              "    .colab-df-convert {\n",
              "      background-color: #E8F0FE;\n",
              "      border: none;\n",
              "      border-radius: 50%;\n",
              "      cursor: pointer;\n",
              "      display: none;\n",
              "      fill: #1967D2;\n",
              "      height: 32px;\n",
              "      padding: 0 0 0 0;\n",
              "      width: 32px;\n",
              "    }\n",
              "\n",
              "    .colab-df-convert:hover {\n",
              "      background-color: #E2EBFA;\n",
              "      box-shadow: 0px 1px 2px rgba(60, 64, 67, 0.3), 0px 1px 3px 1px rgba(60, 64, 67, 0.15);\n",
              "      fill: #174EA6;\n",
              "    }\n",
              "\n",
              "    [theme=dark] .colab-df-convert {\n",
              "      background-color: #3B4455;\n",
              "      fill: #D2E3FC;\n",
              "    }\n",
              "\n",
              "    [theme=dark] .colab-df-convert:hover {\n",
              "      background-color: #434B5C;\n",
              "      box-shadow: 0px 1px 3px 1px rgba(0, 0, 0, 0.15);\n",
              "      filter: drop-shadow(0px 1px 2px rgba(0, 0, 0, 0.3));\n",
              "      fill: #FFFFFF;\n",
              "    }\n",
              "  </style>\n",
              "\n",
              "      <script>\n",
              "        const buttonEl =\n",
              "          document.querySelector('#df-d2aac516-7958-4774-93cb-ecaae38d8a7f button.colab-df-convert');\n",
              "        buttonEl.style.display =\n",
              "          google.colab.kernel.accessAllowed ? 'block' : 'none';\n",
              "\n",
              "        async function convertToInteractive(key) {\n",
              "          const element = document.querySelector('#df-d2aac516-7958-4774-93cb-ecaae38d8a7f');\n",
              "          const dataTable =\n",
              "            await google.colab.kernel.invokeFunction('convertToInteractive',\n",
              "                                                     [key], {});\n",
              "          if (!dataTable) return;\n",
              "\n",
              "          const docLinkHtml = 'Like what you see? Visit the ' +\n",
              "            '<a target=\"_blank\" href=https://colab.research.google.com/notebooks/data_table.ipynb>data table notebook</a>'\n",
              "            + ' to learn more about interactive tables.';\n",
              "          element.innerHTML = '';\n",
              "          dataTable['output_type'] = 'display_data';\n",
              "          await google.colab.output.renderOutput(dataTable, element);\n",
              "          const docLink = document.createElement('div');\n",
              "          docLink.innerHTML = docLinkHtml;\n",
              "          element.appendChild(docLink);\n",
              "        }\n",
              "      </script>\n",
              "    </div>\n",
              "  </div>\n",
              "  "
            ]
          },
          "metadata": {},
          "execution_count": 86
        }
      ]
    },
    {
      "cell_type": "code",
      "source": [
        "filtered_df = df_exploded.loc[df_exploded['wikiid'].str.contains('lens-protocol')]\n",
        "len(filtered_df)"
      ],
      "metadata": {
        "colab": {
          "base_uri": "https://localhost:8080/"
        },
        "id": "2M8FIAvzZEnU",
        "outputId": "e59d57e4-fbf3-4031-b493-357aebfc8677"
      },
      "execution_count": 65,
      "outputs": [
        {
          "output_type": "execute_result",
          "data": {
            "text/plain": [
              "3"
            ]
          },
          "metadata": {},
          "execution_count": 65
        }
      ]
    },
    {
      "cell_type": "code",
      "source": [
        "n_df = df_exploded[df_exploded['wikiid'] == 'lens-protocol']\n",
        "for index, row in n_df.iterrows():\n",
        "    print(f\"Content for wikiid 'lens-protocol': {row['chunks']}\")"
      ],
      "metadata": {
        "colab": {
          "base_uri": "https://localhost:8080/"
        },
        "id": "b6a49W2lZP-J",
        "outputId": "0c7d2f40-0f67-4b6d-8881-aaec540fab9d"
      },
      "execution_count": 66,
      "outputs": [
        {
          "output_type": "stream",
          "name": "stdout",
          "text": [
            "Content for wikiid 'lens-protocol': Lens Protocol is a composable, decentralized social graph on the Polygon proof -of-stake (PoS) blockchain allowing creators to control their content and data. It is a decentralized social network with a low carbon footprint and a web3 team. It allows users to retain ownership of their profiles and content, set up DAO accounts, monetize content, and transfer data. History Stani Kulechov, founder and CEO of Aave, created Lens Protocol based on discussions regarding the significance of digital identity control. Kulechov has expressed criticism of the way Web 2.0 social media platforms handle user data, restrict user content, and determine what information they view. Stani Kulechov discussed the evolution and revolution of the social media ecosystem at LisCon in 2021, and the team posted an open letter on the 20th of January, 2022 citing the problem of companies owning and monetizing their users’ content. The letter described Web 2.0 social media platforms as antiquated, centralized systems, and proposed Web3 as a potential solution to give users control over their profiles and content. Lens Protocol was made available on Polygon’s Mumbai testnet on 7th February 2022 and transitioned to Polygon Mainnet on the 18th of May 2022. Prior to going live on the Mainnet, the platform underwent a PeckShield audit and was open to community scrutiny and bug reports. The code can be accessed via Github. The name Lens comes from the Lens Culinaris, a tall, branched plant with pods of lens-shaped, small lentils. It has a symbiotic relationship with certain soil bacteria. If the roots are left in the ground, they will provide a source of nitrogen for their neighbor. Similarly, Lens protocol is a composable and decentralized social graph which lets creators take ownership of their content wherever they go in the digital garden of the decentralized internet\n",
            "Content for wikiid 'lens-protocol': It has a symbiotic relationship with certain soil bacteria. If the roots are left in the ground, they will provide a source of nitrogen for their neighbor. Similarly, Lens protocol is a composable and decentralized social graph which lets creators take ownership of their content wherever they go in the digital garden of the decentralized internet. Technology Creating a profile on Lens Protocol generates a composable non-fungible token (NFT) that stores content, comments, likes, and reposts, and is associated with a wallet address. The NFTs created can be traded and collected, and content creators can control who can obtain their publications. Additionally, creators can monetize their social media by requiring payment for certain content and setting up subscriptions. Because Lens Protocol is on the Polygon blockchain, applications can be deployed to any chain. Tokenization The Lens protocol has three layers of tokenization via ERC721 NFTs. All three are ERC721-compliant and fully composable. The LensHub upgradeable contract is the core entry point for the majority of interactions in the Lens Protocol. Nearly all interactions begin and double as the ERC721 NFT contract for profile NFTs, which are minted upon profile creation. Upon a profile's first follow, a FollowNFT contract is deployed (via minimal proxy cloning), unique to the profile; this is the ERC721 NFT contract that represents follower positions. Lastly, upon a publication's first collect, a CollectNFT contract is deployed (via minimal proxy cloning), unique to the publication; this is the ERC721 NFT contract that represents collected publications. Lens Protocol Features Profile NFTs Each profile is assigned an NFT. Data associated with the content and its interactions are stored on the token. Wallets can own multiple profile NFTs if desired. To avoid squatting, only addresses whitelisted by governance can create profiles. Applications requiring multiple user profiles can contact the team via Discord for assistance\n",
            "Content for wikiid 'lens-protocol': Lens Protocol Features Profile NFTs Each profile is assigned an NFT. Data associated with the content and its interactions are stored on the token. Wallets can own multiple profile NFTs if desired. To avoid squatting, only addresses whitelisted by governance can create profiles. Applications requiring multiple user profiles can contact the team via Discord for assistance. Follow NFTs Receiving a Follow NFT grants the holder a rarity ranking and utility. Some utility tools may include voting rights if provided by the individual being followed. Publication Lens Protocol uses the term \"Publication\" to refer to content such as videos, photos, music, and text that can be posted onto a Profile NFT. Posting content directly to a Profile NFT can help ensure the ownership of the content. Collect Collects allow creators to monetize their content. Because creators own their content via the Lens Protocol, they are able to allow their followers to purchase that content. When a user posts a publication to their Profile NFT they have the option to set a Collect Module. This module will allow other users to mint NFTs that link to the publication's ContentURI. This module can contain any arbitrary logic to apply to the minting process and the resulting NFT. Mirror Mirrors are the curation tool of the Lens Protocol. They are the protocol's equivalent to reposting or re-amplifying content. Mirrors are treated the same as publications with a few additional checks and a few more minor features. Partners Arweave IPFS LitProtocol XMTP Dispatch OpenSea Zerion Alchemy ENS Gelato Livepeer POAP PoH Polygon Push Sybil.org Toucan WorldCoin Tellie Featured on Lens Lenster Buttrfly DumplingTV Lenstube Orb Phaver Re:Meme Lensta <br\n"
          ]
        }
      ]
    },
    {
      "cell_type": "code",
      "source": [
        "row_numbers = df_exploded.query(\"wikiid == 'lens-protocol'\").index\n",
        "print(\"Row numbers with wikiid 'lens-protocol':\", list(row_numbers))"
      ],
      "metadata": {
        "colab": {
          "base_uri": "https://localhost:8080/"
        },
        "id": "SuIUPWJjZkin",
        "outputId": "b28b0803-98c8-49f4-8eef-e1feb1ea5460"
      },
      "execution_count": 67,
      "outputs": [
        {
          "output_type": "stream",
          "name": "stdout",
          "text": [
            "Row numbers with wikiid 'lens-protocol': [284, 285, 286]\n"
          ]
        }
      ]
    },
    {
      "cell_type": "code",
      "source": [
        "tiktoken_len(df_exploded.iloc[284,2])"
      ],
      "metadata": {
        "colab": {
          "base_uri": "https://localhost:8080/"
        },
        "id": "3Zo-FbiIaElk",
        "outputId": "b203a75c-459f-4191-d58e-631e75aa7d77"
      },
      "execution_count": 68,
      "outputs": [
        {
          "output_type": "execute_result",
          "data": {
            "text/plain": [
              "389"
            ]
          },
          "metadata": {},
          "execution_count": 68
        }
      ]
    },
    {
      "cell_type": "code",
      "source": [
        "# Applying the tiktoken_len function to the content column and storing results in a list\n",
        "token_lengths = [tiktoken_len(content) for content in df_exploded['chunks']]\n",
        "\n",
        "# Calculate min, max, and average token lengths\n",
        "min_token_length = min(token_lengths)\n",
        "max_token_length = max(token_lengths)\n",
        "average_token_length = sum(token_lengths) / len(token_lengths)\n",
        "\n",
        "print(f\"Minimum token length: {min_token_length}\")\n",
        "print(f\"Maximum token length: {max_token_length}\")\n",
        "print(f\"Average token length: {average_token_length}\")"
      ],
      "metadata": {
        "colab": {
          "base_uri": "https://localhost:8080/"
        },
        "id": "R8yui26ZaYjr",
        "outputId": "3156c20d-6052-4877-e153-08fa0b27f2c5"
      },
      "execution_count": 69,
      "outputs": [
        {
          "output_type": "stream",
          "name": "stdout",
          "text": [
            "Minimum token length: 1\n",
            "Maximum token length: 401\n",
            "Average token length: 339.35114822546973\n"
          ]
        }
      ]
    },
    {
      "cell_type": "code",
      "source": [
        "import matplotlib.pyplot as plt\n",
        "import seaborn as sns\n",
        "\n",
        "# set style and color palette for the plot\n",
        "sns.set_style(\"whitegrid\")\n",
        "sns.set_palette(\"muted\")\n",
        "\n",
        "# create histogram\n",
        "plt.figure(figsize=(12, 6))\n",
        "sns.histplot(token_lengths, kde=False, bins=50)\n",
        "\n",
        "# customize the plot info\n",
        "plt.title(\"Token lengths Histogram\")\n",
        "plt.xlabel(\"Token Length\")\n",
        "plt.ylabel(\"Frequency\")\n",
        "\n",
        "plt.show()"
      ],
      "metadata": {
        "colab": {
          "base_uri": "https://localhost:8080/",
          "height": 564
        },
        "id": "dyYemS8-bQED",
        "outputId": "383ea5f8-e087-4577-f71d-3cf81611a81b"
      },
      "execution_count": 70,
      "outputs": [
        {
          "output_type": "display_data",
          "data": {
            "text/plain": [
              "<Figure size 1200x600 with 1 Axes>"
            ],
            "image/png": "[encoded data removed]"
          },
          "metadata": {}
        }
      ]
    },
    {
      "cell_type": "code",
      "source": [
        "!pip install supabase"
      ],
      "metadata": {
        "colab": {
          "base_uri": "https://localhost:8080/"
        },
        "id": "pE6R6P_RbrE1",
        "outputId": "216846be-ba37-433f-b7b1-21a118a5f0ad"
      },
      "execution_count": 52,
      "outputs": [
        {
          "output_type": "stream",
          "name": "stdout",
          "text": [
            "Looking in indexes: https://pypi.org/simple, https://us-python.pkg.dev/colab-wheels/public/simple/\n",
            "Collecting supabase\n",
            "  Downloading supabase-1.0.3-py3-none-any.whl (11 kB)\n",
            "Collecting gotrue<2.0.0,>=1.0.1\n",
            "  Downloading gotrue-1.0.1-py3-none-any.whl (48 kB)\n",
            "\u001b[2K     \u001b[90m━━━━━━━━━━━━━━━━━━━━━━━━━━━━━━━━━━━━━━━━\u001b[0m \u001b[32m48.4/48.4 KB\u001b[0m \u001b[31m5.7 MB/s\u001b[0m eta \u001b[36m0:00:00\u001b[0m\n",
            "\u001b[?25hCollecting supafunc<0.3.0,>=0.2.2\n",
            "  Downloading supafunc-0.2.2-py3-none-any.whl (2.8 kB)\n",
            "Collecting python-semantic-release==7.33.2\n",
            "  Downloading python_semantic_release-7.33.2-py3-none-any.whl (55 kB)\n",
            "\u001b[2K     \u001b[90m━━━━━━━━━━━━━━━━━━━━━━━━━━━━━━━━━━━━━━━━\u001b[0m \u001b[32m55.1/55.1 KB\u001b[0m \u001b[31m5.2 MB/s\u001b[0m eta \u001b[36m0:00:00\u001b[0m\n",
            "\u001b[?25hCollecting realtime<2.0.0,>=1.0.0\n",
            "  Downloading realtime-1.0.0-py3-none-any.whl (8.0 kB)\n",
            "Collecting httpx<0.24.0,>=0.23.0\n",
            "  Downloading httpx-0.23.3-py3-none-any.whl (71 kB)\n",
            "\u001b[2K     \u001b[90m━━━━━━━━━━━━━━━━━━━━━━━━━━━━━━━━━━━━━━━━\u001b[0m \u001b[32m71.5/71.5 KB\u001b[0m \u001b[31m8.4 MB/s\u001b[0m eta \u001b[36m0:00:00\u001b[0m\n",
            "\u001b[?25hCollecting postgrest<0.11.0,>=0.10.6\n",
            "  Downloading postgrest-0.10.6-py3-none-any.whl (18 kB)\n",
            "Collecting storage3<0.6.0,>=0.5.2\n",
            "  Downloading storage3-0.5.2-py3-none-any.whl (13 kB)\n",
            "Collecting invoke<2,>=1.4.1\n",
            "  Downloading invoke-1.7.3-py3-none-any.whl (216 kB)\n",
            "\u001b[2K     \u001b[90m━━━━━━━━━━━━━━━━━━━━━━━━━━━━━━━━━━━━━━\u001b[0m \u001b[32m216.4/216.4 KB\u001b[0m \u001b[31m22.1 MB/s\u001b[0m eta \u001b[36m0:00:00\u001b[0m\n",
            "\u001b[?25hCollecting python-gitlab<4,>=2\n",
            "  Downloading python_gitlab-3.13.0-py3-none-any.whl (134 kB)\n",
            "\u001b[2K     \u001b[90m━━━━━━━━━━━━━━━━━━━━━━━━━━━━━━━━━━━━━━\u001b[0m \u001b[32m134.4/134.4 KB\u001b[0m \u001b[31m16.1 MB/s\u001b[0m eta \u001b[36m0:00:00\u001b[0m\n",
            "\u001b[?25hCollecting gitpython<4,>=3.0.8\n",
            "  Downloading GitPython-3.1.31-py3-none-any.whl (184 kB)\n",
            "\u001b[2K     \u001b[90m━━━━━━━━━━━━━━━━━━━━━━━━━━━━━━━━━━━━━━\u001b[0m \u001b[32m184.3/184.3 KB\u001b[0m \u001b[31m22.9 MB/s\u001b[0m eta \u001b[36m0:00:00\u001b[0m\n",
            "\u001b[?25hRequirement already satisfied: wheel in /usr/local/lib/python3.9/dist-packages (from python-semantic-release==7.33.2->supabase) (0.40.0)\n",
            "Collecting click-log<1,>=0.3\n",
            "  Downloading click_log-0.4.0-py2.py3-none-any.whl (4.3 kB)\n",
            "Requirement already satisfied: packaging in /usr/local/lib/python3.9/dist-packages (from python-semantic-release==7.33.2->supabase) (23.0)\n",
            "Collecting twine<4,>=3\n",
            "  Downloading twine-3.8.0-py3-none-any.whl (36 kB)\n",
            "Collecting tomlkit~=0.10\n",
            "  Downloading tomlkit-0.11.7-py3-none-any.whl (35 kB)\n",
            "Requirement already satisfied: click<9,>=7 in /usr/local/lib/python3.9/dist-packages (from python-semantic-release==7.33.2->supabase) (8.1.3)\n",
            "Collecting semver<3,>=2.10\n",
            "  Downloading semver-2.13.0-py2.py3-none-any.whl (12 kB)\n",
            "Collecting dotty-dict<2,>=1.3.0\n",
            "  Downloading dotty_dict-1.3.1-py3-none-any.whl (7.0 kB)\n",
            "Requirement already satisfied: requests<3,>=2.25 in /usr/local/lib/python3.9/dist-packages (from python-semantic-release==7.33.2->supabase) (2.27.1)\n",
            "Requirement already satisfied: pydantic<2.0.0,>=1.10.0 in /usr/local/lib/python3.9/dist-packages (from gotrue<2.0.0,>=1.0.1->supabase) (1.10.7)\n",
            "Requirement already satisfied: certifi in /usr/local/lib/python3.9/dist-packages (from httpx<0.24.0,>=0.23.0->supabase) (2022.12.7)\n",
            "Collecting httpcore<0.17.0,>=0.15.0\n",
            "  Downloading httpcore-0.16.3-py3-none-any.whl (69 kB)\n",
            "\u001b[2K     \u001b[90m━━━━━━━━━━━━━━━━━━━━━━━━━━━━━━━━━━━━━━━━\u001b[0m \u001b[32m69.6/69.6 KB\u001b[0m \u001b[31m10.5 MB/s\u001b[0m eta \u001b[36m0:00:00\u001b[0m\n",
            "\u001b[?25hCollecting rfc3986[idna2008]<2,>=1.3\n",
            "  Downloading rfc3986-1.5.0-py2.py3-none-any.whl (31 kB)\n",
            "Requirement already satisfied: sniffio in /usr/local/lib/python3.9/dist-packages (from httpx<0.24.0,>=0.23.0->supabase) (1.3.0)\n",
            "Collecting deprecation<3.0.0,>=2.1.0\n",
            "  Downloading deprecation-2.1.0-py2.py3-none-any.whl (11 kB)\n",
            "Collecting strenum<0.5.0,>=0.4.9\n",
            "  Downloading StrEnum-0.4.10-py3-none-any.whl (7.7 kB)\n",
            "Requirement already satisfied: typing-extensions<5.0.0,>=4.2.0 in /usr/local/lib/python3.9/dist-packages (from realtime<2.0.0,>=1.0.0->supabase) (4.5.0)\n",
            "Requirement already satisfied: python-dateutil<3.0.0,>=2.8.1 in /usr/local/lib/python3.9/dist-packages (from realtime<2.0.0,>=1.0.0->supabase) (2.8.2)\n",
            "Collecting websockets<11.0,>=10.3\n",
            "  Downloading websockets-10.4-cp39-cp39-manylinux_2_5_x86_64.manylinux1_x86_64.manylinux_2_17_x86_64.manylinux2014_x86_64.whl (106 kB)\n",
            "\u001b[2K     \u001b[90m━━━━━━━━━━━━━━━━━━━━━━━━━━━━━━━━━━━━━━\u001b[0m \u001b[32m106.5/106.5 KB\u001b[0m \u001b[31m16.2 MB/s\u001b[0m eta \u001b[36m0:00:00\u001b[0m\n",
            "\u001b[?25hCollecting gitdb<5,>=4.0.1\n",
            "  Downloading gitdb-4.0.10-py3-none-any.whl (62 kB)\n",
            "\u001b[2K     \u001b[90m━━━━━━━━━━━━━━━━━━━━━━━━━━━━━━━━━━━━━━━━\u001b[0m \u001b[32m62.7/62.7 KB\u001b[0m \u001b[31m9.7 MB/s\u001b[0m eta \u001b[36m0:00:00\u001b[0m\n",
            "\u001b[?25hCollecting h11<0.15,>=0.13\n",
            "  Downloading h11-0.14.0-py3-none-any.whl (58 kB)\n",
            "\u001b[2K     \u001b[90m━━━━━━━━━━━━━━━━━━━━━━━━━━━━━━━━━━━━━━━━\u001b[0m \u001b[32m58.3/58.3 KB\u001b[0m \u001b[31m9.0 MB/s\u001b[0m eta \u001b[36m0:00:00\u001b[0m\n",
            "\u001b[?25hRequirement already satisfied: anyio<5.0,>=3.0 in /usr/local/lib/python3.9/dist-packages (from httpcore<0.17.0,>=0.15.0->httpx<0.24.0,>=0.23.0->supabase) (3.6.2)\n",
            "Requirement already satisfied: six>=1.5 in /usr/local/lib/python3.9/dist-packages (from python-dateutil<3.0.0,>=2.8.1->realtime<2.0.0,>=1.0.0->supabase) (1.16.0)\n",
            "Collecting requests-toolbelt>=0.10.1\n",
            "  Downloading requests_toolbelt-0.10.1-py2.py3-none-any.whl (54 kB)\n",
            "\u001b[2K     \u001b[90m━━━━━━━━━━━━━━━━━━━━━━━━━━━━━━━━━━━━━━━━\u001b[0m \u001b[32m54.5/54.5 KB\u001b[0m \u001b[31m7.4 MB/s\u001b[0m eta \u001b[36m0:00:00\u001b[0m\n",
            "\u001b[?25hRequirement already satisfied: idna<4,>=2.5 in /usr/local/lib/python3.9/dist-packages (from requests<3,>=2.25->python-semantic-release==7.33.2->supabase) (3.4)\n",
            "Requirement already satisfied: urllib3<1.27,>=1.21.1 in /usr/local/lib/python3.9/dist-packages (from requests<3,>=2.25->python-semantic-release==7.33.2->supabase) (1.26.15)\n",
            "Requirement already satisfied: charset-normalizer~=2.0.0 in /usr/local/lib/python3.9/dist-packages (from requests<3,>=2.25->python-semantic-release==7.33.2->supabase) (2.0.12)\n",
            "Collecting pkginfo>=1.8.1\n",
            "  Downloading pkginfo-1.9.6-py3-none-any.whl (30 kB)\n",
            "Requirement already satisfied: importlib-metadata>=3.6 in /usr/local/lib/python3.9/dist-packages (from twine<4,>=3->python-semantic-release==7.33.2->supabase) (6.1.0)\n",
            "Requirement already satisfied: tqdm>=4.14 in /usr/local/lib/python3.9/dist-packages (from twine<4,>=3->python-semantic-release==7.33.2->supabase) (4.65.0)\n",
            "Collecting readme-renderer>=21.0\n",
            "  Downloading readme_renderer-37.3-py3-none-any.whl (14 kB)\n",
            "Collecting keyring>=15.1\n",
            "  Downloading keyring-23.13.1-py3-none-any.whl (37 kB)\n",
            "Collecting colorama>=0.4.3\n",
            "  Downloading colorama-0.4.6-py2.py3-none-any.whl (25 kB)\n",
            "Collecting smmap<6,>=3.0.1\n",
            "  Downloading smmap-5.0.0-py3-none-any.whl (24 kB)\n",
            "Requirement already satisfied: zipp>=0.5 in /usr/local/lib/python3.9/dist-packages (from importlib-metadata>=3.6->twine<4,>=3->python-semantic-release==7.33.2->supabase) (3.15.0)\n",
            "Collecting jeepney>=0.4.2\n",
            "  Downloading jeepney-0.8.0-py3-none-any.whl (48 kB)\n",
            "\u001b[2K     \u001b[90m━━━━━━━━━━━━━━━━━━━━━━━━━━━━━━━━━━━━━━━━\u001b[0m \u001b[32m48.4/48.4 KB\u001b[0m \u001b[31m7.6 MB/s\u001b[0m eta \u001b[36m0:00:00\u001b[0m\n",
            "\u001b[?25hCollecting SecretStorage>=3.2\n",
            "  Downloading SecretStorage-3.3.3-py3-none-any.whl (15 kB)\n",
            "Collecting jaraco.classes\n",
            "  Downloading jaraco.classes-3.2.3-py3-none-any.whl (6.0 kB)\n",
            "Requirement already satisfied: docutils>=0.13.1 in /usr/local/lib/python3.9/dist-packages (from readme-renderer>=21.0->twine<4,>=3->python-semantic-release==7.33.2->supabase) (0.16)\n",
            "Requirement already satisfied: bleach>=2.1.0 in /usr/local/lib/python3.9/dist-packages (from readme-renderer>=21.0->twine<4,>=3->python-semantic-release==7.33.2->supabase) (6.0.0)\n",
            "Requirement already satisfied: Pygments>=2.5.1 in /usr/local/lib/python3.9/dist-packages (from readme-renderer>=21.0->twine<4,>=3->python-semantic-release==7.33.2->supabase) (2.14.0)\n",
            "Requirement already satisfied: webencodings in /usr/local/lib/python3.9/dist-packages (from bleach>=2.1.0->readme-renderer>=21.0->twine<4,>=3->python-semantic-release==7.33.2->supabase) (0.5.1)\n",
            "Requirement already satisfied: cryptography>=2.0 in /usr/local/lib/python3.9/dist-packages (from SecretStorage>=3.2->keyring>=15.1->twine<4,>=3->python-semantic-release==7.33.2->supabase) (40.0.1)\n",
            "Requirement already satisfied: more-itertools in /usr/local/lib/python3.9/dist-packages (from jaraco.classes->keyring>=15.1->twine<4,>=3->python-semantic-release==7.33.2->supabase) (9.1.0)\n",
            "Requirement already satisfied: cffi>=1.12 in /usr/local/lib/python3.9/dist-packages (from cryptography>=2.0->SecretStorage>=3.2->keyring>=15.1->twine<4,>=3->python-semantic-release==7.33.2->supabase) (1.15.1)\n",
            "Requirement already satisfied: pycparser in /usr/local/lib/python3.9/dist-packages (from cffi>=1.12->cryptography>=2.0->SecretStorage>=3.2->keyring>=15.1->twine<4,>=3->python-semantic-release==7.33.2->supabase) (2.21)\n",
            "Installing collected packages: strenum, rfc3986, invoke, websockets, tomlkit, smmap, semver, pkginfo, jeepney, jaraco.classes, h11, dotty-dict, deprecation, colorama, click-log, requests-toolbelt, realtime, readme-renderer, httpcore, gitdb, SecretStorage, python-gitlab, httpx, gitpython, supafunc, storage3, postgrest, keyring, gotrue, twine, python-semantic-release, supabase\n",
            "Successfully installed SecretStorage-3.3.3 click-log-0.4.0 colorama-0.4.6 deprecation-2.1.0 dotty-dict-1.3.1 gitdb-4.0.10 gitpython-3.1.31 gotrue-1.0.1 h11-0.14.0 httpcore-0.16.3 httpx-0.23.3 invoke-1.7.3 jaraco.classes-3.2.3 jeepney-0.8.0 keyring-23.13.1 pkginfo-1.9.6 postgrest-0.10.6 python-gitlab-3.13.0 python-semantic-release-7.33.2 readme-renderer-37.3 realtime-1.0.0 requests-toolbelt-0.10.1 rfc3986-1.5.0 semver-2.13.0 smmap-5.0.0 storage3-0.5.2 strenum-0.4.10 supabase-1.0.3 supafunc-0.2.2 tomlkit-0.11.7 twine-3.8.0 websockets-10.4\n"
          ]
        }
      ]
    },
    {
      "cell_type": "code",
      "source": [
        "!pip install openai"
      ],
      "metadata": {
        "colab": {
          "base_uri": "https://localhost:8080/"
        },
        "id": "K44WN9MIb2Gz",
        "outputId": "99114fb1-cbbb-4bbd-c3d5-01a8d6749559"
      },
      "execution_count": 53,
      "outputs": [
        {
          "output_type": "stream",
          "name": "stdout",
          "text": [
            "Looking in indexes: https://pypi.org/simple, https://us-python.pkg.dev/colab-wheels/public/simple/\n",
            "Collecting openai\n",
            "  Downloading openai-0.27.4-py3-none-any.whl (70 kB)\n",
            "\u001b[2K     \u001b[90m━━━━━━━━━━━━━━━━━━━━━━━━━━━━━━━━━━━━━━━━\u001b[0m \u001b[32m70.3/70.3 KB\u001b[0m \u001b[31m10.2 MB/s\u001b[0m eta \u001b[36m0:00:00\u001b[0m\n",
            "\u001b[?25hRequirement already satisfied: requests>=2.20 in /usr/local/lib/python3.9/dist-packages (from openai) (2.27.1)\n",
            "Requirement already satisfied: tqdm in /usr/local/lib/python3.9/dist-packages (from openai) (4.65.0)\n",
            "Requirement already satisfied: aiohttp in /usr/local/lib/python3.9/dist-packages (from openai) (3.8.4)\n",
            "Requirement already satisfied: idna<4,>=2.5 in /usr/local/lib/python3.9/dist-packages (from requests>=2.20->openai) (3.4)\n",
            "Requirement already satisfied: charset-normalizer~=2.0.0 in /usr/local/lib/python3.9/dist-packages (from requests>=2.20->openai) (2.0.12)\n",
            "Requirement already satisfied: urllib3<1.27,>=1.21.1 in /usr/local/lib/python3.9/dist-packages (from requests>=2.20->openai) (1.26.15)\n",
            "Requirement already satisfied: certifi>=2017.4.17 in /usr/local/lib/python3.9/dist-packages (from requests>=2.20->openai) (2022.12.7)\n",
            "Requirement already satisfied: yarl<2.0,>=1.0 in /usr/local/lib/python3.9/dist-packages (from aiohttp->openai) (1.8.2)\n",
            "Requirement already satisfied: async-timeout<5.0,>=4.0.0a3 in /usr/local/lib/python3.9/dist-packages (from aiohttp->openai) (4.0.2)\n",
            "Requirement already satisfied: attrs>=17.3.0 in /usr/local/lib/python3.9/dist-packages (from aiohttp->openai) (22.2.0)\n",
            "Requirement already satisfied: aiosignal>=1.1.2 in /usr/local/lib/python3.9/dist-packages (from aiohttp->openai) (1.3.1)\n",
            "Requirement already satisfied: frozenlist>=1.1.1 in /usr/local/lib/python3.9/dist-packages (from aiohttp->openai) (1.3.3)\n",
            "Requirement already satisfied: multidict<7.0,>=4.5 in /usr/local/lib/python3.9/dist-packages (from aiohttp->openai) (6.0.4)\n",
            "Installing collected packages: openai\n",
            "Successfully installed openai-0.27.4\n"
          ]
        }
      ]
    },
    {
      "cell_type": "code",
      "source": [
        "import os\n",
        "import openai\n",
        "from getpass import getpass\n",
        "\n",
        "openai.api_key = getpass()"
      ],
      "metadata": {
        "colab": {
          "base_uri": "https://localhost:8080/"
        },
        "id": "YFe3UVcycKQR",
        "outputId": "4747039e-07f9-4fd0-d296-6536f08c58a3"
      },
      "execution_count": 54,
      "outputs": [
        {
          "name": "stdout",
          "output_type": "stream",
          "text": [
            "··········\n"
          ]
        }
      ]
    },
    {
      "cell_type": "code",
      "source": [
        "import numpy as np\n",
        "import supabase\n",
        "supabase_url = 'https://wpisaiqtaoykjwwszlan.supabase.co'\n",
        "supabase_key = 'PRIVATE'\n",
        "supabase_client = supabase.Client(supabase_url, supabase_key)"
      ],
      "metadata": {
        "id": "X2KNU5HdcXDR"
      },
      "execution_count": 56,
      "outputs": []
    },
    {
      "cell_type": "code",
      "source": [
        "def get_embedding(text, engine=\"text-embedding-ada-002\"):\n",
        "   text = text.replace(\"\\n\", \" \")\n",
        "   return openai.Embedding.create(input = [text], model=engine)['data'][0]['embedding']"
      ],
      "metadata": {
        "id": "RsleiT6OdnOT"
      },
      "execution_count": 87,
      "outputs": []
    },
    {
      "cell_type": "code",
      "source": [
        "def generate_embedding(row):\n",
        "    content = row['chunks']\n",
        "    return get_embedding(content)"
      ],
      "metadata": {
        "id": "LVmssyv-otsl"
      },
      "execution_count": 81,
      "outputs": []
    },
    {
      "cell_type": "code",
      "source": [
        "for i in range(0, 4790):\n",
        "    embeddings = get_embedding(df_exploded.iloc[i,2])\n",
        "    supabase_client.table(\"langchain_split\").insert({\"wikiid\":df_exploded.iloc[i,0], \"title\": df_exploded.iloc[i,1], \"content\": df_exploded.iloc[i,2], \"embedding\": embeddings }).execute()"
      ],
      "metadata": {
        "id": "SJNIm-zgd0yO"
      },
      "execution_count": 88,
      "outputs": []
    },
    {
      "cell_type": "code",
      "source": [],
      "metadata": {
        "id": "LuHeB4nHeV0H"
      },
      "execution_count": null,
      "outputs": []
    }
  ]
}